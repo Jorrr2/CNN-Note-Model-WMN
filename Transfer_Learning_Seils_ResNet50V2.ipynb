{
  "nbformat": 4,
  "nbformat_minor": 0,
  "metadata": {
    "hide_input": false,
    "kernelspec": {
      "name": "python3",
      "display_name": "Python 3"
    },
    "language_info": {
      "codemirror_mode": {
        "name": "ipython",
        "version": 3
      },
      "file_extension": ".py",
      "mimetype": "text/x-python",
      "name": "python",
      "nbconvert_exporter": "python",
      "pygments_lexer": "ipython3",
      "version": "3.7.3"
    },
    "varInspector": {
      "cols": {
        "lenName": 16,
        "lenType": 16,
        "lenVar": 40
      },
      "kernels_config": {
        "python": {
          "delete_cmd_postfix": "",
          "delete_cmd_prefix": "del ",
          "library": "var_list.py",
          "varRefreshCmd": "print(var_dic_list())"
        },
        "r": {
          "delete_cmd_postfix": ") ",
          "delete_cmd_prefix": "rm(",
          "library": "var_list.r",
          "varRefreshCmd": "cat(var_dic_list()) "
        }
      },
      "types_to_exclude": [
        "module",
        "function",
        "builtin_function_or_method",
        "instance",
        "_Feature"
      ],
      "window_display": false
    },
    "colab": {
      "name": "Transfer_Learning_Seils - ResNet50V2.ipynb",
      "provenance": [],
      "collapsed_sections": [],
      "toc_visible": true
    },
    "accelerator": "GPU"
  },
  "cells": [
    {
      "cell_type": "code",
      "metadata": {
        "ExecuteTime": {
          "end_time": "2019-11-25T15:20:26.166835Z",
          "start_time": "2019-11-25T15:20:26.157377Z"
        },
        "id": "cbXfO75vtFT0",
        "colab_type": "code",
        "outputId": "f5623265-2cd1-42f8-b85b-fbe9bdd75b17",
        "colab": {
          "base_uri": "https://localhost:8080/",
          "height": 80
        }
      },
      "source": [
        "#importing packages\n",
        "import tensorflow as tf\n",
        "from tensorflow import keras\n",
        "from keras.utils import plot_model\n",
        "from tensorflow.keras import layers, applications, optimizers\n",
        "from keras import regularizers\n",
        "from tensorflow.keras.models import Sequential, load_model, Model\n",
        "from tensorflow.keras.layers import Dense, Conv2D, Flatten, Dropout, MaxPooling2D, BatchNormalization, LeakyReLU, GlobalAveragePooling2D, ZeroPadding2D, Input\n",
        "from tensorflow.keras.preprocessing.image import ImageDataGenerator\n",
        "from tensorflow.keras.callbacks import ReduceLROnPlateau, ModelCheckpoint, LearningRateScheduler, TensorBoard, EarlyStopping\n",
        "from tensorflow.keras.preprocessing.image import ImageDataGenerator, img_to_array\n",
        "\n",
        "from sklearn.preprocessing import MultiLabelBinarizer, LabelBinarizer\n",
        "from sklearn.model_selection import train_test_split\n",
        "from sklearn.metrics import classification_report\n",
        "from scipy import ndimage, misc\n",
        "\n",
        "from imgaug import augmenters as iaa\n",
        "import imgaug as ia\n",
        "\n",
        "import numpy as np\n",
        "import matplotlib.pyplot as plt\n",
        "from imutils import paths\n",
        "import imutils\n",
        "import random\n",
        "import pickle\n",
        "import cv2\n",
        "import os\n",
        "import argparse\n",
        "import re\n",
        "from PIL import Image\n",
        "from numpy import *\n",
        "from glob import glob\n",
        "from datetime import datetime\n",
        "from shutil import copyfile\n",
        " \n",
        "import pandas as pd    \n",
        "pd.set_option('display.max_rows', 500)\n",
        "\n",
        "import warnings\n",
        "warnings.filterwarnings('ignore')\n",
        "\n",
        "from IPython.core.interactiveshell import InteractiveShell #multiple outputs in notebook\n",
        "InteractiveShell.ast_node_interactivity = \"all\"            #\n",
        "\n",
        "random.seed(42)"
      ],
      "execution_count": 2,
      "outputs": [
        {
          "output_type": "display_data",
          "data": {
            "text/html": [
              "<p style=\"color: red;\">\n",
              "The default version of TensorFlow in Colab will soon switch to TensorFlow 2.x.<br>\n",
              "We recommend you <a href=\"https://www.tensorflow.org/guide/migrate\" target=\"_blank\">upgrade</a> now \n",
              "or ensure your notebook will continue to use TensorFlow 1.x via the <code>%tensorflow_version 1.x</code> magic:\n",
              "<a href=\"https://colab.research.google.com/notebooks/tensorflow_version.ipynb\" target=\"_blank\">more info</a>.</p>\n"
            ],
            "text/plain": [
              "<IPython.core.display.HTML object>"
            ]
          },
          "metadata": {
            "tags": []
          }
        },
        {
          "output_type": "stream",
          "text": [
            "Using TensorFlow backend.\n"
          ],
          "name": "stderr"
        }
      ]
    },
    {
      "cell_type": "code",
      "metadata": {
        "id": "x2bRtgB_Rimo",
        "colab_type": "code",
        "colab": {
          "base_uri": "https://localhost:8080/",
          "height": 51
        },
        "outputId": "5912aa96-8f63-425e-c348-e0ab223691e4"
      },
      "source": [
        "print(tf.__version__)\n",
        "print(keras.backend.backend())"
      ],
      "execution_count": 3,
      "outputs": [
        {
          "output_type": "stream",
          "text": [
            "1.15.0\n",
            "tensorflow\n"
          ],
          "name": "stdout"
        }
      ]
    },
    {
      "cell_type": "code",
      "metadata": {
        "ExecuteTime": {
          "end_time": "2019-11-25T15:07:49.324648Z",
          "start_time": "2019-11-25T15:07:49.321995Z"
        },
        "code_folding": [],
        "id": "E18E1sfztFT4",
        "colab_type": "code",
        "colab": {}
      },
      "source": [
        "# optional\n",
        "dir_dataset = \"/Users/annaleid/Documents/Jordy Final/Dataset Seils/notes_aug_seils\""
      ],
      "execution_count": 0,
      "outputs": []
    },
    {
      "cell_type": "code",
      "metadata": {
        "ExecuteTime": {
          "end_time": "2019-11-25T15:07:52.737083Z",
          "start_time": "2019-11-25T15:07:52.732025Z"
        },
        "id": "0Q2Jba23tFT5",
        "colab_type": "code",
        "colab": {}
      },
      "source": [
        "def plotImages(images_arr, name):\n",
        "    random.shuffle(images_arr)\n",
        "    fig, axes = plt.subplots(1,10, figsize=(20,20))\n",
        "    axes = axes.flatten()\n",
        "    for img, ax in zip(images_arr, axes):\n",
        "        ax.imshow(img.astype('uint8'), cmap = 'gray')\n",
        "        ax.axis('off')\n",
        "    plt.tight_layout()\n",
        "    plt.show()\n",
        "    fig.savefig('{}.png'.format(name))"
      ],
      "execution_count": 0,
      "outputs": []
    },
    {
      "cell_type": "code",
      "metadata": {
        "code_folding": [
          0
        ],
        "id": "NA2rTPB5tFT8",
        "colab_type": "code",
        "colab": {}
      },
      "source": [
        "#google Colab\n",
        "from google.colab import drive\n",
        "drive.mount('/content/drive', force_remount=True)"
      ],
      "execution_count": 0,
      "outputs": []
    },
    {
      "cell_type": "code",
      "metadata": {
        "code_folding": [
          0
        ],
        "id": "5NrtXW5ytFT9",
        "colab_type": "code",
        "colab": {}
      },
      "source": [
        "#google Colab\n",
        "!unzip drive/My\\ Drive/notes_aug_heavy_seils.zip\n",
        "\n",
        "OUTPUT = \"notes_aug_heavy_seils/\""
      ],
      "execution_count": 0,
      "outputs": []
    },
    {
      "cell_type": "code",
      "metadata": {
        "ExecuteTime": {
          "end_time": "2019-11-25T15:08:00.353730Z",
          "start_time": "2019-11-25T15:08:00.350031Z"
        },
        "id": "YvWQOx9AtFT_",
        "colab_type": "code",
        "colab": {}
      },
      "source": [
        "# initialize image dimensions\n",
        "IMAGE_DIMS = (158, 100, 3)\n",
        "scale_percent = 100\n",
        "\n",
        "width = int(IMAGE_DIMS[1] * scale_percent / 100)\n",
        "height = int(IMAGE_DIMS[0] * scale_percent / 100)"
      ],
      "execution_count": 0,
      "outputs": []
    },
    {
      "cell_type": "code",
      "metadata": {
        "ExecuteTime": {
          "end_time": "2019-11-25T15:09:22.366656Z",
          "start_time": "2019-11-25T15:08:35.126707Z"
        },
        "id": "U-1J6lxAtFUB",
        "colab_type": "code",
        "colab": {}
      },
      "source": [
        "# grab the image paths and randomly shuffle them\n",
        "random.seed(42)\n",
        "imagePaths = sorted(list(paths.list_images(OUTPUT)))\n",
        "random.shuffle(imagePaths)\n",
        "\n",
        "# initialize the data and labels\n",
        "images_train = []\n",
        "data_train = []\n",
        "noteLabels = []\n",
        "durationLabels = []\n",
        "\n",
        "# create preprocessed lists of images\n",
        "for imagePath in imagePaths:\n",
        "    image = cv2.imread(imagePath, cv2.IMREAD_GRAYSCALE)\n",
        "    image = cv2.resize(image, (width, height))\n",
        "    ret1, image = cv2.threshold(image,127,255,cv2.THRESH_OTSU)\n",
        "    image = cv2.cvtColor(image, cv2.COLOR_GRAY2RGB) #TL model needs colored, 3 channel images as input\n",
        "    image = ndimage.median_filter(image, size=2)\n",
        "    images_train.append(image)\n",
        "    image = image.astype(\"float\") / 255.0\n",
        "    image = img_to_array(image)\n",
        "    data_train.append(image)\n",
        "    \n",
        "    # extract set of class labels from the image path and update the labels\n",
        "    filename = imagePath.split(os.path.sep)[-1]\n",
        "    duration = re.search('(breve|longa|\\d\\.?)', filename).group()\n",
        "    note = re.search('([a-z]\\'*|^\\w{1}\\'*)', filename).group()\n",
        "    noteLabels.append(note)\n",
        "    durationLabels.append(duration)"
      ],
      "execution_count": 0,
      "outputs": []
    },
    {
      "cell_type": "code",
      "metadata": {
        "ExecuteTime": {
          "end_time": "2019-11-25T15:10:36.195909Z",
          "start_time": "2019-11-25T15:10:35.718771Z"
        },
        "id": "YCfqHoxUtFUC",
        "colab_type": "code",
        "outputId": "65353433-395f-47c4-ae47-4d5553b4e6b8",
        "colab": {
          "base_uri": "https://localhost:8080/",
          "height": 280
        }
      },
      "source": [
        "plotImages(images_train, 'images_train')"
      ],
      "execution_count": 9,
      "outputs": [
        {
          "output_type": "display_data",
          "data": {
            "image/png": "[encoded data removed]",
            "text/plain": [
              "<Figure size 1440x1440 with 10 Axes>"
            ]
          },
          "metadata": {
            "tags": []
          }
        }
      ]
    },
    {
      "cell_type": "code",
      "metadata": {
        "ExecuteTime": {
          "end_time": "2019-11-25T15:11:54.465929Z",
          "start_time": "2019-11-25T15:11:49.602192Z"
        },
        "id": "b4Az95EktFUF",
        "colab_type": "code",
        "outputId": "2e7d7b24-6ee1-4e7c-b19b-feeea24b71b3",
        "colab": {
          "base_uri": "https://localhost:8080/",
          "height": 54
        }
      },
      "source": [
        "data_train = np.array(data_train)\n",
        "\n",
        "# do some checks\n",
        "data_train.shape\n",
        "set(noteLabels)\n",
        "set(durationLabels)\n",
        "len(set(map(len, (data_train, noteLabels, durationLabels)))) == 1 #check if length of lists is the same"
      ],
      "execution_count": 10,
      "outputs": [
        {
          "output_type": "execute_result",
          "data": {
            "text/plain": [
              "(18300, 158, 100, 3)"
            ]
          },
          "metadata": {
            "tags": []
          },
          "execution_count": 10
        },
        {
          "output_type": "execute_result",
          "data": {
            "text/plain": [
              "{\"a'\", \"b'\", \"c''\", \"d'\", \"d''\", \"e'\", \"e''\", \"f'\", \"f''\", \"g'\", \"g''\"}"
            ]
          },
          "metadata": {
            "tags": []
          },
          "execution_count": 10
        },
        {
          "output_type": "execute_result",
          "data": {
            "text/plain": [
              "{'1', '2', '4', '8', 'breve', 'longa'}"
            ]
          },
          "metadata": {
            "tags": []
          },
          "execution_count": 10
        },
        {
          "output_type": "execute_result",
          "data": {
            "text/plain": [
              "True"
            ]
          },
          "metadata": {
            "tags": []
          },
          "execution_count": 10
        }
      ]
    },
    {
      "cell_type": "code",
      "metadata": {
        "ExecuteTime": {
          "end_time": "2019-11-25T15:18:35.180961Z",
          "start_time": "2019-11-25T15:18:33.253592Z"
        },
        "id": "mlP_karvtFUH",
        "colab_type": "code",
        "colab": {}
      },
      "source": [
        "# convert the label lists to NumPy arrays prior to binarization\n",
        "noteLabels = np.array(noteLabels)\n",
        "durationLabels = np.array(durationLabels)\n",
        " \n",
        "# binarize both sets of labels\n",
        "noteLB = LabelBinarizer()\n",
        "durationLB = LabelBinarizer()\n",
        "noteLabels = noteLB.fit_transform(noteLabels)\n",
        "durationLabels = durationLB.fit_transform(durationLabels)\n",
        "\n",
        "trainX, testX, trainNoteY, testNoteY, trainDurationY, testDurationY = train_test_split(data_train,\n",
        "                                    noteLabels, durationLabels, random_state=666, train_size=0.75)"
      ],
      "execution_count": 0,
      "outputs": []
    },
    {
      "cell_type": "code",
      "metadata": {
        "ExecuteTime": {
          "end_time": "2019-11-25T15:18:54.268186Z",
          "start_time": "2019-11-25T15:18:54.263423Z"
        },
        "id": "BX1d1qZxtFUI",
        "colab_type": "code",
        "outputId": "179ba95e-b4be-48c3-91e1-d64546f93a20",
        "colab": {
          "base_uri": "https://localhost:8080/",
          "height": 74
        }
      },
      "source": [
        "# do some checks\n",
        "\n",
        "print(\"We have {} training images and {} test images, with a total of {} images. The images have a height of {} and a width of {} with {} channel(s). There are {} different note classes and {} different duration classes.\".format(trainX.shape[0], testX.shape[0], data_train.shape[0], data_train.shape[1], data_train.shape[2], data_train.shape[3], trainNoteY.shape[1], trainDurationY.shape[1]))"
      ],
      "execution_count": 12,
      "outputs": [
        {
          "output_type": "stream",
          "text": [
            "We have 13725 training images and 4575 test images, with a total of 18300 images. The images have a height of 158 and a width of 100 with 3 channel(s). There are 11 different note classes and 6 different duration classes.\n"
          ],
          "name": "stdout"
        }
      ]
    },
    {
      "cell_type": "markdown",
      "metadata": {
        "id": "zNfP8fCftFUK",
        "colab_type": "text"
      },
      "source": [
        "# Transfer Model"
      ]
    },
    {
      "cell_type": "code",
      "metadata": {
        "ExecuteTime": {
          "end_time": "2019-11-25T15:19:18.096039Z",
          "start_time": "2019-11-25T15:19:14.098384Z"
        },
        "id": "GXirARdxtFUK",
        "colab_type": "code",
        "colab": {}
      },
      "source": [
        "# base_model = applications.inception_v3.InceptionV3(weights = \"imagenet\", include_top=False, input_shape = (158, 100, 3))\n",
        "base_model = keras.applications.resnet_v2.ResNet50V2(include_top=False, weights='imagenet', input_shape = (158, 100, 3))"
      ],
      "execution_count": 0,
      "outputs": []
    },
    {
      "cell_type": "code",
      "metadata": {
        "ExecuteTime": {
          "end_time": "2019-11-25T15:21:05.397727Z",
          "start_time": "2019-11-25T15:21:05.393862Z"
        },
        "id": "HLnBqMX9tFUM",
        "colab_type": "code",
        "colab": {}
      },
      "source": [
        "# for layer in base_model.layers[:38]: 38*265 80/60 resnet101\n",
        "for layer in base_model.layers[:28]:\n",
        "    layer.trainable = False"
      ],
      "execution_count": 0,
      "outputs": []
    },
    {
      "cell_type": "code",
      "metadata": {
        "ExecuteTime": {
          "end_time": "2019-11-25T15:21:24.981327Z",
          "start_time": "2019-11-25T15:21:24.942432Z"
        },
        "collapsed": true,
        "id": "ci6Ey2cUtFUO",
        "colab_type": "code",
        "outputId": "91c2f55c-092e-43cc-a837-20dfbdb0c447",
        "colab": {
          "base_uri": "https://localhost:8080/",
          "height": 1000
        }
      },
      "source": [
        "pd.set_option('max_colwidth', -1)\n",
        "layers = [(layer, layer.name, layer.trainable) for layer in base_model.layers]\n",
        "pd.DataFrame(layers, columns=['Layer Type', 'Layer Name', 'Layer Trainable']) "
      ],
      "execution_count": 50,
      "outputs": [
        {
          "output_type": "execute_result",
          "data": {
            "text/html": [
              "<div>\n",
              "<style scoped>\n",
              "    .dataframe tbody tr th:only-of-type {\n",
              "        vertical-align: middle;\n",
              "    }\n",
              "\n",
              "    .dataframe tbody tr th {\n",
              "        vertical-align: top;\n",
              "    }\n",
              "\n",
              "    .dataframe thead th {\n",
              "        text-align: right;\n",
              "    }\n",
              "</style>\n",
              "<table border=\"1\" class=\"dataframe\">\n",
              "  <thead>\n",
              "    <tr style=\"text-align: right;\">\n",
              "      <th></th>\n",
              "      <th>Layer Type</th>\n",
              "      <th>Layer Name</th>\n",
              "      <th>Layer Trainable</th>\n",
              "    </tr>\n",
              "  </thead>\n",
              "  <tbody>\n",
              "    <tr>\n",
              "      <th>0</th>\n",
              "      <td>&lt;tensorflow.python.keras.engine.input_layer.InputLayer object at 0x7fc3bfe6eeb8&gt;</td>\n",
              "      <td>input_4</td>\n",
              "      <td>False</td>\n",
              "    </tr>\n",
              "    <tr>\n",
              "      <th>1</th>\n",
              "      <td>&lt;tensorflow.python.keras.layers.convolutional.ZeroPadding2D object at 0x7fc3c0206be0&gt;</td>\n",
              "      <td>conv1_pad</td>\n",
              "      <td>False</td>\n",
              "    </tr>\n",
              "    <tr>\n",
              "      <th>2</th>\n",
              "      <td>&lt;tensorflow.python.keras.layers.convolutional.Conv2D object at 0x7fc3bfca7320&gt;</td>\n",
              "      <td>conv1_conv</td>\n",
              "      <td>False</td>\n",
              "    </tr>\n",
              "    <tr>\n",
              "      <th>3</th>\n",
              "      <td>&lt;tensorflow.python.keras.layers.convolutional.ZeroPadding2D object at 0x7fc3bfd08a20&gt;</td>\n",
              "      <td>pool1_pad</td>\n",
              "      <td>False</td>\n",
              "    </tr>\n",
              "    <tr>\n",
              "      <th>4</th>\n",
              "      <td>&lt;tensorflow.python.keras.layers.pooling.MaxPooling2D object at 0x7fc3bfd16fd0&gt;</td>\n",
              "      <td>pool1_pool</td>\n",
              "      <td>False</td>\n",
              "    </tr>\n",
              "    <tr>\n",
              "      <th>5</th>\n",
              "      <td>&lt;tensorflow.python.keras.layers.normalization.BatchNormalization object at 0x7fc3bfd41278&gt;</td>\n",
              "      <td>conv2_block1_preact_bn</td>\n",
              "      <td>False</td>\n",
              "    </tr>\n",
              "    <tr>\n",
              "      <th>6</th>\n",
              "      <td>&lt;tensorflow.python.keras.layers.core.Activation object at 0x7fc3bfd33f28&gt;</td>\n",
              "      <td>conv2_block1_preact_relu</td>\n",
              "      <td>False</td>\n",
              "    </tr>\n",
              "    <tr>\n",
              "      <th>7</th>\n",
              "      <td>&lt;tensorflow.python.keras.layers.convolutional.Conv2D object at 0x7fc3bfdb79e8&gt;</td>\n",
              "      <td>conv2_block1_1_conv</td>\n",
              "      <td>False</td>\n",
              "    </tr>\n",
              "    <tr>\n",
              "      <th>8</th>\n",
              "      <td>&lt;tensorflow.python.keras.layers.normalization.BatchNormalization object at 0x7fc3bfe41978&gt;</td>\n",
              "      <td>conv2_block1_1_bn</td>\n",
              "      <td>False</td>\n",
              "    </tr>\n",
              "    <tr>\n",
              "      <th>9</th>\n",
              "      <td>&lt;tensorflow.python.keras.layers.core.Activation object at 0x7fc3bfe97438&gt;</td>\n",
              "      <td>conv2_block1_1_relu</td>\n",
              "      <td>False</td>\n",
              "    </tr>\n",
              "    <tr>\n",
              "      <th>10</th>\n",
              "      <td>&lt;tensorflow.python.keras.layers.convolutional.ZeroPadding2D object at 0x7fc3bfe8fba8&gt;</td>\n",
              "      <td>conv2_block1_2_pad</td>\n",
              "      <td>False</td>\n",
              "    </tr>\n",
              "    <tr>\n",
              "      <th>11</th>\n",
              "      <td>&lt;tensorflow.python.keras.layers.convolutional.Conv2D object at 0x7fc3bfca3e10&gt;</td>\n",
              "      <td>conv2_block1_2_conv</td>\n",
              "      <td>False</td>\n",
              "    </tr>\n",
              "    <tr>\n",
              "      <th>12</th>\n",
              "      <td>&lt;tensorflow.python.keras.layers.normalization.BatchNormalization object at 0x7fc3bfc859b0&gt;</td>\n",
              "      <td>conv2_block1_2_bn</td>\n",
              "      <td>False</td>\n",
              "    </tr>\n",
              "    <tr>\n",
              "      <th>13</th>\n",
              "      <td>&lt;tensorflow.python.keras.layers.core.Activation object at 0x7fc3bfc62ac8&gt;</td>\n",
              "      <td>conv2_block1_2_relu</td>\n",
              "      <td>False</td>\n",
              "    </tr>\n",
              "    <tr>\n",
              "      <th>14</th>\n",
              "      <td>&lt;tensorflow.python.keras.layers.convolutional.Conv2D object at 0x7fc3bfd41d68&gt;</td>\n",
              "      <td>conv2_block1_0_conv</td>\n",
              "      <td>False</td>\n",
              "    </tr>\n",
              "    <tr>\n",
              "      <th>15</th>\n",
              "      <td>&lt;tensorflow.python.keras.layers.convolutional.Conv2D object at 0x7fc3bfc22fd0&gt;</td>\n",
              "      <td>conv2_block1_3_conv</td>\n",
              "      <td>False</td>\n",
              "    </tr>\n",
              "    <tr>\n",
              "      <th>16</th>\n",
              "      <td>&lt;tensorflow.python.keras.layers.merge.Add object at 0x7fc3bfc28320&gt;</td>\n",
              "      <td>conv2_block1_out</td>\n",
              "      <td>False</td>\n",
              "    </tr>\n",
              "    <tr>\n",
              "      <th>17</th>\n",
              "      <td>&lt;tensorflow.python.keras.layers.normalization.BatchNormalization object at 0x7fc3bfc62a58&gt;</td>\n",
              "      <td>conv2_block2_preact_bn</td>\n",
              "      <td>False</td>\n",
              "    </tr>\n",
              "    <tr>\n",
              "      <th>18</th>\n",
              "      <td>&lt;tensorflow.python.keras.layers.core.Activation object at 0x7fc3bfc30b70&gt;</td>\n",
              "      <td>conv2_block2_preact_relu</td>\n",
              "      <td>False</td>\n",
              "    </tr>\n",
              "    <tr>\n",
              "      <th>19</th>\n",
              "      <td>&lt;tensorflow.python.keras.layers.convolutional.Conv2D object at 0x7fc3bfc2ce10&gt;</td>\n",
              "      <td>conv2_block2_1_conv</td>\n",
              "      <td>False</td>\n",
              "    </tr>\n",
              "    <tr>\n",
              "      <th>20</th>\n",
              "      <td>&lt;tensorflow.python.keras.layers.normalization.BatchNormalization object at 0x7fc3bfc56b70&gt;</td>\n",
              "      <td>conv2_block2_1_bn</td>\n",
              "      <td>False</td>\n",
              "    </tr>\n",
              "    <tr>\n",
              "      <th>21</th>\n",
              "      <td>&lt;tensorflow.python.keras.layers.core.Activation object at 0x7fc3bfbdfcc0&gt;</td>\n",
              "      <td>conv2_block2_1_relu</td>\n",
              "      <td>False</td>\n",
              "    </tr>\n",
              "    <tr>\n",
              "      <th>22</th>\n",
              "      <td>&lt;tensorflow.python.keras.layers.convolutional.ZeroPadding2D object at 0x7fc3bfc5b048&gt;</td>\n",
              "      <td>conv2_block2_2_pad</td>\n",
              "      <td>False</td>\n",
              "    </tr>\n",
              "    <tr>\n",
              "      <th>23</th>\n",
              "      <td>&lt;tensorflow.python.keras.layers.convolutional.Conv2D object at 0x7fc3bfbdfcf8&gt;</td>\n",
              "      <td>conv2_block2_2_conv</td>\n",
              "      <td>False</td>\n",
              "    </tr>\n",
              "    <tr>\n",
              "      <th>24</th>\n",
              "      <td>&lt;tensorflow.python.keras.layers.normalization.BatchNormalization object at 0x7fc3bfc0aac8&gt;</td>\n",
              "      <td>conv2_block2_2_bn</td>\n",
              "      <td>False</td>\n",
              "    </tr>\n",
              "    <tr>\n",
              "      <th>25</th>\n",
              "      <td>&lt;tensorflow.python.keras.layers.core.Activation object at 0x7fc3bfc154e0&gt;</td>\n",
              "      <td>conv2_block2_2_relu</td>\n",
              "      <td>False</td>\n",
              "    </tr>\n",
              "    <tr>\n",
              "      <th>26</th>\n",
              "      <td>&lt;tensorflow.python.keras.layers.convolutional.Conv2D object at 0x7fc3bfc0ab00&gt;</td>\n",
              "      <td>conv2_block2_3_conv</td>\n",
              "      <td>False</td>\n",
              "    </tr>\n",
              "    <tr>\n",
              "      <th>27</th>\n",
              "      <td>&lt;tensorflow.python.keras.layers.merge.Add object at 0x7fc3bfbbbf60&gt;</td>\n",
              "      <td>conv2_block2_out</td>\n",
              "      <td>False</td>\n",
              "    </tr>\n",
              "    <tr>\n",
              "      <th>28</th>\n",
              "      <td>&lt;tensorflow.python.keras.layers.normalization.BatchNormalization object at 0x7fc3bfc15518&gt;</td>\n",
              "      <td>conv2_block3_preact_bn</td>\n",
              "      <td>True</td>\n",
              "    </tr>\n",
              "    <tr>\n",
              "      <th>29</th>\n",
              "      <td>&lt;tensorflow.python.keras.layers.core.Activation object at 0x7fc3bfbd6588&gt;</td>\n",
              "      <td>conv2_block3_preact_relu</td>\n",
              "      <td>True</td>\n",
              "    </tr>\n",
              "    <tr>\n",
              "      <th>30</th>\n",
              "      <td>&lt;tensorflow.python.keras.layers.convolutional.Conv2D object at 0x7fc3bfb64f28&gt;</td>\n",
              "      <td>conv2_block3_1_conv</td>\n",
              "      <td>True</td>\n",
              "    </tr>\n",
              "    <tr>\n",
              "      <th>31</th>\n",
              "      <td>&lt;tensorflow.python.keras.layers.normalization.BatchNormalization object at 0x7fc3bfb83eb8&gt;</td>\n",
              "      <td>conv2_block3_1_bn</td>\n",
              "      <td>True</td>\n",
              "    </tr>\n",
              "    <tr>\n",
              "      <th>32</th>\n",
              "      <td>&lt;tensorflow.python.keras.layers.core.Activation object at 0x7fc3bfb8ebe0&gt;</td>\n",
              "      <td>conv2_block3_1_relu</td>\n",
              "      <td>True</td>\n",
              "    </tr>\n",
              "    <tr>\n",
              "      <th>33</th>\n",
              "      <td>&lt;tensorflow.python.keras.layers.convolutional.ZeroPadding2D object at 0x7fc3bfb89240&gt;</td>\n",
              "      <td>conv2_block3_2_pad</td>\n",
              "      <td>True</td>\n",
              "    </tr>\n",
              "    <tr>\n",
              "      <th>34</th>\n",
              "      <td>&lt;tensorflow.python.keras.layers.convolutional.Conv2D object at 0x7fc3bfb8ec18&gt;</td>\n",
              "      <td>conv2_block3_2_conv</td>\n",
              "      <td>True</td>\n",
              "    </tr>\n",
              "    <tr>\n",
              "      <th>35</th>\n",
              "      <td>&lt;tensorflow.python.keras.layers.normalization.BatchNormalization object at 0x7fc3bfb3d7b8&gt;</td>\n",
              "      <td>conv2_block3_2_bn</td>\n",
              "      <td>True</td>\n",
              "    </tr>\n",
              "    <tr>\n",
              "      <th>36</th>\n",
              "      <td>&lt;tensorflow.python.keras.layers.core.Activation object at 0x7fc3bfb50400&gt;</td>\n",
              "      <td>conv2_block3_2_relu</td>\n",
              "      <td>True</td>\n",
              "    </tr>\n",
              "    <tr>\n",
              "      <th>37</th>\n",
              "      <td>&lt;tensorflow.python.keras.layers.pooling.MaxPooling2D object at 0x7fc3bfbd2710&gt;</td>\n",
              "      <td>max_pooling2d_9</td>\n",
              "      <td>True</td>\n",
              "    </tr>\n",
              "    <tr>\n",
              "      <th>38</th>\n",
              "      <td>&lt;tensorflow.python.keras.layers.convolutional.Conv2D object at 0x7fc3bfb44a20&gt;</td>\n",
              "      <td>conv2_block3_3_conv</td>\n",
              "      <td>True</td>\n",
              "    </tr>\n",
              "    <tr>\n",
              "      <th>39</th>\n",
              "      <td>&lt;tensorflow.python.keras.layers.merge.Add object at 0x7fc3bfafbd30&gt;</td>\n",
              "      <td>conv2_block3_out</td>\n",
              "      <td>True</td>\n",
              "    </tr>\n",
              "    <tr>\n",
              "      <th>40</th>\n",
              "      <td>&lt;tensorflow.python.keras.layers.normalization.BatchNormalization object at 0x7fc3bfaf5d68&gt;</td>\n",
              "      <td>conv3_block1_preact_bn</td>\n",
              "      <td>True</td>\n",
              "    </tr>\n",
              "    <tr>\n",
              "      <th>41</th>\n",
              "      <td>&lt;tensorflow.python.keras.layers.core.Activation object at 0x7fc3bfb0f4a8&gt;</td>\n",
              "      <td>conv3_block1_preact_relu</td>\n",
              "      <td>True</td>\n",
              "    </tr>\n",
              "    <tr>\n",
              "      <th>42</th>\n",
              "      <td>&lt;tensorflow.python.keras.layers.convolutional.Conv2D object at 0x7fc3bfabbbe0&gt;</td>\n",
              "      <td>conv3_block1_1_conv</td>\n",
              "      <td>True</td>\n",
              "    </tr>\n",
              "    <tr>\n",
              "      <th>43</th>\n",
              "      <td>&lt;tensorflow.python.keras.layers.normalization.BatchNormalization object at 0x7fc3bfabbd30&gt;</td>\n",
              "      <td>conv3_block1_1_bn</td>\n",
              "      <td>True</td>\n",
              "    </tr>\n",
              "    <tr>\n",
              "      <th>44</th>\n",
              "      <td>&lt;tensorflow.python.keras.layers.core.Activation object at 0x7fc3bfad4b38&gt;</td>\n",
              "      <td>conv3_block1_1_relu</td>\n",
              "      <td>True</td>\n",
              "    </tr>\n",
              "    <tr>\n",
              "      <th>45</th>\n",
              "      <td>&lt;tensorflow.python.keras.layers.convolutional.ZeroPadding2D object at 0x7fc3bfa82da0&gt;</td>\n",
              "      <td>conv3_block1_2_pad</td>\n",
              "      <td>True</td>\n",
              "    </tr>\n",
              "    <tr>\n",
              "      <th>46</th>\n",
              "      <td>&lt;tensorflow.python.keras.layers.convolutional.Conv2D object at 0x7fc3bfad4b70&gt;</td>\n",
              "      <td>conv3_block1_2_conv</td>\n",
              "      <td>True</td>\n",
              "    </tr>\n",
              "    <tr>\n",
              "      <th>47</th>\n",
              "      <td>&lt;tensorflow.python.keras.layers.normalization.BatchNormalization object at 0x7fc3bfa82c18&gt;</td>\n",
              "      <td>conv3_block1_2_bn</td>\n",
              "      <td>True</td>\n",
              "    </tr>\n",
              "    <tr>\n",
              "      <th>48</th>\n",
              "      <td>&lt;tensorflow.python.keras.layers.core.Activation object at 0x7fc3bfa96358&gt;</td>\n",
              "      <td>conv3_block1_2_relu</td>\n",
              "      <td>True</td>\n",
              "    </tr>\n",
              "    <tr>\n",
              "      <th>49</th>\n",
              "      <td>&lt;tensorflow.python.keras.layers.convolutional.Conv2D object at 0x7fc3bfb093c8&gt;</td>\n",
              "      <td>conv3_block1_0_conv</td>\n",
              "      <td>True</td>\n",
              "    </tr>\n",
              "    <tr>\n",
              "      <th>50</th>\n",
              "      <td>&lt;tensorflow.python.keras.layers.convolutional.Conv2D object at 0x7fc3bfa8a940&gt;</td>\n",
              "      <td>conv3_block1_3_conv</td>\n",
              "      <td>True</td>\n",
              "    </tr>\n",
              "    <tr>\n",
              "      <th>51</th>\n",
              "      <td>&lt;tensorflow.python.keras.layers.merge.Add object at 0x7fc3bfa41be0&gt;</td>\n",
              "      <td>conv3_block1_out</td>\n",
              "      <td>True</td>\n",
              "    </tr>\n",
              "    <tr>\n",
              "      <th>52</th>\n",
              "      <td>&lt;tensorflow.python.keras.layers.normalization.BatchNormalization object at 0x7fc3bfa96390&gt;</td>\n",
              "      <td>conv3_block2_preact_bn</td>\n",
              "      <td>True</td>\n",
              "    </tr>\n",
              "    <tr>\n",
              "      <th>53</th>\n",
              "      <td>&lt;tensorflow.python.keras.layers.core.Activation object at 0x7fc3bfa51400&gt;</td>\n",
              "      <td>conv3_block2_preact_relu</td>\n",
              "      <td>True</td>\n",
              "    </tr>\n",
              "    <tr>\n",
              "      <th>54</th>\n",
              "      <td>&lt;tensorflow.python.keras.layers.convolutional.Conv2D object at 0x7fc3bfa41dd8&gt;</td>\n",
              "      <td>conv3_block2_1_conv</td>\n",
              "      <td>True</td>\n",
              "    </tr>\n",
              "    <tr>\n",
              "      <th>55</th>\n",
              "      <td>&lt;tensorflow.python.keras.layers.normalization.BatchNormalization object at 0x7fc3bfa00be0&gt;</td>\n",
              "      <td>conv3_block2_1_bn</td>\n",
              "      <td>True</td>\n",
              "    </tr>\n",
              "    <tr>\n",
              "      <th>56</th>\n",
              "      <td>&lt;tensorflow.python.keras.layers.core.Activation object at 0x7fc3bfa10550&gt;</td>\n",
              "      <td>conv3_block2_1_relu</td>\n",
              "      <td>True</td>\n",
              "    </tr>\n",
              "    <tr>\n",
              "      <th>57</th>\n",
              "      <td>&lt;tensorflow.python.keras.layers.convolutional.ZeroPadding2D object at 0x7fc3bfa008d0&gt;</td>\n",
              "      <td>conv3_block2_2_pad</td>\n",
              "      <td>True</td>\n",
              "    </tr>\n",
              "    <tr>\n",
              "      <th>58</th>\n",
              "      <td>&lt;tensorflow.python.keras.layers.convolutional.Conv2D object at 0x7fc3bf9baf60&gt;</td>\n",
              "      <td>conv3_block2_2_conv</td>\n",
              "      <td>True</td>\n",
              "    </tr>\n",
              "    <tr>\n",
              "      <th>59</th>\n",
              "      <td>&lt;tensorflow.python.keras.layers.normalization.BatchNormalization object at 0x7fc3bf9bac88&gt;</td>\n",
              "      <td>conv3_block2_2_bn</td>\n",
              "      <td>True</td>\n",
              "    </tr>\n",
              "    <tr>\n",
              "      <th>60</th>\n",
              "      <td>&lt;tensorflow.python.keras.layers.core.Activation object at 0x7fc3bf9c6d30&gt;</td>\n",
              "      <td>conv3_block2_2_relu</td>\n",
              "      <td>True</td>\n",
              "    </tr>\n",
              "    <tr>\n",
              "      <th>61</th>\n",
              "      <td>&lt;tensorflow.python.keras.layers.convolutional.Conv2D object at 0x7fc3bf9c2390&gt;</td>\n",
              "      <td>conv3_block2_3_conv</td>\n",
              "      <td>True</td>\n",
              "    </tr>\n",
              "    <tr>\n",
              "      <th>62</th>\n",
              "      <td>&lt;tensorflow.python.keras.layers.merge.Add object at 0x7fc3bf979668&gt;</td>\n",
              "      <td>conv3_block2_out</td>\n",
              "      <td>True</td>\n",
              "    </tr>\n",
              "    <tr>\n",
              "      <th>63</th>\n",
              "      <td>&lt;tensorflow.python.keras.layers.normalization.BatchNormalization object at 0x7fc3bf9db470&gt;</td>\n",
              "      <td>conv3_block3_preact_bn</td>\n",
              "      <td>True</td>\n",
              "    </tr>\n",
              "    <tr>\n",
              "      <th>64</th>\n",
              "      <td>&lt;tensorflow.python.keras.layers.core.Activation object at 0x7fc3bf985dd8&gt;</td>\n",
              "      <td>conv3_block3_preact_relu</td>\n",
              "      <td>True</td>\n",
              "    </tr>\n",
              "    <tr>\n",
              "      <th>65</th>\n",
              "      <td>&lt;tensorflow.python.keras.layers.convolutional.Conv2D object at 0x7fc3bf980e10&gt;</td>\n",
              "      <td>conv3_block3_1_conv</td>\n",
              "      <td>True</td>\n",
              "    </tr>\n",
              "    <tr>\n",
              "      <th>66</th>\n",
              "      <td>&lt;tensorflow.python.keras.layers.normalization.BatchNormalization object at 0x7fc3bf99a400&gt;</td>\n",
              "      <td>conv3_block3_1_bn</td>\n",
              "      <td>True</td>\n",
              "    </tr>\n",
              "    <tr>\n",
              "      <th>67</th>\n",
              "      <td>&lt;tensorflow.python.keras.layers.core.Activation object at 0x7fc3bf93c4e0&gt;</td>\n",
              "      <td>conv3_block3_1_relu</td>\n",
              "      <td>True</td>\n",
              "    </tr>\n",
              "    <tr>\n",
              "      <th>68</th>\n",
              "      <td>&lt;tensorflow.python.keras.layers.convolutional.ZeroPadding2D object at 0x7fc3bf94b048&gt;</td>\n",
              "      <td>conv3_block3_2_pad</td>\n",
              "      <td>True</td>\n",
              "    </tr>\n",
              "    <tr>\n",
              "      <th>69</th>\n",
              "      <td>&lt;tensorflow.python.keras.layers.convolutional.Conv2D object at 0x7fc3bf8edfd0&gt;</td>\n",
              "      <td>conv3_block3_2_conv</td>\n",
              "      <td>True</td>\n",
              "    </tr>\n",
              "    <tr>\n",
              "      <th>70</th>\n",
              "      <td>&lt;tensorflow.python.keras.layers.normalization.BatchNormalization object at 0x7fc3bf8f3d68&gt;</td>\n",
              "      <td>conv3_block3_2_bn</td>\n",
              "      <td>True</td>\n",
              "    </tr>\n",
              "    <tr>\n",
              "      <th>71</th>\n",
              "      <td>&lt;tensorflow.python.keras.layers.core.Activation object at 0x7fc3bf902748&gt;</td>\n",
              "      <td>conv3_block3_2_relu</td>\n",
              "      <td>True</td>\n",
              "    </tr>\n",
              "    <tr>\n",
              "      <th>72</th>\n",
              "      <td>&lt;tensorflow.python.keras.layers.convolutional.Conv2D object at 0x7fc3bf8f3da0&gt;</td>\n",
              "      <td>conv3_block3_3_conv</td>\n",
              "      <td>True</td>\n",
              "    </tr>\n",
              "    <tr>\n",
              "      <th>73</th>\n",
              "      <td>&lt;tensorflow.python.keras.layers.merge.Add object at 0x7fc3bf8a7358&gt;</td>\n",
              "      <td>conv3_block3_out</td>\n",
              "      <td>True</td>\n",
              "    </tr>\n",
              "    <tr>\n",
              "      <th>74</th>\n",
              "      <td>&lt;tensorflow.python.keras.layers.normalization.BatchNormalization object at 0x7fc3bf8b20b8&gt;</td>\n",
              "      <td>conv3_block4_preact_bn</td>\n",
              "      <td>True</td>\n",
              "    </tr>\n",
              "    <tr>\n",
              "      <th>75</th>\n",
              "      <td>&lt;tensorflow.python.keras.layers.core.Activation object at 0x7fc3bf8be7f0&gt;</td>\n",
              "      <td>conv3_block4_preact_relu</td>\n",
              "      <td>True</td>\n",
              "    </tr>\n",
              "    <tr>\n",
              "      <th>76</th>\n",
              "      <td>&lt;tensorflow.python.keras.layers.convolutional.Conv2D object at 0x7fc3bf86f978&gt;</td>\n",
              "      <td>conv3_block4_1_conv</td>\n",
              "      <td>True</td>\n",
              "    </tr>\n",
              "    <tr>\n",
              "      <th>77</th>\n",
              "      <td>&lt;tensorflow.python.keras.layers.normalization.BatchNormalization object at 0x7fc3bf8be908&gt;</td>\n",
              "      <td>conv3_block4_1_bn</td>\n",
              "      <td>True</td>\n",
              "    </tr>\n",
              "    <tr>\n",
              "      <th>78</th>\n",
              "      <td>&lt;tensorflow.python.keras.layers.core.Activation object at 0x7fc3bf874518&gt;</td>\n",
              "      <td>conv3_block4_1_relu</td>\n",
              "      <td>True</td>\n",
              "    </tr>\n",
              "    <tr>\n",
              "      <th>79</th>\n",
              "      <td>&lt;tensorflow.python.keras.layers.convolutional.ZeroPadding2D object at 0x7fc3bf87a860&gt;</td>\n",
              "      <td>conv3_block4_2_pad</td>\n",
              "      <td>True</td>\n",
              "    </tr>\n",
              "    <tr>\n",
              "      <th>80</th>\n",
              "      <td>&lt;tensorflow.python.keras.layers.convolutional.Conv2D object at 0x7fc3bf81fb70&gt;</td>\n",
              "      <td>conv3_block4_2_conv</td>\n",
              "      <td>True</td>\n",
              "    </tr>\n",
              "    <tr>\n",
              "      <th>81</th>\n",
              "      <td>&lt;tensorflow.python.keras.layers.normalization.BatchNormalization object at 0x7fc3bf82cc88&gt;</td>\n",
              "      <td>conv3_block4_2_bn</td>\n",
              "      <td>True</td>\n",
              "    </tr>\n",
              "    <tr>\n",
              "      <th>82</th>\n",
              "      <td>&lt;tensorflow.python.keras.layers.core.Activation object at 0x7fc3bf83a668&gt;</td>\n",
              "      <td>conv3_block4_2_relu</td>\n",
              "      <td>True</td>\n",
              "    </tr>\n",
              "    <tr>\n",
              "      <th>83</th>\n",
              "      <td>&lt;tensorflow.python.keras.layers.pooling.MaxPooling2D object at 0x7fc3bf8b20f0&gt;</td>\n",
              "      <td>max_pooling2d_10</td>\n",
              "      <td>True</td>\n",
              "    </tr>\n",
              "    <tr>\n",
              "      <th>84</th>\n",
              "      <td>&lt;tensorflow.python.keras.layers.convolutional.Conv2D object at 0x7fc3bf82ccc0&gt;</td>\n",
              "      <td>conv3_block4_3_conv</td>\n",
              "      <td>True</td>\n",
              "    </tr>\n",
              "    <tr>\n",
              "      <th>85</th>\n",
              "      <td>&lt;tensorflow.python.keras.layers.merge.Add object at 0x7fc3bf7df320&gt;</td>\n",
              "      <td>conv3_block4_out</td>\n",
              "      <td>True</td>\n",
              "    </tr>\n",
              "    <tr>\n",
              "      <th>86</th>\n",
              "      <td>&lt;tensorflow.python.keras.layers.normalization.BatchNormalization object at 0x7fc3bf7ea048&gt;</td>\n",
              "      <td>conv4_block1_preact_bn</td>\n",
              "      <td>True</td>\n",
              "    </tr>\n",
              "    <tr>\n",
              "      <th>87</th>\n",
              "      <td>&lt;tensorflow.python.keras.layers.core.Activation object at 0x7fc3bf7f56d8&gt;</td>\n",
              "      <td>conv4_block1_preact_relu</td>\n",
              "      <td>True</td>\n",
              "    </tr>\n",
              "    <tr>\n",
              "      <th>88</th>\n",
              "      <td>&lt;tensorflow.python.keras.layers.convolutional.Conv2D object at 0x7fc3bf7a0e10&gt;</td>\n",
              "      <td>conv4_block1_1_conv</td>\n",
              "      <td>True</td>\n",
              "    </tr>\n",
              "    <tr>\n",
              "      <th>89</th>\n",
              "      <td>&lt;tensorflow.python.keras.layers.normalization.BatchNormalization object at 0x7fc3bf7a0f28&gt;</td>\n",
              "      <td>conv4_block1_1_bn</td>\n",
              "      <td>True</td>\n",
              "    </tr>\n",
              "    <tr>\n",
              "      <th>90</th>\n",
              "      <td>&lt;tensorflow.python.keras.layers.core.Activation object at 0x7fc3bf7c40f0&gt;</td>\n",
              "      <td>conv4_block1_1_relu</td>\n",
              "      <td>True</td>\n",
              "    </tr>\n",
              "    <tr>\n",
              "      <th>91</th>\n",
              "      <td>&lt;tensorflow.python.keras.layers.convolutional.ZeroPadding2D object at 0x7fc3bf7c1ac8&gt;</td>\n",
              "      <td>conv4_block1_2_pad</td>\n",
              "      <td>True</td>\n",
              "    </tr>\n",
              "    <tr>\n",
              "      <th>92</th>\n",
              "      <td>&lt;tensorflow.python.keras.layers.convolutional.Conv2D object at 0x7fc3bf76de48&gt;</td>\n",
              "      <td>conv4_block1_2_conv</td>\n",
              "      <td>True</td>\n",
              "    </tr>\n",
              "    <tr>\n",
              "      <th>93</th>\n",
              "      <td>&lt;tensorflow.python.keras.layers.normalization.BatchNormalization object at 0x7fc3bf771ef0&gt;</td>\n",
              "      <td>conv4_block1_2_bn</td>\n",
              "      <td>True</td>\n",
              "    </tr>\n",
              "    <tr>\n",
              "      <th>94</th>\n",
              "      <td>&lt;tensorflow.python.keras.layers.core.Activation object at 0x7fc3bf7818d0&gt;</td>\n",
              "      <td>conv4_block1_2_relu</td>\n",
              "      <td>True</td>\n",
              "    </tr>\n",
              "    <tr>\n",
              "      <th>95</th>\n",
              "      <td>&lt;tensorflow.python.keras.layers.convolutional.Conv2D object at 0x7fc3bf7e5fd0&gt;</td>\n",
              "      <td>conv4_block1_0_conv</td>\n",
              "      <td>True</td>\n",
              "    </tr>\n",
              "    <tr>\n",
              "      <th>96</th>\n",
              "      <td>&lt;tensorflow.python.keras.layers.convolutional.Conv2D object at 0x7fc3bf771f28&gt;</td>\n",
              "      <td>conv4_block1_3_conv</td>\n",
              "      <td>True</td>\n",
              "    </tr>\n",
              "    <tr>\n",
              "      <th>97</th>\n",
              "      <td>&lt;tensorflow.python.keras.layers.merge.Add object at 0x7fc3bf732320&gt;</td>\n",
              "      <td>conv4_block1_out</td>\n",
              "      <td>True</td>\n",
              "    </tr>\n",
              "    <tr>\n",
              "      <th>98</th>\n",
              "      <td>&lt;tensorflow.python.keras.layers.normalization.BatchNormalization object at 0x7fc3bf72ce80&gt;</td>\n",
              "      <td>conv4_block2_preact_bn</td>\n",
              "      <td>True</td>\n",
              "    </tr>\n",
              "    <tr>\n",
              "      <th>99</th>\n",
              "      <td>&lt;tensorflow.python.keras.layers.core.Activation object at 0x7fc3bf740c88&gt;</td>\n",
              "      <td>conv4_block2_preact_relu</td>\n",
              "      <td>True</td>\n",
              "    </tr>\n",
              "    <tr>\n",
              "      <th>100</th>\n",
              "      <td>&lt;tensorflow.python.keras.layers.convolutional.Conv2D object at 0x7fc3bf73a898&gt;</td>\n",
              "      <td>conv4_block2_1_conv</td>\n",
              "      <td>True</td>\n",
              "    </tr>\n",
              "    <tr>\n",
              "      <th>101</th>\n",
              "      <td>&lt;tensorflow.python.keras.layers.normalization.BatchNormalization object at 0x7fc3bf6f2e48&gt;</td>\n",
              "      <td>conv4_block2_1_bn</td>\n",
              "      <td>True</td>\n",
              "    </tr>\n",
              "    <tr>\n",
              "      <th>102</th>\n",
              "      <td>&lt;tensorflow.python.keras.layers.core.Activation object at 0x7fc3bf701a58&gt;</td>\n",
              "      <td>conv4_block2_1_relu</td>\n",
              "      <td>True</td>\n",
              "    </tr>\n",
              "    <tr>\n",
              "      <th>103</th>\n",
              "      <td>&lt;tensorflow.python.keras.layers.convolutional.ZeroPadding2D object at 0x7fc3bf6acfd0&gt;</td>\n",
              "      <td>conv4_block2_2_pad</td>\n",
              "      <td>True</td>\n",
              "    </tr>\n",
              "    <tr>\n",
              "      <th>104</th>\n",
              "      <td>&lt;tensorflow.python.keras.layers.convolutional.Conv2D object at 0x7fc3bf701a90&gt;</td>\n",
              "      <td>conv4_block2_2_conv</td>\n",
              "      <td>True</td>\n",
              "    </tr>\n",
              "    <tr>\n",
              "      <th>105</th>\n",
              "      <td>&lt;tensorflow.python.keras.layers.normalization.BatchNormalization object at 0x7fc3bf6ac160&gt;</td>\n",
              "      <td>conv4_block2_2_bn</td>\n",
              "      <td>True</td>\n",
              "    </tr>\n",
              "    <tr>\n",
              "      <th>106</th>\n",
              "      <td>&lt;tensorflow.python.keras.layers.core.Activation object at 0x7fc3bf6bd278&gt;</td>\n",
              "      <td>conv4_block2_2_relu</td>\n",
              "      <td>True</td>\n",
              "    </tr>\n",
              "    <tr>\n",
              "      <th>107</th>\n",
              "      <td>&lt;tensorflow.python.keras.layers.convolutional.Conv2D object at 0x7fc3bf6b0898&gt;</td>\n",
              "      <td>conv4_block2_3_conv</td>\n",
              "      <td>True</td>\n",
              "    </tr>\n",
              "    <tr>\n",
              "      <th>108</th>\n",
              "      <td>&lt;tensorflow.python.keras.layers.merge.Add object at 0x7fc3bf66ac50&gt;</td>\n",
              "      <td>conv4_block2_out</td>\n",
              "      <td>True</td>\n",
              "    </tr>\n",
              "    <tr>\n",
              "      <th>109</th>\n",
              "      <td>&lt;tensorflow.python.keras.layers.normalization.BatchNormalization object at 0x7fc3bf6bd2b0&gt;</td>\n",
              "      <td>conv4_block3_preact_bn</td>\n",
              "      <td>True</td>\n",
              "    </tr>\n",
              "    <tr>\n",
              "      <th>110</th>\n",
              "      <td>&lt;tensorflow.python.keras.layers.core.Activation object at 0x7fc3bf67d630&gt;</td>\n",
              "      <td>conv4_block3_preact_relu</td>\n",
              "      <td>True</td>\n",
              "    </tr>\n",
              "    <tr>\n",
              "      <th>111</th>\n",
              "      <td>&lt;tensorflow.python.keras.layers.convolutional.Conv2D object at 0x7fc3bf6774a8&gt;</td>\n",
              "      <td>conv4_block3_1_conv</td>\n",
              "      <td>True</td>\n",
              "    </tr>\n",
              "    <tr>\n",
              "      <th>112</th>\n",
              "      <td>&lt;tensorflow.python.keras.layers.normalization.BatchNormalization object at 0x7fc3bf67d748&gt;</td>\n",
              "      <td>conv4_block3_1_bn</td>\n",
              "      <td>True</td>\n",
              "    </tr>\n",
              "    <tr>\n",
              "      <th>113</th>\n",
              "      <td>&lt;tensorflow.python.keras.layers.core.Activation object at 0x7fc3bf63e400&gt;</td>\n",
              "      <td>conv4_block3_1_relu</td>\n",
              "      <td>True</td>\n",
              "    </tr>\n",
              "    <tr>\n",
              "      <th>114</th>\n",
              "      <td>&lt;tensorflow.python.keras.layers.convolutional.ZeroPadding2D object at 0x7fc3bf630438&gt;</td>\n",
              "      <td>conv4_block3_2_pad</td>\n",
              "      <td>True</td>\n",
              "    </tr>\n",
              "    <tr>\n",
              "      <th>115</th>\n",
              "      <td>&lt;tensorflow.python.keras.layers.convolutional.Conv2D object at 0x7fc3bf5e1f60&gt;</td>\n",
              "      <td>conv4_block3_2_conv</td>\n",
              "      <td>True</td>\n",
              "    </tr>\n",
              "    <tr>\n",
              "      <th>116</th>\n",
              "      <td>&lt;tensorflow.python.keras.layers.normalization.BatchNormalization object at 0x7fc3bf5e96d8&gt;</td>\n",
              "      <td>conv4_block3_2_bn</td>\n",
              "      <td>True</td>\n",
              "    </tr>\n",
              "    <tr>\n",
              "      <th>117</th>\n",
              "      <td>&lt;tensorflow.python.keras.layers.core.Activation object at 0x7fc3bf5f7be0&gt;</td>\n",
              "      <td>conv4_block3_2_relu</td>\n",
              "      <td>True</td>\n",
              "    </tr>\n",
              "    <tr>\n",
              "      <th>118</th>\n",
              "      <td>&lt;tensorflow.python.keras.layers.convolutional.Conv2D object at 0x7fc3bf5ee240&gt;</td>\n",
              "      <td>conv4_block3_3_conv</td>\n",
              "      <td>True</td>\n",
              "    </tr>\n",
              "    <tr>\n",
              "      <th>119</th>\n",
              "      <td>&lt;tensorflow.python.keras.layers.merge.Add object at 0x7fc3bf5aa518&gt;</td>\n",
              "      <td>conv4_block3_out</td>\n",
              "      <td>True</td>\n",
              "    </tr>\n",
              "    <tr>\n",
              "      <th>120</th>\n",
              "      <td>&lt;tensorflow.python.keras.layers.normalization.BatchNormalization object at 0x7fc3bf60a320&gt;</td>\n",
              "      <td>conv4_block4_preact_bn</td>\n",
              "      <td>True</td>\n",
              "    </tr>\n",
              "    <tr>\n",
              "      <th>121</th>\n",
              "      <td>&lt;tensorflow.python.keras.layers.core.Activation object at 0x7fc3bf5b7f98&gt;</td>\n",
              "      <td>conv4_block4_preact_relu</td>\n",
              "      <td>True</td>\n",
              "    </tr>\n",
              "    <tr>\n",
              "      <th>122</th>\n",
              "      <td>&lt;tensorflow.python.keras.layers.convolutional.Conv2D object at 0x7fc3bf5bc0f0&gt;</td>\n",
              "      <td>conv4_block4_1_conv</td>\n",
              "      <td>True</td>\n",
              "    </tr>\n",
              "    <tr>\n",
              "      <th>123</th>\n",
              "      <td>&lt;tensorflow.python.keras.layers.normalization.BatchNormalization object at 0x7fc3bf56a518&gt;</td>\n",
              "      <td>conv4_block4_1_bn</td>\n",
              "      <td>True</td>\n",
              "    </tr>\n",
              "    <tr>\n",
              "      <th>124</th>\n",
              "      <td>&lt;tensorflow.python.keras.layers.core.Activation object at 0x7fc3bf575d68&gt;</td>\n",
              "      <td>conv4_block4_1_relu</td>\n",
              "      <td>True</td>\n",
              "    </tr>\n",
              "    <tr>\n",
              "      <th>125</th>\n",
              "      <td>&lt;tensorflow.python.keras.layers.convolutional.ZeroPadding2D object at 0x7fc3bf56f240&gt;</td>\n",
              "      <td>conv4_block4_2_pad</td>\n",
              "      <td>True</td>\n",
              "    </tr>\n",
              "    <tr>\n",
              "      <th>126</th>\n",
              "      <td>&lt;tensorflow.python.keras.layers.convolutional.Conv2D object at 0x7fc3bf51de10&gt;</td>\n",
              "      <td>conv4_block4_2_conv</td>\n",
              "      <td>True</td>\n",
              "    </tr>\n",
              "    <tr>\n",
              "      <th>127</th>\n",
              "      <td>&lt;tensorflow.python.keras.layers.normalization.BatchNormalization object at 0x7fc3bf527ba8&gt;</td>\n",
              "      <td>conv4_block4_2_bn</td>\n",
              "      <td>True</td>\n",
              "    </tr>\n",
              "    <tr>\n",
              "      <th>128</th>\n",
              "      <td>&lt;tensorflow.python.keras.layers.core.Activation object at 0x7fc3bf537588&gt;</td>\n",
              "      <td>conv4_block4_2_relu</td>\n",
              "      <td>True</td>\n",
              "    </tr>\n",
              "    <tr>\n",
              "      <th>129</th>\n",
              "      <td>&lt;tensorflow.python.keras.layers.convolutional.Conv2D object at 0x7fc3bf527be0&gt;</td>\n",
              "      <td>conv4_block4_3_conv</td>\n",
              "      <td>True</td>\n",
              "    </tr>\n",
              "    <tr>\n",
              "      <th>130</th>\n",
              "      <td>&lt;tensorflow.python.keras.layers.merge.Add object at 0x7fc3bf55c588&gt;</td>\n",
              "      <td>conv4_block4_out</td>\n",
              "      <td>True</td>\n",
              "    </tr>\n",
              "    <tr>\n",
              "      <th>131</th>\n",
              "      <td>&lt;tensorflow.python.keras.layers.normalization.BatchNormalization object at 0x7fc3bf4e4f98&gt;</td>\n",
              "      <td>conv4_block5_preact_bn</td>\n",
              "      <td>True</td>\n",
              "    </tr>\n",
              "    <tr>\n",
              "      <th>132</th>\n",
              "      <td>&lt;tensorflow.python.keras.layers.core.Activation object at 0x7fc3bf4f6940&gt;</td>\n",
              "      <td>conv4_block5_preact_relu</td>\n",
              "      <td>True</td>\n",
              "    </tr>\n",
              "    <tr>\n",
              "      <th>133</th>\n",
              "      <td>&lt;tensorflow.python.keras.layers.convolutional.Conv2D object at 0x7fc3bf4f2438&gt;</td>\n",
              "      <td>conv4_block5_1_conv</td>\n",
              "      <td>True</td>\n",
              "    </tr>\n",
              "    <tr>\n",
              "      <th>134</th>\n",
              "      <td>&lt;tensorflow.python.keras.layers.normalization.BatchNormalization object at 0x7fc3bf4a8a58&gt;</td>\n",
              "      <td>conv4_block5_1_bn</td>\n",
              "      <td>True</td>\n",
              "    </tr>\n",
              "    <tr>\n",
              "      <th>135</th>\n",
              "      <td>&lt;tensorflow.python.keras.layers.core.Activation object at 0x7fc3bf4b7710&gt;</td>\n",
              "      <td>conv4_block5_1_relu</td>\n",
              "      <td>True</td>\n",
              "    </tr>\n",
              "    <tr>\n",
              "      <th>136</th>\n",
              "      <td>&lt;tensorflow.python.keras.layers.convolutional.ZeroPadding2D object at 0x7fc3bf4a8748&gt;</td>\n",
              "      <td>conv4_block5_2_pad</td>\n",
              "      <td>True</td>\n",
              "    </tr>\n",
              "    <tr>\n",
              "      <th>137</th>\n",
              "      <td>&lt;tensorflow.python.keras.layers.convolutional.Conv2D object at 0x7fc3bf461d30&gt;</td>\n",
              "      <td>conv4_block5_2_conv</td>\n",
              "      <td>True</td>\n",
              "    </tr>\n",
              "    <tr>\n",
              "      <th>138</th>\n",
              "      <td>&lt;tensorflow.python.keras.layers.normalization.BatchNormalization object at 0x7fc3bf4619e8&gt;</td>\n",
              "      <td>conv4_block5_2_bn</td>\n",
              "      <td>True</td>\n",
              "    </tr>\n",
              "    <tr>\n",
              "      <th>139</th>\n",
              "      <td>&lt;tensorflow.python.keras.layers.core.Activation object at 0x7fc3bf4695f8&gt;</td>\n",
              "      <td>conv4_block5_2_relu</td>\n",
              "      <td>True</td>\n",
              "    </tr>\n",
              "    <tr>\n",
              "      <th>140</th>\n",
              "      <td>&lt;tensorflow.python.keras.layers.convolutional.Conv2D object at 0x7fc3bf476080&gt;</td>\n",
              "      <td>conv4_block5_3_conv</td>\n",
              "      <td>True</td>\n",
              "    </tr>\n",
              "    <tr>\n",
              "      <th>141</th>\n",
              "      <td>&lt;tensorflow.python.keras.layers.merge.Add object at 0x7fc3bf469630&gt;</td>\n",
              "      <td>conv4_block5_out</td>\n",
              "      <td>True</td>\n",
              "    </tr>\n",
              "    <tr>\n",
              "      <th>142</th>\n",
              "      <td>&lt;tensorflow.python.keras.layers.normalization.BatchNormalization object at 0x7fc3bf422940&gt;</td>\n",
              "      <td>conv4_block6_preact_bn</td>\n",
              "      <td>True</td>\n",
              "    </tr>\n",
              "    <tr>\n",
              "      <th>143</th>\n",
              "      <td>&lt;tensorflow.python.keras.layers.core.Activation object at 0x7fc3bf4352e8&gt;</td>\n",
              "      <td>conv4_block6_preact_relu</td>\n",
              "      <td>True</td>\n",
              "    </tr>\n",
              "    <tr>\n",
              "      <th>144</th>\n",
              "      <td>&lt;tensorflow.python.keras.layers.convolutional.Conv2D object at 0x7fc3bf3e37b8&gt;</td>\n",
              "      <td>conv4_block6_1_conv</td>\n",
              "      <td>True</td>\n",
              "    </tr>\n",
              "    <tr>\n",
              "      <th>145</th>\n",
              "      <td>&lt;tensorflow.python.keras.layers.normalization.BatchNormalization object at 0x7fc3bf3eaba8&gt;</td>\n",
              "      <td>conv4_block6_1_bn</td>\n",
              "      <td>True</td>\n",
              "    </tr>\n",
              "    <tr>\n",
              "      <th>146</th>\n",
              "      <td>&lt;tensorflow.python.keras.layers.core.Activation object at 0x7fc3bf3f55c0&gt;</td>\n",
              "      <td>conv4_block6_1_relu</td>\n",
              "      <td>True</td>\n",
              "    </tr>\n",
              "    <tr>\n",
              "      <th>147</th>\n",
              "      <td>&lt;tensorflow.python.keras.layers.convolutional.ZeroPadding2D object at 0x7fc3bf3eabe0&gt;</td>\n",
              "      <td>conv4_block6_2_pad</td>\n",
              "      <td>True</td>\n",
              "    </tr>\n",
              "    <tr>\n",
              "      <th>148</th>\n",
              "      <td>&lt;tensorflow.python.keras.layers.convolutional.Conv2D object at 0x7fc3bf3a2e10&gt;</td>\n",
              "      <td>conv4_block6_2_conv</td>\n",
              "      <td>True</td>\n",
              "    </tr>\n",
              "    <tr>\n",
              "      <th>149</th>\n",
              "      <td>&lt;tensorflow.python.keras.layers.normalization.BatchNormalization object at 0x7fc3bf3a2f28&gt;</td>\n",
              "      <td>conv4_block6_2_bn</td>\n",
              "      <td>True</td>\n",
              "    </tr>\n",
              "    <tr>\n",
              "      <th>150</th>\n",
              "      <td>&lt;tensorflow.python.keras.layers.core.Activation object at 0x7fc3bf3a9438&gt;</td>\n",
              "      <td>conv4_block6_2_relu</td>\n",
              "      <td>True</td>\n",
              "    </tr>\n",
              "    <tr>\n",
              "      <th>151</th>\n",
              "      <td>&lt;tensorflow.python.keras.layers.pooling.MaxPooling2D object at 0x7fc3bf4228d0&gt;</td>\n",
              "      <td>max_pooling2d_11</td>\n",
              "      <td>True</td>\n",
              "    </tr>\n",
              "    <tr>\n",
              "      <th>152</th>\n",
              "      <td>&lt;tensorflow.python.keras.layers.convolutional.Conv2D object at 0x7fc3bf3b17b8&gt;</td>\n",
              "      <td>conv4_block6_3_conv</td>\n",
              "      <td>True</td>\n",
              "    </tr>\n",
              "    <tr>\n",
              "      <th>153</th>\n",
              "      <td>&lt;tensorflow.python.keras.layers.merge.Add object at 0x7fc3bf3a9a58&gt;</td>\n",
              "      <td>conv4_block6_out</td>\n",
              "      <td>True</td>\n",
              "    </tr>\n",
              "    <tr>\n",
              "      <th>154</th>\n",
              "      <td>&lt;tensorflow.python.keras.layers.normalization.BatchNormalization object at 0x7fc3bf3624a8&gt;</td>\n",
              "      <td>conv5_block1_preact_bn</td>\n",
              "      <td>True</td>\n",
              "    </tr>\n",
              "    <tr>\n",
              "      <th>155</th>\n",
              "      <td>&lt;tensorflow.python.keras.layers.core.Activation object at 0x7fc3bf376198&gt;</td>\n",
              "      <td>conv5_block1_preact_relu</td>\n",
              "      <td>True</td>\n",
              "    </tr>\n",
              "    <tr>\n",
              "      <th>156</th>\n",
              "      <td>&lt;tensorflow.python.keras.layers.convolutional.Conv2D object at 0x7fc3bf38a400&gt;</td>\n",
              "      <td>conv5_block1_1_conv</td>\n",
              "      <td>True</td>\n",
              "    </tr>\n",
              "    <tr>\n",
              "      <th>157</th>\n",
              "      <td>&lt;tensorflow.python.keras.layers.normalization.BatchNormalization object at 0x7fc3bf334dd8&gt;</td>\n",
              "      <td>conv5_block1_1_bn</td>\n",
              "      <td>True</td>\n",
              "    </tr>\n",
              "    <tr>\n",
              "      <th>158</th>\n",
              "      <td>&lt;tensorflow.python.keras.layers.core.Activation object at 0x7fc3bf3417b8&gt;</td>\n",
              "      <td>conv5_block1_1_relu</td>\n",
              "      <td>True</td>\n",
              "    </tr>\n",
              "    <tr>\n",
              "      <th>159</th>\n",
              "      <td>&lt;tensorflow.python.keras.layers.convolutional.ZeroPadding2D object at 0x7fc3bf334e10&gt;</td>\n",
              "      <td>conv5_block1_2_pad</td>\n",
              "      <td>True</td>\n",
              "    </tr>\n",
              "    <tr>\n",
              "      <th>160</th>\n",
              "      <td>&lt;tensorflow.python.keras.layers.convolutional.Conv2D object at 0x7fc3bf2eddd8&gt;</td>\n",
              "      <td>conv5_block1_2_conv</td>\n",
              "      <td>True</td>\n",
              "    </tr>\n",
              "    <tr>\n",
              "      <th>161</th>\n",
              "      <td>&lt;tensorflow.python.keras.layers.normalization.BatchNormalization object at 0x7fc3bf2e6cf8&gt;</td>\n",
              "      <td>conv5_block1_2_bn</td>\n",
              "      <td>True</td>\n",
              "    </tr>\n",
              "    <tr>\n",
              "      <th>162</th>\n",
              "      <td>&lt;tensorflow.python.keras.layers.core.Activation object at 0x7fc3bf2f6518&gt;</td>\n",
              "      <td>conv5_block1_2_relu</td>\n",
              "      <td>True</td>\n",
              "    </tr>\n",
              "    <tr>\n",
              "      <th>163</th>\n",
              "      <td>&lt;tensorflow.python.keras.layers.convolutional.Conv2D object at 0x7fc3bf362400&gt;</td>\n",
              "      <td>conv5_block1_0_conv</td>\n",
              "      <td>True</td>\n",
              "    </tr>\n",
              "    <tr>\n",
              "      <th>164</th>\n",
              "      <td>&lt;tensorflow.python.keras.layers.convolutional.Conv2D object at 0x7fc3bf3030b8&gt;</td>\n",
              "      <td>conv5_block1_3_conv</td>\n",
              "      <td>True</td>\n",
              "    </tr>\n",
              "    <tr>\n",
              "      <th>165</th>\n",
              "      <td>&lt;tensorflow.python.keras.layers.merge.Add object at 0x7fc3bf2f6c88&gt;</td>\n",
              "      <td>conv5_block1_out</td>\n",
              "      <td>True</td>\n",
              "    </tr>\n",
              "    <tr>\n",
              "      <th>166</th>\n",
              "      <td>&lt;tensorflow.python.keras.layers.normalization.BatchNormalization object at 0x7fc3bf2af9b0&gt;</td>\n",
              "      <td>conv5_block2_preact_bn</td>\n",
              "      <td>True</td>\n",
              "    </tr>\n",
              "    <tr>\n",
              "      <th>167</th>\n",
              "      <td>&lt;tensorflow.python.keras.layers.core.Activation object at 0x7fc3bf2c1390&gt;</td>\n",
              "      <td>conv5_block2_preact_relu</td>\n",
              "      <td>True</td>\n",
              "    </tr>\n",
              "    <tr>\n",
              "      <th>168</th>\n",
              "      <td>&lt;tensorflow.python.keras.layers.convolutional.Conv2D object at 0x7fc3bf2af940&gt;</td>\n",
              "      <td>conv5_block2_1_conv</td>\n",
              "      <td>True</td>\n",
              "    </tr>\n",
              "    <tr>\n",
              "      <th>169</th>\n",
              "      <td>&lt;tensorflow.python.keras.layers.normalization.BatchNormalization object at 0x7fc3bf275160&gt;</td>\n",
              "      <td>conv5_block2_1_bn</td>\n",
              "      <td>True</td>\n",
              "    </tr>\n",
              "    <tr>\n",
              "      <th>170</th>\n",
              "      <td>&lt;tensorflow.python.keras.layers.core.Activation object at 0x7fc3bf27e160&gt;</td>\n",
              "      <td>conv5_block2_1_relu</td>\n",
              "      <td>True</td>\n",
              "    </tr>\n",
              "    <tr>\n",
              "      <th>171</th>\n",
              "      <td>&lt;tensorflow.python.keras.layers.convolutional.ZeroPadding2D object at 0x7fc3bf275518&gt;</td>\n",
              "      <td>conv5_block2_2_pad</td>\n",
              "      <td>True</td>\n",
              "    </tr>\n",
              "    <tr>\n",
              "      <th>172</th>\n",
              "      <td>&lt;tensorflow.python.keras.layers.convolutional.Conv2D object at 0x7fc3bf229cf8&gt;</td>\n",
              "      <td>conv5_block2_2_conv</td>\n",
              "      <td>True</td>\n",
              "    </tr>\n",
              "    <tr>\n",
              "      <th>173</th>\n",
              "      <td>&lt;tensorflow.python.keras.layers.normalization.BatchNormalization object at 0x7fc3bf22df60&gt;</td>\n",
              "      <td>conv5_block2_2_bn</td>\n",
              "      <td>True</td>\n",
              "    </tr>\n",
              "    <tr>\n",
              "      <th>174</th>\n",
              "      <td>&lt;tensorflow.python.keras.layers.core.Activation object at 0x7fc3bf23b940&gt;</td>\n",
              "      <td>conv5_block2_2_relu</td>\n",
              "      <td>True</td>\n",
              "    </tr>\n",
              "    <tr>\n",
              "      <th>175</th>\n",
              "      <td>&lt;tensorflow.python.keras.layers.convolutional.Conv2D object at 0x7fc3bf22df98&gt;</td>\n",
              "      <td>conv5_block2_3_conv</td>\n",
              "      <td>True</td>\n",
              "    </tr>\n",
              "    <tr>\n",
              "      <th>176</th>\n",
              "      <td>&lt;tensorflow.python.keras.layers.merge.Add object at 0x7fc3bf1ef208&gt;</td>\n",
              "      <td>conv5_block2_out</td>\n",
              "      <td>True</td>\n",
              "    </tr>\n",
              "    <tr>\n",
              "      <th>177</th>\n",
              "      <td>&lt;tensorflow.python.keras.layers.normalization.BatchNormalization object at 0x7fc3bf1e6e48&gt;</td>\n",
              "      <td>conv5_block3_preact_bn</td>\n",
              "      <td>True</td>\n",
              "    </tr>\n",
              "    <tr>\n",
              "      <th>178</th>\n",
              "      <td>&lt;tensorflow.python.keras.layers.core.Activation object at 0x7fc3bf1fbcf8&gt;</td>\n",
              "      <td>conv5_block3_preact_relu</td>\n",
              "      <td>True</td>\n",
              "    </tr>\n",
              "    <tr>\n",
              "      <th>179</th>\n",
              "      <td>&lt;tensorflow.python.keras.layers.convolutional.Conv2D object at 0x7fc3bf1f3cc0&gt;</td>\n",
              "      <td>conv5_block3_1_conv</td>\n",
              "      <td>True</td>\n",
              "    </tr>\n",
              "    <tr>\n",
              "      <th>180</th>\n",
              "      <td>&lt;tensorflow.python.keras.layers.normalization.BatchNormalization object at 0x7fc3bf1ae630&gt;</td>\n",
              "      <td>conv5_block3_1_bn</td>\n",
              "      <td>True</td>\n",
              "    </tr>\n",
              "    <tr>\n",
              "      <th>181</th>\n",
              "      <td>&lt;tensorflow.python.keras.layers.core.Activation object at 0x7fc3bf1b9ac8&gt;</td>\n",
              "      <td>conv5_block3_1_relu</td>\n",
              "      <td>True</td>\n",
              "    </tr>\n",
              "    <tr>\n",
              "      <th>182</th>\n",
              "      <td>&lt;tensorflow.python.keras.layers.convolutional.ZeroPadding2D object at 0x7fc3bf167fd0&gt;</td>\n",
              "      <td>conv5_block3_2_pad</td>\n",
              "      <td>True</td>\n",
              "    </tr>\n",
              "    <tr>\n",
              "      <th>183</th>\n",
              "      <td>&lt;tensorflow.python.keras.layers.convolutional.Conv2D object at 0x7fc3bf1b9b00&gt;</td>\n",
              "      <td>conv5_block3_2_conv</td>\n",
              "      <td>True</td>\n",
              "    </tr>\n",
              "    <tr>\n",
              "      <th>184</th>\n",
              "      <td>&lt;tensorflow.python.keras.layers.normalization.BatchNormalization object at 0x7fc3bf167470&gt;</td>\n",
              "      <td>conv5_block3_2_bn</td>\n",
              "      <td>True</td>\n",
              "    </tr>\n",
              "    <tr>\n",
              "      <th>185</th>\n",
              "      <td>&lt;tensorflow.python.keras.layers.core.Activation object at 0x7fc3bf1792e8&gt;</td>\n",
              "      <td>conv5_block3_2_relu</td>\n",
              "      <td>True</td>\n",
              "    </tr>\n",
              "    <tr>\n",
              "      <th>186</th>\n",
              "      <td>&lt;tensorflow.python.keras.layers.convolutional.Conv2D object at 0x7fc3bf16f908&gt;</td>\n",
              "      <td>conv5_block3_3_conv</td>\n",
              "      <td>True</td>\n",
              "    </tr>\n",
              "    <tr>\n",
              "      <th>187</th>\n",
              "      <td>&lt;tensorflow.python.keras.layers.merge.Add object at 0x7fc3bf125a58&gt;</td>\n",
              "      <td>conv5_block3_out</td>\n",
              "      <td>True</td>\n",
              "    </tr>\n",
              "    <tr>\n",
              "      <th>188</th>\n",
              "      <td>&lt;tensorflow.python.keras.layers.normalization.BatchNormalization object at 0x7fc3bf179320&gt;</td>\n",
              "      <td>post_bn</td>\n",
              "      <td>True</td>\n",
              "    </tr>\n",
              "    <tr>\n",
              "      <th>189</th>\n",
              "      <td>&lt;tensorflow.python.keras.layers.core.Activation object at 0x7fc3bf13a6a0&gt;</td>\n",
              "      <td>post_relu</td>\n",
              "      <td>True</td>\n",
              "    </tr>\n",
              "  </tbody>\n",
              "</table>\n",
              "</div>"
            ],
            "text/plain": [
              "                                                                                     Layer Type  ... Layer Trainable\n",
              "0    <tensorflow.python.keras.engine.input_layer.InputLayer object at 0x7fc3bfe6eeb8>            ...  False         \n",
              "1    <tensorflow.python.keras.layers.convolutional.ZeroPadding2D object at 0x7fc3c0206be0>       ...  False         \n",
              "2    <tensorflow.python.keras.layers.convolutional.Conv2D object at 0x7fc3bfca7320>              ...  False         \n",
              "3    <tensorflow.python.keras.layers.convolutional.ZeroPadding2D object at 0x7fc3bfd08a20>       ...  False         \n",
              "4    <tensorflow.python.keras.layers.pooling.MaxPooling2D object at 0x7fc3bfd16fd0>              ...  False         \n",
              "5    <tensorflow.python.keras.layers.normalization.BatchNormalization object at 0x7fc3bfd41278>  ...  False         \n",
              "6    <tensorflow.python.keras.layers.core.Activation object at 0x7fc3bfd33f28>                   ...  False         \n",
              "7    <tensorflow.python.keras.layers.convolutional.Conv2D object at 0x7fc3bfdb79e8>              ...  False         \n",
              "8    <tensorflow.python.keras.layers.normalization.BatchNormalization object at 0x7fc3bfe41978>  ...  False         \n",
              "9    <tensorflow.python.keras.layers.core.Activation object at 0x7fc3bfe97438>                   ...  False         \n",
              "10   <tensorflow.python.keras.layers.convolutional.ZeroPadding2D object at 0x7fc3bfe8fba8>       ...  False         \n",
              "11   <tensorflow.python.keras.layers.convolutional.Conv2D object at 0x7fc3bfca3e10>              ...  False         \n",
              "12   <tensorflow.python.keras.layers.normalization.BatchNormalization object at 0x7fc3bfc859b0>  ...  False         \n",
              "13   <tensorflow.python.keras.layers.core.Activation object at 0x7fc3bfc62ac8>                   ...  False         \n",
              "14   <tensorflow.python.keras.layers.convolutional.Conv2D object at 0x7fc3bfd41d68>              ...  False         \n",
              "15   <tensorflow.python.keras.layers.convolutional.Conv2D object at 0x7fc3bfc22fd0>              ...  False         \n",
              "16   <tensorflow.python.keras.layers.merge.Add object at 0x7fc3bfc28320>                         ...  False         \n",
              "17   <tensorflow.python.keras.layers.normalization.BatchNormalization object at 0x7fc3bfc62a58>  ...  False         \n",
              "18   <tensorflow.python.keras.layers.core.Activation object at 0x7fc3bfc30b70>                   ...  False         \n",
              "19   <tensorflow.python.keras.layers.convolutional.Conv2D object at 0x7fc3bfc2ce10>              ...  False         \n",
              "20   <tensorflow.python.keras.layers.normalization.BatchNormalization object at 0x7fc3bfc56b70>  ...  False         \n",
              "21   <tensorflow.python.keras.layers.core.Activation object at 0x7fc3bfbdfcc0>                   ...  False         \n",
              "22   <tensorflow.python.keras.layers.convolutional.ZeroPadding2D object at 0x7fc3bfc5b048>       ...  False         \n",
              "23   <tensorflow.python.keras.layers.convolutional.Conv2D object at 0x7fc3bfbdfcf8>              ...  False         \n",
              "24   <tensorflow.python.keras.layers.normalization.BatchNormalization object at 0x7fc3bfc0aac8>  ...  False         \n",
              "25   <tensorflow.python.keras.layers.core.Activation object at 0x7fc3bfc154e0>                   ...  False         \n",
              "26   <tensorflow.python.keras.layers.convolutional.Conv2D object at 0x7fc3bfc0ab00>              ...  False         \n",
              "27   <tensorflow.python.keras.layers.merge.Add object at 0x7fc3bfbbbf60>                         ...  False         \n",
              "28   <tensorflow.python.keras.layers.normalization.BatchNormalization object at 0x7fc3bfc15518>  ...  True          \n",
              "29   <tensorflow.python.keras.layers.core.Activation object at 0x7fc3bfbd6588>                   ...  True          \n",
              "30   <tensorflow.python.keras.layers.convolutional.Conv2D object at 0x7fc3bfb64f28>              ...  True          \n",
              "31   <tensorflow.python.keras.layers.normalization.BatchNormalization object at 0x7fc3bfb83eb8>  ...  True          \n",
              "32   <tensorflow.python.keras.layers.core.Activation object at 0x7fc3bfb8ebe0>                   ...  True          \n",
              "33   <tensorflow.python.keras.layers.convolutional.ZeroPadding2D object at 0x7fc3bfb89240>       ...  True          \n",
              "34   <tensorflow.python.keras.layers.convolutional.Conv2D object at 0x7fc3bfb8ec18>              ...  True          \n",
              "35   <tensorflow.python.keras.layers.normalization.BatchNormalization object at 0x7fc3bfb3d7b8>  ...  True          \n",
              "36   <tensorflow.python.keras.layers.core.Activation object at 0x7fc3bfb50400>                   ...  True          \n",
              "37   <tensorflow.python.keras.layers.pooling.MaxPooling2D object at 0x7fc3bfbd2710>              ...  True          \n",
              "38   <tensorflow.python.keras.layers.convolutional.Conv2D object at 0x7fc3bfb44a20>              ...  True          \n",
              "39   <tensorflow.python.keras.layers.merge.Add object at 0x7fc3bfafbd30>                         ...  True          \n",
              "40   <tensorflow.python.keras.layers.normalization.BatchNormalization object at 0x7fc3bfaf5d68>  ...  True          \n",
              "41   <tensorflow.python.keras.layers.core.Activation object at 0x7fc3bfb0f4a8>                   ...  True          \n",
              "42   <tensorflow.python.keras.layers.convolutional.Conv2D object at 0x7fc3bfabbbe0>              ...  True          \n",
              "43   <tensorflow.python.keras.layers.normalization.BatchNormalization object at 0x7fc3bfabbd30>  ...  True          \n",
              "44   <tensorflow.python.keras.layers.core.Activation object at 0x7fc3bfad4b38>                   ...  True          \n",
              "45   <tensorflow.python.keras.layers.convolutional.ZeroPadding2D object at 0x7fc3bfa82da0>       ...  True          \n",
              "46   <tensorflow.python.keras.layers.convolutional.Conv2D object at 0x7fc3bfad4b70>              ...  True          \n",
              "47   <tensorflow.python.keras.layers.normalization.BatchNormalization object at 0x7fc3bfa82c18>  ...  True          \n",
              "48   <tensorflow.python.keras.layers.core.Activation object at 0x7fc3bfa96358>                   ...  True          \n",
              "49   <tensorflow.python.keras.layers.convolutional.Conv2D object at 0x7fc3bfb093c8>              ...  True          \n",
              "50   <tensorflow.python.keras.layers.convolutional.Conv2D object at 0x7fc3bfa8a940>              ...  True          \n",
              "51   <tensorflow.python.keras.layers.merge.Add object at 0x7fc3bfa41be0>                         ...  True          \n",
              "52   <tensorflow.python.keras.layers.normalization.BatchNormalization object at 0x7fc3bfa96390>  ...  True          \n",
              "53   <tensorflow.python.keras.layers.core.Activation object at 0x7fc3bfa51400>                   ...  True          \n",
              "54   <tensorflow.python.keras.layers.convolutional.Conv2D object at 0x7fc3bfa41dd8>              ...  True          \n",
              "55   <tensorflow.python.keras.layers.normalization.BatchNormalization object at 0x7fc3bfa00be0>  ...  True          \n",
              "56   <tensorflow.python.keras.layers.core.Activation object at 0x7fc3bfa10550>                   ...  True          \n",
              "57   <tensorflow.python.keras.layers.convolutional.ZeroPadding2D object at 0x7fc3bfa008d0>       ...  True          \n",
              "58   <tensorflow.python.keras.layers.convolutional.Conv2D object at 0x7fc3bf9baf60>              ...  True          \n",
              "59   <tensorflow.python.keras.layers.normalization.BatchNormalization object at 0x7fc3bf9bac88>  ...  True          \n",
              "60   <tensorflow.python.keras.layers.core.Activation object at 0x7fc3bf9c6d30>                   ...  True          \n",
              "61   <tensorflow.python.keras.layers.convolutional.Conv2D object at 0x7fc3bf9c2390>              ...  True          \n",
              "62   <tensorflow.python.keras.layers.merge.Add object at 0x7fc3bf979668>                         ...  True          \n",
              "63   <tensorflow.python.keras.layers.normalization.BatchNormalization object at 0x7fc3bf9db470>  ...  True          \n",
              "64   <tensorflow.python.keras.layers.core.Activation object at 0x7fc3bf985dd8>                   ...  True          \n",
              "65   <tensorflow.python.keras.layers.convolutional.Conv2D object at 0x7fc3bf980e10>              ...  True          \n",
              "66   <tensorflow.python.keras.layers.normalization.BatchNormalization object at 0x7fc3bf99a400>  ...  True          \n",
              "67   <tensorflow.python.keras.layers.core.Activation object at 0x7fc3bf93c4e0>                   ...  True          \n",
              "68   <tensorflow.python.keras.layers.convolutional.ZeroPadding2D object at 0x7fc3bf94b048>       ...  True          \n",
              "69   <tensorflow.python.keras.layers.convolutional.Conv2D object at 0x7fc3bf8edfd0>              ...  True          \n",
              "70   <tensorflow.python.keras.layers.normalization.BatchNormalization object at 0x7fc3bf8f3d68>  ...  True          \n",
              "71   <tensorflow.python.keras.layers.core.Activation object at 0x7fc3bf902748>                   ...  True          \n",
              "72   <tensorflow.python.keras.layers.convolutional.Conv2D object at 0x7fc3bf8f3da0>              ...  True          \n",
              "73   <tensorflow.python.keras.layers.merge.Add object at 0x7fc3bf8a7358>                         ...  True          \n",
              "74   <tensorflow.python.keras.layers.normalization.BatchNormalization object at 0x7fc3bf8b20b8>  ...  True          \n",
              "75   <tensorflow.python.keras.layers.core.Activation object at 0x7fc3bf8be7f0>                   ...  True          \n",
              "76   <tensorflow.python.keras.layers.convolutional.Conv2D object at 0x7fc3bf86f978>              ...  True          \n",
              "77   <tensorflow.python.keras.layers.normalization.BatchNormalization object at 0x7fc3bf8be908>  ...  True          \n",
              "78   <tensorflow.python.keras.layers.core.Activation object at 0x7fc3bf874518>                   ...  True          \n",
              "79   <tensorflow.python.keras.layers.convolutional.ZeroPadding2D object at 0x7fc3bf87a860>       ...  True          \n",
              "80   <tensorflow.python.keras.layers.convolutional.Conv2D object at 0x7fc3bf81fb70>              ...  True          \n",
              "81   <tensorflow.python.keras.layers.normalization.BatchNormalization object at 0x7fc3bf82cc88>  ...  True          \n",
              "82   <tensorflow.python.keras.layers.core.Activation object at 0x7fc3bf83a668>                   ...  True          \n",
              "83   <tensorflow.python.keras.layers.pooling.MaxPooling2D object at 0x7fc3bf8b20f0>              ...  True          \n",
              "84   <tensorflow.python.keras.layers.convolutional.Conv2D object at 0x7fc3bf82ccc0>              ...  True          \n",
              "85   <tensorflow.python.keras.layers.merge.Add object at 0x7fc3bf7df320>                         ...  True          \n",
              "86   <tensorflow.python.keras.layers.normalization.BatchNormalization object at 0x7fc3bf7ea048>  ...  True          \n",
              "87   <tensorflow.python.keras.layers.core.Activation object at 0x7fc3bf7f56d8>                   ...  True          \n",
              "88   <tensorflow.python.keras.layers.convolutional.Conv2D object at 0x7fc3bf7a0e10>              ...  True          \n",
              "89   <tensorflow.python.keras.layers.normalization.BatchNormalization object at 0x7fc3bf7a0f28>  ...  True          \n",
              "90   <tensorflow.python.keras.layers.core.Activation object at 0x7fc3bf7c40f0>                   ...  True          \n",
              "91   <tensorflow.python.keras.layers.convolutional.ZeroPadding2D object at 0x7fc3bf7c1ac8>       ...  True          \n",
              "92   <tensorflow.python.keras.layers.convolutional.Conv2D object at 0x7fc3bf76de48>              ...  True          \n",
              "93   <tensorflow.python.keras.layers.normalization.BatchNormalization object at 0x7fc3bf771ef0>  ...  True          \n",
              "94   <tensorflow.python.keras.layers.core.Activation object at 0x7fc3bf7818d0>                   ...  True          \n",
              "95   <tensorflow.python.keras.layers.convolutional.Conv2D object at 0x7fc3bf7e5fd0>              ...  True          \n",
              "96   <tensorflow.python.keras.layers.convolutional.Conv2D object at 0x7fc3bf771f28>              ...  True          \n",
              "97   <tensorflow.python.keras.layers.merge.Add object at 0x7fc3bf732320>                         ...  True          \n",
              "98   <tensorflow.python.keras.layers.normalization.BatchNormalization object at 0x7fc3bf72ce80>  ...  True          \n",
              "99   <tensorflow.python.keras.layers.core.Activation object at 0x7fc3bf740c88>                   ...  True          \n",
              "100  <tensorflow.python.keras.layers.convolutional.Conv2D object at 0x7fc3bf73a898>              ...  True          \n",
              "101  <tensorflow.python.keras.layers.normalization.BatchNormalization object at 0x7fc3bf6f2e48>  ...  True          \n",
              "102  <tensorflow.python.keras.layers.core.Activation object at 0x7fc3bf701a58>                   ...  True          \n",
              "103  <tensorflow.python.keras.layers.convolutional.ZeroPadding2D object at 0x7fc3bf6acfd0>       ...  True          \n",
              "104  <tensorflow.python.keras.layers.convolutional.Conv2D object at 0x7fc3bf701a90>              ...  True          \n",
              "105  <tensorflow.python.keras.layers.normalization.BatchNormalization object at 0x7fc3bf6ac160>  ...  True          \n",
              "106  <tensorflow.python.keras.layers.core.Activation object at 0x7fc3bf6bd278>                   ...  True          \n",
              "107  <tensorflow.python.keras.layers.convolutional.Conv2D object at 0x7fc3bf6b0898>              ...  True          \n",
              "108  <tensorflow.python.keras.layers.merge.Add object at 0x7fc3bf66ac50>                         ...  True          \n",
              "109  <tensorflow.python.keras.layers.normalization.BatchNormalization object at 0x7fc3bf6bd2b0>  ...  True          \n",
              "110  <tensorflow.python.keras.layers.core.Activation object at 0x7fc3bf67d630>                   ...  True          \n",
              "111  <tensorflow.python.keras.layers.convolutional.Conv2D object at 0x7fc3bf6774a8>              ...  True          \n",
              "112  <tensorflow.python.keras.layers.normalization.BatchNormalization object at 0x7fc3bf67d748>  ...  True          \n",
              "113  <tensorflow.python.keras.layers.core.Activation object at 0x7fc3bf63e400>                   ...  True          \n",
              "114  <tensorflow.python.keras.layers.convolutional.ZeroPadding2D object at 0x7fc3bf630438>       ...  True          \n",
              "115  <tensorflow.python.keras.layers.convolutional.Conv2D object at 0x7fc3bf5e1f60>              ...  True          \n",
              "116  <tensorflow.python.keras.layers.normalization.BatchNormalization object at 0x7fc3bf5e96d8>  ...  True          \n",
              "117  <tensorflow.python.keras.layers.core.Activation object at 0x7fc3bf5f7be0>                   ...  True          \n",
              "118  <tensorflow.python.keras.layers.convolutional.Conv2D object at 0x7fc3bf5ee240>              ...  True          \n",
              "119  <tensorflow.python.keras.layers.merge.Add object at 0x7fc3bf5aa518>                         ...  True          \n",
              "120  <tensorflow.python.keras.layers.normalization.BatchNormalization object at 0x7fc3bf60a320>  ...  True          \n",
              "121  <tensorflow.python.keras.layers.core.Activation object at 0x7fc3bf5b7f98>                   ...  True          \n",
              "122  <tensorflow.python.keras.layers.convolutional.Conv2D object at 0x7fc3bf5bc0f0>              ...  True          \n",
              "123  <tensorflow.python.keras.layers.normalization.BatchNormalization object at 0x7fc3bf56a518>  ...  True          \n",
              "124  <tensorflow.python.keras.layers.core.Activation object at 0x7fc3bf575d68>                   ...  True          \n",
              "125  <tensorflow.python.keras.layers.convolutional.ZeroPadding2D object at 0x7fc3bf56f240>       ...  True          \n",
              "126  <tensorflow.python.keras.layers.convolutional.Conv2D object at 0x7fc3bf51de10>              ...  True          \n",
              "127  <tensorflow.python.keras.layers.normalization.BatchNormalization object at 0x7fc3bf527ba8>  ...  True          \n",
              "128  <tensorflow.python.keras.layers.core.Activation object at 0x7fc3bf537588>                   ...  True          \n",
              "129  <tensorflow.python.keras.layers.convolutional.Conv2D object at 0x7fc3bf527be0>              ...  True          \n",
              "130  <tensorflow.python.keras.layers.merge.Add object at 0x7fc3bf55c588>                         ...  True          \n",
              "131  <tensorflow.python.keras.layers.normalization.BatchNormalization object at 0x7fc3bf4e4f98>  ...  True          \n",
              "132  <tensorflow.python.keras.layers.core.Activation object at 0x7fc3bf4f6940>                   ...  True          \n",
              "133  <tensorflow.python.keras.layers.convolutional.Conv2D object at 0x7fc3bf4f2438>              ...  True          \n",
              "134  <tensorflow.python.keras.layers.normalization.BatchNormalization object at 0x7fc3bf4a8a58>  ...  True          \n",
              "135  <tensorflow.python.keras.layers.core.Activation object at 0x7fc3bf4b7710>                   ...  True          \n",
              "136  <tensorflow.python.keras.layers.convolutional.ZeroPadding2D object at 0x7fc3bf4a8748>       ...  True          \n",
              "137  <tensorflow.python.keras.layers.convolutional.Conv2D object at 0x7fc3bf461d30>              ...  True          \n",
              "138  <tensorflow.python.keras.layers.normalization.BatchNormalization object at 0x7fc3bf4619e8>  ...  True          \n",
              "139  <tensorflow.python.keras.layers.core.Activation object at 0x7fc3bf4695f8>                   ...  True          \n",
              "140  <tensorflow.python.keras.layers.convolutional.Conv2D object at 0x7fc3bf476080>              ...  True          \n",
              "141  <tensorflow.python.keras.layers.merge.Add object at 0x7fc3bf469630>                         ...  True          \n",
              "142  <tensorflow.python.keras.layers.normalization.BatchNormalization object at 0x7fc3bf422940>  ...  True          \n",
              "143  <tensorflow.python.keras.layers.core.Activation object at 0x7fc3bf4352e8>                   ...  True          \n",
              "144  <tensorflow.python.keras.layers.convolutional.Conv2D object at 0x7fc3bf3e37b8>              ...  True          \n",
              "145  <tensorflow.python.keras.layers.normalization.BatchNormalization object at 0x7fc3bf3eaba8>  ...  True          \n",
              "146  <tensorflow.python.keras.layers.core.Activation object at 0x7fc3bf3f55c0>                   ...  True          \n",
              "147  <tensorflow.python.keras.layers.convolutional.ZeroPadding2D object at 0x7fc3bf3eabe0>       ...  True          \n",
              "148  <tensorflow.python.keras.layers.convolutional.Conv2D object at 0x7fc3bf3a2e10>              ...  True          \n",
              "149  <tensorflow.python.keras.layers.normalization.BatchNormalization object at 0x7fc3bf3a2f28>  ...  True          \n",
              "150  <tensorflow.python.keras.layers.core.Activation object at 0x7fc3bf3a9438>                   ...  True          \n",
              "151  <tensorflow.python.keras.layers.pooling.MaxPooling2D object at 0x7fc3bf4228d0>              ...  True          \n",
              "152  <tensorflow.python.keras.layers.convolutional.Conv2D object at 0x7fc3bf3b17b8>              ...  True          \n",
              "153  <tensorflow.python.keras.layers.merge.Add object at 0x7fc3bf3a9a58>                         ...  True          \n",
              "154  <tensorflow.python.keras.layers.normalization.BatchNormalization object at 0x7fc3bf3624a8>  ...  True          \n",
              "155  <tensorflow.python.keras.layers.core.Activation object at 0x7fc3bf376198>                   ...  True          \n",
              "156  <tensorflow.python.keras.layers.convolutional.Conv2D object at 0x7fc3bf38a400>              ...  True          \n",
              "157  <tensorflow.python.keras.layers.normalization.BatchNormalization object at 0x7fc3bf334dd8>  ...  True          \n",
              "158  <tensorflow.python.keras.layers.core.Activation object at 0x7fc3bf3417b8>                   ...  True          \n",
              "159  <tensorflow.python.keras.layers.convolutional.ZeroPadding2D object at 0x7fc3bf334e10>       ...  True          \n",
              "160  <tensorflow.python.keras.layers.convolutional.Conv2D object at 0x7fc3bf2eddd8>              ...  True          \n",
              "161  <tensorflow.python.keras.layers.normalization.BatchNormalization object at 0x7fc3bf2e6cf8>  ...  True          \n",
              "162  <tensorflow.python.keras.layers.core.Activation object at 0x7fc3bf2f6518>                   ...  True          \n",
              "163  <tensorflow.python.keras.layers.convolutional.Conv2D object at 0x7fc3bf362400>              ...  True          \n",
              "164  <tensorflow.python.keras.layers.convolutional.Conv2D object at 0x7fc3bf3030b8>              ...  True          \n",
              "165  <tensorflow.python.keras.layers.merge.Add object at 0x7fc3bf2f6c88>                         ...  True          \n",
              "166  <tensorflow.python.keras.layers.normalization.BatchNormalization object at 0x7fc3bf2af9b0>  ...  True          \n",
              "167  <tensorflow.python.keras.layers.core.Activation object at 0x7fc3bf2c1390>                   ...  True          \n",
              "168  <tensorflow.python.keras.layers.convolutional.Conv2D object at 0x7fc3bf2af940>              ...  True          \n",
              "169  <tensorflow.python.keras.layers.normalization.BatchNormalization object at 0x7fc3bf275160>  ...  True          \n",
              "170  <tensorflow.python.keras.layers.core.Activation object at 0x7fc3bf27e160>                   ...  True          \n",
              "171  <tensorflow.python.keras.layers.convolutional.ZeroPadding2D object at 0x7fc3bf275518>       ...  True          \n",
              "172  <tensorflow.python.keras.layers.convolutional.Conv2D object at 0x7fc3bf229cf8>              ...  True          \n",
              "173  <tensorflow.python.keras.layers.normalization.BatchNormalization object at 0x7fc3bf22df60>  ...  True          \n",
              "174  <tensorflow.python.keras.layers.core.Activation object at 0x7fc3bf23b940>                   ...  True          \n",
              "175  <tensorflow.python.keras.layers.convolutional.Conv2D object at 0x7fc3bf22df98>              ...  True          \n",
              "176  <tensorflow.python.keras.layers.merge.Add object at 0x7fc3bf1ef208>                         ...  True          \n",
              "177  <tensorflow.python.keras.layers.normalization.BatchNormalization object at 0x7fc3bf1e6e48>  ...  True          \n",
              "178  <tensorflow.python.keras.layers.core.Activation object at 0x7fc3bf1fbcf8>                   ...  True          \n",
              "179  <tensorflow.python.keras.layers.convolutional.Conv2D object at 0x7fc3bf1f3cc0>              ...  True          \n",
              "180  <tensorflow.python.keras.layers.normalization.BatchNormalization object at 0x7fc3bf1ae630>  ...  True          \n",
              "181  <tensorflow.python.keras.layers.core.Activation object at 0x7fc3bf1b9ac8>                   ...  True          \n",
              "182  <tensorflow.python.keras.layers.convolutional.ZeroPadding2D object at 0x7fc3bf167fd0>       ...  True          \n",
              "183  <tensorflow.python.keras.layers.convolutional.Conv2D object at 0x7fc3bf1b9b00>              ...  True          \n",
              "184  <tensorflow.python.keras.layers.normalization.BatchNormalization object at 0x7fc3bf167470>  ...  True          \n",
              "185  <tensorflow.python.keras.layers.core.Activation object at 0x7fc3bf1792e8>                   ...  True          \n",
              "186  <tensorflow.python.keras.layers.convolutional.Conv2D object at 0x7fc3bf16f908>              ...  True          \n",
              "187  <tensorflow.python.keras.layers.merge.Add object at 0x7fc3bf125a58>                         ...  True          \n",
              "188  <tensorflow.python.keras.layers.normalization.BatchNormalization object at 0x7fc3bf179320>  ...  True          \n",
              "189  <tensorflow.python.keras.layers.core.Activation object at 0x7fc3bf13a6a0>                   ...  True          \n",
              "\n",
              "[190 rows x 3 columns]"
            ]
          },
          "metadata": {
            "tags": []
          },
          "execution_count": 50
        }
      ]
    },
    {
      "cell_type": "code",
      "metadata": {
        "ExecuteTime": {
          "end_time": "2019-11-25T15:21:44.346579Z",
          "start_time": "2019-11-25T15:21:44.257668Z"
        },
        "id": "W9PrGvPOtFUP",
        "colab_type": "code",
        "colab": {}
      },
      "source": [
        "x = base_model.output\n",
        "x = Flatten()(x)\n",
        "x = Dense(256, activation=\"relu\")(x)\n",
        "x = Dropout(0.2)(x)\n",
        "x = Dense(256, activation=\"relu\")(x)\n",
        "x = Dropout(0.2)(x)\n",
        "note_output = Dense(len(noteLB.classes_), activation='softmax', name = \"note_output\")(x)\n",
        "duration_output = Dense(len(durationLB.classes_), activation='softmax', name = \"duration_output\")(x)\n",
        "\n",
        "model = Model(inputs=base_model.input, outputs=[note_output, duration_output])"
      ],
      "execution_count": 0,
      "outputs": []
    },
    {
      "cell_type": "code",
      "metadata": {
        "ExecuteTime": {
          "end_time": "2019-11-23T14:55:19.756693Z",
          "start_time": "2019-11-23T14:55:19.743441Z"
        },
        "id": "3RROqOYStFUT",
        "colab_type": "code",
        "outputId": "4e6d8eb9-1fa4-42da-f86f-7962d2c1c168",
        "colab": {
          "base_uri": "https://localhost:8080/",
          "height": 1000
        }
      },
      "source": [
        "# do some checks\n",
        "model.summary()\n",
        "model.input_shape\n",
        "model.output_shape"
      ],
      "execution_count": 52,
      "outputs": [
        {
          "output_type": "stream",
          "text": [
            "Model: \"model_2\"\n",
            "__________________________________________________________________________________________________\n",
            "Layer (type)                    Output Shape         Param #     Connected to                     \n",
            "==================================================================================================\n",
            "input_4 (InputLayer)            [(None, 158, 100, 3) 0                                            \n",
            "__________________________________________________________________________________________________\n",
            "conv1_pad (ZeroPadding2D)       (None, 164, 106, 3)  0           input_4[0][0]                    \n",
            "__________________________________________________________________________________________________\n",
            "conv1_conv (Conv2D)             (None, 79, 50, 64)   9472        conv1_pad[0][0]                  \n",
            "__________________________________________________________________________________________________\n",
            "pool1_pad (ZeroPadding2D)       (None, 81, 52, 64)   0           conv1_conv[0][0]                 \n",
            "__________________________________________________________________________________________________\n",
            "pool1_pool (MaxPooling2D)       (None, 40, 25, 64)   0           pool1_pad[0][0]                  \n",
            "__________________________________________________________________________________________________\n",
            "conv2_block1_preact_bn (BatchNo (None, 40, 25, 64)   256         pool1_pool[0][0]                 \n",
            "__________________________________________________________________________________________________\n",
            "conv2_block1_preact_relu (Activ (None, 40, 25, 64)   0           conv2_block1_preact_bn[0][0]     \n",
            "__________________________________________________________________________________________________\n",
            "conv2_block1_1_conv (Conv2D)    (None, 40, 25, 64)   4096        conv2_block1_preact_relu[0][0]   \n",
            "__________________________________________________________________________________________________\n",
            "conv2_block1_1_bn (BatchNormali (None, 40, 25, 64)   256         conv2_block1_1_conv[0][0]        \n",
            "__________________________________________________________________________________________________\n",
            "conv2_block1_1_relu (Activation (None, 40, 25, 64)   0           conv2_block1_1_bn[0][0]          \n",
            "__________________________________________________________________________________________________\n",
            "conv2_block1_2_pad (ZeroPadding (None, 42, 27, 64)   0           conv2_block1_1_relu[0][0]        \n",
            "__________________________________________________________________________________________________\n",
            "conv2_block1_2_conv (Conv2D)    (None, 40, 25, 64)   36864       conv2_block1_2_pad[0][0]         \n",
            "__________________________________________________________________________________________________\n",
            "conv2_block1_2_bn (BatchNormali (None, 40, 25, 64)   256         conv2_block1_2_conv[0][0]        \n",
            "__________________________________________________________________________________________________\n",
            "conv2_block1_2_relu (Activation (None, 40, 25, 64)   0           conv2_block1_2_bn[0][0]          \n",
            "__________________________________________________________________________________________________\n",
            "conv2_block1_0_conv (Conv2D)    (None, 40, 25, 256)  16640       conv2_block1_preact_relu[0][0]   \n",
            "__________________________________________________________________________________________________\n",
            "conv2_block1_3_conv (Conv2D)    (None, 40, 25, 256)  16640       conv2_block1_2_relu[0][0]        \n",
            "__________________________________________________________________________________________________\n",
            "conv2_block1_out (Add)          (None, 40, 25, 256)  0           conv2_block1_0_conv[0][0]        \n",
            "                                                                 conv2_block1_3_conv[0][0]        \n",
            "__________________________________________________________________________________________________\n",
            "conv2_block2_preact_bn (BatchNo (None, 40, 25, 256)  1024        conv2_block1_out[0][0]           \n",
            "__________________________________________________________________________________________________\n",
            "conv2_block2_preact_relu (Activ (None, 40, 25, 256)  0           conv2_block2_preact_bn[0][0]     \n",
            "__________________________________________________________________________________________________\n",
            "conv2_block2_1_conv (Conv2D)    (None, 40, 25, 64)   16384       conv2_block2_preact_relu[0][0]   \n",
            "__________________________________________________________________________________________________\n",
            "conv2_block2_1_bn (BatchNormali (None, 40, 25, 64)   256         conv2_block2_1_conv[0][0]        \n",
            "__________________________________________________________________________________________________\n",
            "conv2_block2_1_relu (Activation (None, 40, 25, 64)   0           conv2_block2_1_bn[0][0]          \n",
            "__________________________________________________________________________________________________\n",
            "conv2_block2_2_pad (ZeroPadding (None, 42, 27, 64)   0           conv2_block2_1_relu[0][0]        \n",
            "__________________________________________________________________________________________________\n",
            "conv2_block2_2_conv (Conv2D)    (None, 40, 25, 64)   36864       conv2_block2_2_pad[0][0]         \n",
            "__________________________________________________________________________________________________\n",
            "conv2_block2_2_bn (BatchNormali (None, 40, 25, 64)   256         conv2_block2_2_conv[0][0]        \n",
            "__________________________________________________________________________________________________\n",
            "conv2_block2_2_relu (Activation (None, 40, 25, 64)   0           conv2_block2_2_bn[0][0]          \n",
            "__________________________________________________________________________________________________\n",
            "conv2_block2_3_conv (Conv2D)    (None, 40, 25, 256)  16640       conv2_block2_2_relu[0][0]        \n",
            "__________________________________________________________________________________________________\n",
            "conv2_block2_out (Add)          (None, 40, 25, 256)  0           conv2_block1_out[0][0]           \n",
            "                                                                 conv2_block2_3_conv[0][0]        \n",
            "__________________________________________________________________________________________________\n",
            "conv2_block3_preact_bn (BatchNo (None, 40, 25, 256)  1024        conv2_block2_out[0][0]           \n",
            "__________________________________________________________________________________________________\n",
            "conv2_block3_preact_relu (Activ (None, 40, 25, 256)  0           conv2_block3_preact_bn[0][0]     \n",
            "__________________________________________________________________________________________________\n",
            "conv2_block3_1_conv (Conv2D)    (None, 40, 25, 64)   16384       conv2_block3_preact_relu[0][0]   \n",
            "__________________________________________________________________________________________________\n",
            "conv2_block3_1_bn (BatchNormali (None, 40, 25, 64)   256         conv2_block3_1_conv[0][0]        \n",
            "__________________________________________________________________________________________________\n",
            "conv2_block3_1_relu (Activation (None, 40, 25, 64)   0           conv2_block3_1_bn[0][0]          \n",
            "__________________________________________________________________________________________________\n",
            "conv2_block3_2_pad (ZeroPadding (None, 42, 27, 64)   0           conv2_block3_1_relu[0][0]        \n",
            "__________________________________________________________________________________________________\n",
            "conv2_block3_2_conv (Conv2D)    (None, 20, 13, 64)   36864       conv2_block3_2_pad[0][0]         \n",
            "__________________________________________________________________________________________________\n",
            "conv2_block3_2_bn (BatchNormali (None, 20, 13, 64)   256         conv2_block3_2_conv[0][0]        \n",
            "__________________________________________________________________________________________________\n",
            "conv2_block3_2_relu (Activation (None, 20, 13, 64)   0           conv2_block3_2_bn[0][0]          \n",
            "__________________________________________________________________________________________________\n",
            "max_pooling2d_9 (MaxPooling2D)  (None, 20, 13, 256)  0           conv2_block2_out[0][0]           \n",
            "__________________________________________________________________________________________________\n",
            "conv2_block3_3_conv (Conv2D)    (None, 20, 13, 256)  16640       conv2_block3_2_relu[0][0]        \n",
            "__________________________________________________________________________________________________\n",
            "conv2_block3_out (Add)          (None, 20, 13, 256)  0           max_pooling2d_9[0][0]            \n",
            "                                                                 conv2_block3_3_conv[0][0]        \n",
            "__________________________________________________________________________________________________\n",
            "conv3_block1_preact_bn (BatchNo (None, 20, 13, 256)  1024        conv2_block3_out[0][0]           \n",
            "__________________________________________________________________________________________________\n",
            "conv3_block1_preact_relu (Activ (None, 20, 13, 256)  0           conv3_block1_preact_bn[0][0]     \n",
            "__________________________________________________________________________________________________\n",
            "conv3_block1_1_conv (Conv2D)    (None, 20, 13, 128)  32768       conv3_block1_preact_relu[0][0]   \n",
            "__________________________________________________________________________________________________\n",
            "conv3_block1_1_bn (BatchNormali (None, 20, 13, 128)  512         conv3_block1_1_conv[0][0]        \n",
            "__________________________________________________________________________________________________\n",
            "conv3_block1_1_relu (Activation (None, 20, 13, 128)  0           conv3_block1_1_bn[0][0]          \n",
            "__________________________________________________________________________________________________\n",
            "conv3_block1_2_pad (ZeroPadding (None, 22, 15, 128)  0           conv3_block1_1_relu[0][0]        \n",
            "__________________________________________________________________________________________________\n",
            "conv3_block1_2_conv (Conv2D)    (None, 20, 13, 128)  147456      conv3_block1_2_pad[0][0]         \n",
            "__________________________________________________________________________________________________\n",
            "conv3_block1_2_bn (BatchNormali (None, 20, 13, 128)  512         conv3_block1_2_conv[0][0]        \n",
            "__________________________________________________________________________________________________\n",
            "conv3_block1_2_relu (Activation (None, 20, 13, 128)  0           conv3_block1_2_bn[0][0]          \n",
            "__________________________________________________________________________________________________\n",
            "conv3_block1_0_conv (Conv2D)    (None, 20, 13, 512)  131584      conv3_block1_preact_relu[0][0]   \n",
            "__________________________________________________________________________________________________\n",
            "conv3_block1_3_conv (Conv2D)    (None, 20, 13, 512)  66048       conv3_block1_2_relu[0][0]        \n",
            "__________________________________________________________________________________________________\n",
            "conv3_block1_out (Add)          (None, 20, 13, 512)  0           conv3_block1_0_conv[0][0]        \n",
            "                                                                 conv3_block1_3_conv[0][0]        \n",
            "__________________________________________________________________________________________________\n",
            "conv3_block2_preact_bn (BatchNo (None, 20, 13, 512)  2048        conv3_block1_out[0][0]           \n",
            "__________________________________________________________________________________________________\n",
            "conv3_block2_preact_relu (Activ (None, 20, 13, 512)  0           conv3_block2_preact_bn[0][0]     \n",
            "__________________________________________________________________________________________________\n",
            "conv3_block2_1_conv (Conv2D)    (None, 20, 13, 128)  65536       conv3_block2_preact_relu[0][0]   \n",
            "__________________________________________________________________________________________________\n",
            "conv3_block2_1_bn (BatchNormali (None, 20, 13, 128)  512         conv3_block2_1_conv[0][0]        \n",
            "__________________________________________________________________________________________________\n",
            "conv3_block2_1_relu (Activation (None, 20, 13, 128)  0           conv3_block2_1_bn[0][0]          \n",
            "__________________________________________________________________________________________________\n",
            "conv3_block2_2_pad (ZeroPadding (None, 22, 15, 128)  0           conv3_block2_1_relu[0][0]        \n",
            "__________________________________________________________________________________________________\n",
            "conv3_block2_2_conv (Conv2D)    (None, 20, 13, 128)  147456      conv3_block2_2_pad[0][0]         \n",
            "__________________________________________________________________________________________________\n",
            "conv3_block2_2_bn (BatchNormali (None, 20, 13, 128)  512         conv3_block2_2_conv[0][0]        \n",
            "__________________________________________________________________________________________________\n",
            "conv3_block2_2_relu (Activation (None, 20, 13, 128)  0           conv3_block2_2_bn[0][0]          \n",
            "__________________________________________________________________________________________________\n",
            "conv3_block2_3_conv (Conv2D)    (None, 20, 13, 512)  66048       conv3_block2_2_relu[0][0]        \n",
            "__________________________________________________________________________________________________\n",
            "conv3_block2_out (Add)          (None, 20, 13, 512)  0           conv3_block1_out[0][0]           \n",
            "                                                                 conv3_block2_3_conv[0][0]        \n",
            "__________________________________________________________________________________________________\n",
            "conv3_block3_preact_bn (BatchNo (None, 20, 13, 512)  2048        conv3_block2_out[0][0]           \n",
            "__________________________________________________________________________________________________\n",
            "conv3_block3_preact_relu (Activ (None, 20, 13, 512)  0           conv3_block3_preact_bn[0][0]     \n",
            "__________________________________________________________________________________________________\n",
            "conv3_block3_1_conv (Conv2D)    (None, 20, 13, 128)  65536       conv3_block3_preact_relu[0][0]   \n",
            "__________________________________________________________________________________________________\n",
            "conv3_block3_1_bn (BatchNormali (None, 20, 13, 128)  512         conv3_block3_1_conv[0][0]        \n",
            "__________________________________________________________________________________________________\n",
            "conv3_block3_1_relu (Activation (None, 20, 13, 128)  0           conv3_block3_1_bn[0][0]          \n",
            "__________________________________________________________________________________________________\n",
            "conv3_block3_2_pad (ZeroPadding (None, 22, 15, 128)  0           conv3_block3_1_relu[0][0]        \n",
            "__________________________________________________________________________________________________\n",
            "conv3_block3_2_conv (Conv2D)    (None, 20, 13, 128)  147456      conv3_block3_2_pad[0][0]         \n",
            "__________________________________________________________________________________________________\n",
            "conv3_block3_2_bn (BatchNormali (None, 20, 13, 128)  512         conv3_block3_2_conv[0][0]        \n",
            "__________________________________________________________________________________________________\n",
            "conv3_block3_2_relu (Activation (None, 20, 13, 128)  0           conv3_block3_2_bn[0][0]          \n",
            "__________________________________________________________________________________________________\n",
            "conv3_block3_3_conv (Conv2D)    (None, 20, 13, 512)  66048       conv3_block3_2_relu[0][0]        \n",
            "__________________________________________________________________________________________________\n",
            "conv3_block3_out (Add)          (None, 20, 13, 512)  0           conv3_block2_out[0][0]           \n",
            "                                                                 conv3_block3_3_conv[0][0]        \n",
            "__________________________________________________________________________________________________\n",
            "conv3_block4_preact_bn (BatchNo (None, 20, 13, 512)  2048        conv3_block3_out[0][0]           \n",
            "__________________________________________________________________________________________________\n",
            "conv3_block4_preact_relu (Activ (None, 20, 13, 512)  0           conv3_block4_preact_bn[0][0]     \n",
            "__________________________________________________________________________________________________\n",
            "conv3_block4_1_conv (Conv2D)    (None, 20, 13, 128)  65536       conv3_block4_preact_relu[0][0]   \n",
            "__________________________________________________________________________________________________\n",
            "conv3_block4_1_bn (BatchNormali (None, 20, 13, 128)  512         conv3_block4_1_conv[0][0]        \n",
            "__________________________________________________________________________________________________\n",
            "conv3_block4_1_relu (Activation (None, 20, 13, 128)  0           conv3_block4_1_bn[0][0]          \n",
            "__________________________________________________________________________________________________\n",
            "conv3_block4_2_pad (ZeroPadding (None, 22, 15, 128)  0           conv3_block4_1_relu[0][0]        \n",
            "__________________________________________________________________________________________________\n",
            "conv3_block4_2_conv (Conv2D)    (None, 10, 7, 128)   147456      conv3_block4_2_pad[0][0]         \n",
            "__________________________________________________________________________________________________\n",
            "conv3_block4_2_bn (BatchNormali (None, 10, 7, 128)   512         conv3_block4_2_conv[0][0]        \n",
            "__________________________________________________________________________________________________\n",
            "conv3_block4_2_relu (Activation (None, 10, 7, 128)   0           conv3_block4_2_bn[0][0]          \n",
            "__________________________________________________________________________________________________\n",
            "max_pooling2d_10 (MaxPooling2D) (None, 10, 7, 512)   0           conv3_block3_out[0][0]           \n",
            "__________________________________________________________________________________________________\n",
            "conv3_block4_3_conv (Conv2D)    (None, 10, 7, 512)   66048       conv3_block4_2_relu[0][0]        \n",
            "__________________________________________________________________________________________________\n",
            "conv3_block4_out (Add)          (None, 10, 7, 512)   0           max_pooling2d_10[0][0]           \n",
            "                                                                 conv3_block4_3_conv[0][0]        \n",
            "__________________________________________________________________________________________________\n",
            "conv4_block1_preact_bn (BatchNo (None, 10, 7, 512)   2048        conv3_block4_out[0][0]           \n",
            "__________________________________________________________________________________________________\n",
            "conv4_block1_preact_relu (Activ (None, 10, 7, 512)   0           conv4_block1_preact_bn[0][0]     \n",
            "__________________________________________________________________________________________________\n",
            "conv4_block1_1_conv (Conv2D)    (None, 10, 7, 256)   131072      conv4_block1_preact_relu[0][0]   \n",
            "__________________________________________________________________________________________________\n",
            "conv4_block1_1_bn (BatchNormali (None, 10, 7, 256)   1024        conv4_block1_1_conv[0][0]        \n",
            "__________________________________________________________________________________________________\n",
            "conv4_block1_1_relu (Activation (None, 10, 7, 256)   0           conv4_block1_1_bn[0][0]          \n",
            "__________________________________________________________________________________________________\n",
            "conv4_block1_2_pad (ZeroPadding (None, 12, 9, 256)   0           conv4_block1_1_relu[0][0]        \n",
            "__________________________________________________________________________________________________\n",
            "conv4_block1_2_conv (Conv2D)    (None, 10, 7, 256)   589824      conv4_block1_2_pad[0][0]         \n",
            "__________________________________________________________________________________________________\n",
            "conv4_block1_2_bn (BatchNormali (None, 10, 7, 256)   1024        conv4_block1_2_conv[0][0]        \n",
            "__________________________________________________________________________________________________\n",
            "conv4_block1_2_relu (Activation (None, 10, 7, 256)   0           conv4_block1_2_bn[0][0]          \n",
            "__________________________________________________________________________________________________\n",
            "conv4_block1_0_conv (Conv2D)    (None, 10, 7, 1024)  525312      conv4_block1_preact_relu[0][0]   \n",
            "__________________________________________________________________________________________________\n",
            "conv4_block1_3_conv (Conv2D)    (None, 10, 7, 1024)  263168      conv4_block1_2_relu[0][0]        \n",
            "__________________________________________________________________________________________________\n",
            "conv4_block1_out (Add)          (None, 10, 7, 1024)  0           conv4_block1_0_conv[0][0]        \n",
            "                                                                 conv4_block1_3_conv[0][0]        \n",
            "__________________________________________________________________________________________________\n",
            "conv4_block2_preact_bn (BatchNo (None, 10, 7, 1024)  4096        conv4_block1_out[0][0]           \n",
            "__________________________________________________________________________________________________\n",
            "conv4_block2_preact_relu (Activ (None, 10, 7, 1024)  0           conv4_block2_preact_bn[0][0]     \n",
            "__________________________________________________________________________________________________\n",
            "conv4_block2_1_conv (Conv2D)    (None, 10, 7, 256)   262144      conv4_block2_preact_relu[0][0]   \n",
            "__________________________________________________________________________________________________\n",
            "conv4_block2_1_bn (BatchNormali (None, 10, 7, 256)   1024        conv4_block2_1_conv[0][0]        \n",
            "__________________________________________________________________________________________________\n",
            "conv4_block2_1_relu (Activation (None, 10, 7, 256)   0           conv4_block2_1_bn[0][0]          \n",
            "__________________________________________________________________________________________________\n",
            "conv4_block2_2_pad (ZeroPadding (None, 12, 9, 256)   0           conv4_block2_1_relu[0][0]        \n",
            "__________________________________________________________________________________________________\n",
            "conv4_block2_2_conv (Conv2D)    (None, 10, 7, 256)   589824      conv4_block2_2_pad[0][0]         \n",
            "__________________________________________________________________________________________________\n",
            "conv4_block2_2_bn (BatchNormali (None, 10, 7, 256)   1024        conv4_block2_2_conv[0][0]        \n",
            "__________________________________________________________________________________________________\n",
            "conv4_block2_2_relu (Activation (None, 10, 7, 256)   0           conv4_block2_2_bn[0][0]          \n",
            "__________________________________________________________________________________________________\n",
            "conv4_block2_3_conv (Conv2D)    (None, 10, 7, 1024)  263168      conv4_block2_2_relu[0][0]        \n",
            "__________________________________________________________________________________________________\n",
            "conv4_block2_out (Add)          (None, 10, 7, 1024)  0           conv4_block1_out[0][0]           \n",
            "                                                                 conv4_block2_3_conv[0][0]        \n",
            "__________________________________________________________________________________________________\n",
            "conv4_block3_preact_bn (BatchNo (None, 10, 7, 1024)  4096        conv4_block2_out[0][0]           \n",
            "__________________________________________________________________________________________________\n",
            "conv4_block3_preact_relu (Activ (None, 10, 7, 1024)  0           conv4_block3_preact_bn[0][0]     \n",
            "__________________________________________________________________________________________________\n",
            "conv4_block3_1_conv (Conv2D)    (None, 10, 7, 256)   262144      conv4_block3_preact_relu[0][0]   \n",
            "__________________________________________________________________________________________________\n",
            "conv4_block3_1_bn (BatchNormali (None, 10, 7, 256)   1024        conv4_block3_1_conv[0][0]        \n",
            "__________________________________________________________________________________________________\n",
            "conv4_block3_1_relu (Activation (None, 10, 7, 256)   0           conv4_block3_1_bn[0][0]          \n",
            "__________________________________________________________________________________________________\n",
            "conv4_block3_2_pad (ZeroPadding (None, 12, 9, 256)   0           conv4_block3_1_relu[0][0]        \n",
            "__________________________________________________________________________________________________\n",
            "conv4_block3_2_conv (Conv2D)    (None, 10, 7, 256)   589824      conv4_block3_2_pad[0][0]         \n",
            "__________________________________________________________________________________________________\n",
            "conv4_block3_2_bn (BatchNormali (None, 10, 7, 256)   1024        conv4_block3_2_conv[0][0]        \n",
            "__________________________________________________________________________________________________\n",
            "conv4_block3_2_relu (Activation (None, 10, 7, 256)   0           conv4_block3_2_bn[0][0]          \n",
            "__________________________________________________________________________________________________\n",
            "conv4_block3_3_conv (Conv2D)    (None, 10, 7, 1024)  263168      conv4_block3_2_relu[0][0]        \n",
            "__________________________________________________________________________________________________\n",
            "conv4_block3_out (Add)          (None, 10, 7, 1024)  0           conv4_block2_out[0][0]           \n",
            "                                                                 conv4_block3_3_conv[0][0]        \n",
            "__________________________________________________________________________________________________\n",
            "conv4_block4_preact_bn (BatchNo (None, 10, 7, 1024)  4096        conv4_block3_out[0][0]           \n",
            "__________________________________________________________________________________________________\n",
            "conv4_block4_preact_relu (Activ (None, 10, 7, 1024)  0           conv4_block4_preact_bn[0][0]     \n",
            "__________________________________________________________________________________________________\n",
            "conv4_block4_1_conv (Conv2D)    (None, 10, 7, 256)   262144      conv4_block4_preact_relu[0][0]   \n",
            "__________________________________________________________________________________________________\n",
            "conv4_block4_1_bn (BatchNormali (None, 10, 7, 256)   1024        conv4_block4_1_conv[0][0]        \n",
            "__________________________________________________________________________________________________\n",
            "conv4_block4_1_relu (Activation (None, 10, 7, 256)   0           conv4_block4_1_bn[0][0]          \n",
            "__________________________________________________________________________________________________\n",
            "conv4_block4_2_pad (ZeroPadding (None, 12, 9, 256)   0           conv4_block4_1_relu[0][0]        \n",
            "__________________________________________________________________________________________________\n",
            "conv4_block4_2_conv (Conv2D)    (None, 10, 7, 256)   589824      conv4_block4_2_pad[0][0]         \n",
            "__________________________________________________________________________________________________\n",
            "conv4_block4_2_bn (BatchNormali (None, 10, 7, 256)   1024        conv4_block4_2_conv[0][0]        \n",
            "__________________________________________________________________________________________________\n",
            "conv4_block4_2_relu (Activation (None, 10, 7, 256)   0           conv4_block4_2_bn[0][0]          \n",
            "__________________________________________________________________________________________________\n",
            "conv4_block4_3_conv (Conv2D)    (None, 10, 7, 1024)  263168      conv4_block4_2_relu[0][0]        \n",
            "__________________________________________________________________________________________________\n",
            "conv4_block4_out (Add)          (None, 10, 7, 1024)  0           conv4_block3_out[0][0]           \n",
            "                                                                 conv4_block4_3_conv[0][0]        \n",
            "__________________________________________________________________________________________________\n",
            "conv4_block5_preact_bn (BatchNo (None, 10, 7, 1024)  4096        conv4_block4_out[0][0]           \n",
            "__________________________________________________________________________________________________\n",
            "conv4_block5_preact_relu (Activ (None, 10, 7, 1024)  0           conv4_block5_preact_bn[0][0]     \n",
            "__________________________________________________________________________________________________\n",
            "conv4_block5_1_conv (Conv2D)    (None, 10, 7, 256)   262144      conv4_block5_preact_relu[0][0]   \n",
            "__________________________________________________________________________________________________\n",
            "conv4_block5_1_bn (BatchNormali (None, 10, 7, 256)   1024        conv4_block5_1_conv[0][0]        \n",
            "__________________________________________________________________________________________________\n",
            "conv4_block5_1_relu (Activation (None, 10, 7, 256)   0           conv4_block5_1_bn[0][0]          \n",
            "__________________________________________________________________________________________________\n",
            "conv4_block5_2_pad (ZeroPadding (None, 12, 9, 256)   0           conv4_block5_1_relu[0][0]        \n",
            "__________________________________________________________________________________________________\n",
            "conv4_block5_2_conv (Conv2D)    (None, 10, 7, 256)   589824      conv4_block5_2_pad[0][0]         \n",
            "__________________________________________________________________________________________________\n",
            "conv4_block5_2_bn (BatchNormali (None, 10, 7, 256)   1024        conv4_block5_2_conv[0][0]        \n",
            "__________________________________________________________________________________________________\n",
            "conv4_block5_2_relu (Activation (None, 10, 7, 256)   0           conv4_block5_2_bn[0][0]          \n",
            "__________________________________________________________________________________________________\n",
            "conv4_block5_3_conv (Conv2D)    (None, 10, 7, 1024)  263168      conv4_block5_2_relu[0][0]        \n",
            "__________________________________________________________________________________________________\n",
            "conv4_block5_out (Add)          (None, 10, 7, 1024)  0           conv4_block4_out[0][0]           \n",
            "                                                                 conv4_block5_3_conv[0][0]        \n",
            "__________________________________________________________________________________________________\n",
            "conv4_block6_preact_bn (BatchNo (None, 10, 7, 1024)  4096        conv4_block5_out[0][0]           \n",
            "__________________________________________________________________________________________________\n",
            "conv4_block6_preact_relu (Activ (None, 10, 7, 1024)  0           conv4_block6_preact_bn[0][0]     \n",
            "__________________________________________________________________________________________________\n",
            "conv4_block6_1_conv (Conv2D)    (None, 10, 7, 256)   262144      conv4_block6_preact_relu[0][0]   \n",
            "__________________________________________________________________________________________________\n",
            "conv4_block6_1_bn (BatchNormali (None, 10, 7, 256)   1024        conv4_block6_1_conv[0][0]        \n",
            "__________________________________________________________________________________________________\n",
            "conv4_block6_1_relu (Activation (None, 10, 7, 256)   0           conv4_block6_1_bn[0][0]          \n",
            "__________________________________________________________________________________________________\n",
            "conv4_block6_2_pad (ZeroPadding (None, 12, 9, 256)   0           conv4_block6_1_relu[0][0]        \n",
            "__________________________________________________________________________________________________\n",
            "conv4_block6_2_conv (Conv2D)    (None, 5, 4, 256)    589824      conv4_block6_2_pad[0][0]         \n",
            "__________________________________________________________________________________________________\n",
            "conv4_block6_2_bn (BatchNormali (None, 5, 4, 256)    1024        conv4_block6_2_conv[0][0]        \n",
            "__________________________________________________________________________________________________\n",
            "conv4_block6_2_relu (Activation (None, 5, 4, 256)    0           conv4_block6_2_bn[0][0]          \n",
            "__________________________________________________________________________________________________\n",
            "max_pooling2d_11 (MaxPooling2D) (None, 5, 4, 1024)   0           conv4_block5_out[0][0]           \n",
            "__________________________________________________________________________________________________\n",
            "conv4_block6_3_conv (Conv2D)    (None, 5, 4, 1024)   263168      conv4_block6_2_relu[0][0]        \n",
            "__________________________________________________________________________________________________\n",
            "conv4_block6_out (Add)          (None, 5, 4, 1024)   0           max_pooling2d_11[0][0]           \n",
            "                                                                 conv4_block6_3_conv[0][0]        \n",
            "__________________________________________________________________________________________________\n",
            "conv5_block1_preact_bn (BatchNo (None, 5, 4, 1024)   4096        conv4_block6_out[0][0]           \n",
            "__________________________________________________________________________________________________\n",
            "conv5_block1_preact_relu (Activ (None, 5, 4, 1024)   0           conv5_block1_preact_bn[0][0]     \n",
            "__________________________________________________________________________________________________\n",
            "conv5_block1_1_conv (Conv2D)    (None, 5, 4, 512)    524288      conv5_block1_preact_relu[0][0]   \n",
            "__________________________________________________________________________________________________\n",
            "conv5_block1_1_bn (BatchNormali (None, 5, 4, 512)    2048        conv5_block1_1_conv[0][0]        \n",
            "__________________________________________________________________________________________________\n",
            "conv5_block1_1_relu (Activation (None, 5, 4, 512)    0           conv5_block1_1_bn[0][0]          \n",
            "__________________________________________________________________________________________________\n",
            "conv5_block1_2_pad (ZeroPadding (None, 7, 6, 512)    0           conv5_block1_1_relu[0][0]        \n",
            "__________________________________________________________________________________________________\n",
            "conv5_block1_2_conv (Conv2D)    (None, 5, 4, 512)    2359296     conv5_block1_2_pad[0][0]         \n",
            "__________________________________________________________________________________________________\n",
            "conv5_block1_2_bn (BatchNormali (None, 5, 4, 512)    2048        conv5_block1_2_conv[0][0]        \n",
            "__________________________________________________________________________________________________\n",
            "conv5_block1_2_relu (Activation (None, 5, 4, 512)    0           conv5_block1_2_bn[0][0]          \n",
            "__________________________________________________________________________________________________\n",
            "conv5_block1_0_conv (Conv2D)    (None, 5, 4, 2048)   2099200     conv5_block1_preact_relu[0][0]   \n",
            "__________________________________________________________________________________________________\n",
            "conv5_block1_3_conv (Conv2D)    (None, 5, 4, 2048)   1050624     conv5_block1_2_relu[0][0]        \n",
            "__________________________________________________________________________________________________\n",
            "conv5_block1_out (Add)          (None, 5, 4, 2048)   0           conv5_block1_0_conv[0][0]        \n",
            "                                                                 conv5_block1_3_conv[0][0]        \n",
            "__________________________________________________________________________________________________\n",
            "conv5_block2_preact_bn (BatchNo (None, 5, 4, 2048)   8192        conv5_block1_out[0][0]           \n",
            "__________________________________________________________________________________________________\n",
            "conv5_block2_preact_relu (Activ (None, 5, 4, 2048)   0           conv5_block2_preact_bn[0][0]     \n",
            "__________________________________________________________________________________________________\n",
            "conv5_block2_1_conv (Conv2D)    (None, 5, 4, 512)    1048576     conv5_block2_preact_relu[0][0]   \n",
            "__________________________________________________________________________________________________\n",
            "conv5_block2_1_bn (BatchNormali (None, 5, 4, 512)    2048        conv5_block2_1_conv[0][0]        \n",
            "__________________________________________________________________________________________________\n",
            "conv5_block2_1_relu (Activation (None, 5, 4, 512)    0           conv5_block2_1_bn[0][0]          \n",
            "__________________________________________________________________________________________________\n",
            "conv5_block2_2_pad (ZeroPadding (None, 7, 6, 512)    0           conv5_block2_1_relu[0][0]        \n",
            "__________________________________________________________________________________________________\n",
            "conv5_block2_2_conv (Conv2D)    (None, 5, 4, 512)    2359296     conv5_block2_2_pad[0][0]         \n",
            "__________________________________________________________________________________________________\n",
            "conv5_block2_2_bn (BatchNormali (None, 5, 4, 512)    2048        conv5_block2_2_conv[0][0]        \n",
            "__________________________________________________________________________________________________\n",
            "conv5_block2_2_relu (Activation (None, 5, 4, 512)    0           conv5_block2_2_bn[0][0]          \n",
            "__________________________________________________________________________________________________\n",
            "conv5_block2_3_conv (Conv2D)    (None, 5, 4, 2048)   1050624     conv5_block2_2_relu[0][0]        \n",
            "__________________________________________________________________________________________________\n",
            "conv5_block2_out (Add)          (None, 5, 4, 2048)   0           conv5_block1_out[0][0]           \n",
            "                                                                 conv5_block2_3_conv[0][0]        \n",
            "__________________________________________________________________________________________________\n",
            "conv5_block3_preact_bn (BatchNo (None, 5, 4, 2048)   8192        conv5_block2_out[0][0]           \n",
            "__________________________________________________________________________________________________\n",
            "conv5_block3_preact_relu (Activ (None, 5, 4, 2048)   0           conv5_block3_preact_bn[0][0]     \n",
            "__________________________________________________________________________________________________\n",
            "conv5_block3_1_conv (Conv2D)    (None, 5, 4, 512)    1048576     conv5_block3_preact_relu[0][0]   \n",
            "__________________________________________________________________________________________________\n",
            "conv5_block3_1_bn (BatchNormali (None, 5, 4, 512)    2048        conv5_block3_1_conv[0][0]        \n",
            "__________________________________________________________________________________________________\n",
            "conv5_block3_1_relu (Activation (None, 5, 4, 512)    0           conv5_block3_1_bn[0][0]          \n",
            "__________________________________________________________________________________________________\n",
            "conv5_block3_2_pad (ZeroPadding (None, 7, 6, 512)    0           conv5_block3_1_relu[0][0]        \n",
            "__________________________________________________________________________________________________\n",
            "conv5_block3_2_conv (Conv2D)    (None, 5, 4, 512)    2359296     conv5_block3_2_pad[0][0]         \n",
            "__________________________________________________________________________________________________\n",
            "conv5_block3_2_bn (BatchNormali (None, 5, 4, 512)    2048        conv5_block3_2_conv[0][0]        \n",
            "__________________________________________________________________________________________________\n",
            "conv5_block3_2_relu (Activation (None, 5, 4, 512)    0           conv5_block3_2_bn[0][0]          \n",
            "__________________________________________________________________________________________________\n",
            "conv5_block3_3_conv (Conv2D)    (None, 5, 4, 2048)   1050624     conv5_block3_2_relu[0][0]        \n",
            "__________________________________________________________________________________________________\n",
            "conv5_block3_out (Add)          (None, 5, 4, 2048)   0           conv5_block2_out[0][0]           \n",
            "                                                                 conv5_block3_3_conv[0][0]        \n",
            "__________________________________________________________________________________________________\n",
            "post_bn (BatchNormalization)    (None, 5, 4, 2048)   8192        conv5_block3_out[0][0]           \n",
            "__________________________________________________________________________________________________\n",
            "post_relu (Activation)          (None, 5, 4, 2048)   0           post_bn[0][0]                    \n",
            "__________________________________________________________________________________________________\n",
            "flatten_2 (Flatten)             (None, 40960)        0           post_relu[0][0]                  \n",
            "__________________________________________________________________________________________________\n",
            "dense_4 (Dense)                 (None, 256)          10486016    flatten_2[0][0]                  \n",
            "__________________________________________________________________________________________________\n",
            "dropout_4 (Dropout)             (None, 256)          0           dense_4[0][0]                    \n",
            "__________________________________________________________________________________________________\n",
            "dense_5 (Dense)                 (None, 256)          65792       dropout_4[0][0]                  \n",
            "__________________________________________________________________________________________________\n",
            "dropout_5 (Dropout)             (None, 256)          0           dense_5[0][0]                    \n",
            "__________________________________________________________________________________________________\n",
            "note_output (Dense)             (None, 11)           2827        dropout_5[0][0]                  \n",
            "__________________________________________________________________________________________________\n",
            "duration_output (Dense)         (None, 6)            1542        dropout_5[0][0]                  \n",
            "==================================================================================================\n",
            "Total params: 34,120,977\n",
            "Trainable params: 33,920,785\n",
            "Non-trainable params: 200,192\n",
            "__________________________________________________________________________________________________\n"
          ],
          "name": "stdout"
        },
        {
          "output_type": "execute_result",
          "data": {
            "text/plain": [
              "(None, 158, 100, 3)"
            ]
          },
          "metadata": {
            "tags": []
          },
          "execution_count": 52
        },
        {
          "output_type": "execute_result",
          "data": {
            "text/plain": [
              "[(None, 11), (None, 6)]"
            ]
          },
          "metadata": {
            "tags": []
          },
          "execution_count": 52
        }
      ]
    },
    {
      "cell_type": "code",
      "metadata": {
        "ExecuteTime": {
          "end_time": "2019-11-25T15:22:03.556902Z",
          "start_time": "2019-11-25T15:22:03.450193Z"
        },
        "id": "TMuLo8-CtFUV",
        "colab_type": "code",
        "colab": {}
      },
      "source": [
        "# compile model\n",
        "epochs = 80\n",
        "batch_size = 128\n",
        "\n",
        "# define two dictionaries: one that specifies the loss method for\n",
        "# each output of the network along with a second dictionary that\n",
        "# specifies the weight per loss\n",
        "losses = {\n",
        "    \"note_output\": \"categorical_crossentropy\",\n",
        "    \"duration_output\": \"categorical_crossentropy\",}\n",
        "lossWeights = {\"note_output\": 1.0, \"duration_output\": 1.0}\n",
        " \n",
        "# initialize the optimizer and compile the model\n",
        "sgd = optimizers.SGD(lr=0.01, decay=1e-6, momentum=0.9, nesterov=True)\n",
        "rms = optimizers.RMSprop(learning_rate=0.001, rho=0.9)\n",
        "adam = optimizers.Adam(learning_rate=0.001, beta_1=0.9, beta_2=0.999, amsgrad=False)\n",
        "nadam = optimizers.Nadam(learning_rate=0.002, beta_1=0.9, beta_2=0.999)\n",
        "\n",
        "model.compile(optimizer=adam, loss=losses, loss_weights=lossWeights, metrics=[\"accuracy\"])"
      ],
      "execution_count": 0,
      "outputs": []
    },
    {
      "cell_type": "code",
      "metadata": {
        "ExecuteTime": {
          "end_time": "2019-11-25T15:22:22.744944Z",
          "start_time": "2019-11-25T15:22:22.741135Z"
        },
        "id": "cx_2YlhatFUW",
        "colab_type": "code",
        "colab": {}
      },
      "source": [
        "# callbacks\n",
        "early_stopping = EarlyStopping(monitor='val_note_output_acc', patience=15, mode = 'max', verbose = 1)\n",
        "\n",
        "reduce_lr = ReduceLROnPlateau(patience=8, monitor='val_loss', factor=0.3, min_lr=0.00001, cooldown=1, verbose=1)\n",
        "\n",
        "checkpoint = ModelCheckpoint(\"/Users/annaleid/Documents/Jordy/Trained Models/\",\n",
        "        monitor='val_acc', \n",
        "        save_best_only=True, \n",
        "        mode='max',\n",
        "        verbose=0)"
      ],
      "execution_count": 0,
      "outputs": []
    },
    {
      "cell_type": "code",
      "metadata": {
        "ExecuteTime": {
          "end_time": "2019-11-25T15:29:33.667268Z",
          "start_time": "2019-11-25T15:22:41.737867Z"
        },
        "id": "drPHXT0gtFUY",
        "colab_type": "code",
        "outputId": "7c996862-419b-4ffb-aeae-f8ff1a290a7b",
        "colab": {
          "base_uri": "https://localhost:8080/",
          "height": 1000
        }
      },
      "source": [
        "# # train the network to perform multi-output classification\n",
        "H = model.fit(trainX, {\"note_output\": trainNoteY, \"duration_output\": trainDurationY},\n",
        "    validation_data=(testX, {\"note_output\": testNoteY, \"duration_output\": testDurationY}),\n",
        "    epochs=epochs,\n",
        "    verbose=1,\n",
        "    callbacks = [reduce_lr, early_stopping])"
      ],
      "execution_count": 55,
      "outputs": [
        {
          "output_type": "stream",
          "text": [
            "Train on 13725 samples, validate on 4575 samples\n",
            "Epoch 1/80\n",
            "13725/13725 [==============================] - 149s 11ms/sample - loss: 0.7366 - note_output_loss: 0.4097 - duration_output_loss: 0.3269 - note_output_acc: 0.8763 - duration_output_acc: 0.8952 - val_loss: 5.4470 - val_note_output_loss: 3.1868 - val_duration_output_loss: 2.2599 - val_note_output_acc: 0.7202 - val_duration_output_acc: 0.6896\n",
            "Epoch 2/80\n",
            "13725/13725 [==============================] - 139s 10ms/sample - loss: 0.1913 - note_output_loss: 0.0960 - duration_output_loss: 0.0952 - note_output_acc: 0.9746 - duration_output_acc: 0.9717 - val_loss: 1.1796 - val_note_output_loss: 0.4069 - val_duration_output_loss: 0.7727 - val_note_output_acc: 0.8990 - val_duration_output_acc: 0.8431\n",
            "Epoch 3/80\n",
            "13725/13725 [==============================] - 139s 10ms/sample - loss: 0.1121 - note_output_loss: 0.0603 - duration_output_loss: 0.0518 - note_output_acc: 0.9824 - duration_output_acc: 0.9840 - val_loss: 2.4343 - val_note_output_loss: 1.0423 - val_duration_output_loss: 1.3922 - val_note_output_acc: 0.7989 - val_duration_output_acc: 0.7209\n",
            "Epoch 4/80\n",
            "13725/13725 [==============================] - 139s 10ms/sample - loss: 0.1614 - note_output_loss: 0.0818 - duration_output_loss: 0.0796 - note_output_acc: 0.9789 - duration_output_acc: 0.9768 - val_loss: 0.7162 - val_note_output_loss: 0.1259 - val_duration_output_loss: 0.5903 - val_note_output_acc: 0.9659 - val_duration_output_acc: 0.8667\n",
            "Epoch 5/80\n",
            "13725/13725 [==============================] - 139s 10ms/sample - loss: 0.0957 - note_output_loss: 0.0488 - duration_output_loss: 0.0468 - note_output_acc: 0.9868 - duration_output_acc: 0.9854 - val_loss: 0.3521 - val_note_output_loss: 0.1820 - val_duration_output_loss: 0.1701 - val_note_output_acc: 0.9521 - val_duration_output_acc: 0.9467\n",
            "Epoch 6/80\n",
            "13725/13725 [==============================] - 139s 10ms/sample - loss: 0.0666 - note_output_loss: 0.0329 - duration_output_loss: 0.0337 - note_output_acc: 0.9906 - duration_output_acc: 0.9898 - val_loss: 0.7790 - val_note_output_loss: 0.3289 - val_duration_output_loss: 0.4501 - val_note_output_acc: 0.9115 - val_duration_output_acc: 0.8682\n",
            "Epoch 7/80\n",
            "13725/13725 [==============================] - 139s 10ms/sample - loss: 0.1083 - note_output_loss: 0.0578 - duration_output_loss: 0.0505 - note_output_acc: 0.9853 - duration_output_acc: 0.9863 - val_loss: 0.8278 - val_note_output_loss: 0.3889 - val_duration_output_loss: 0.4389 - val_note_output_acc: 0.9193 - val_duration_output_acc: 0.8903\n",
            "Epoch 8/80\n",
            "13725/13725 [==============================] - 139s 10ms/sample - loss: 0.1001 - note_output_loss: 0.0547 - duration_output_loss: 0.0454 - note_output_acc: 0.9851 - duration_output_acc: 0.9862 - val_loss: 0.8958 - val_note_output_loss: 0.4495 - val_duration_output_loss: 0.4462 - val_note_output_acc: 0.8951 - val_duration_output_acc: 0.8914\n",
            "Epoch 9/80\n",
            "13725/13725 [==============================] - 138s 10ms/sample - loss: 0.0915 - note_output_loss: 0.0492 - duration_output_loss: 0.0423 - note_output_acc: 0.9881 - duration_output_acc: 0.9882 - val_loss: 1.3814 - val_note_output_loss: 0.4659 - val_duration_output_loss: 0.9155 - val_note_output_acc: 0.8667 - val_duration_output_acc: 0.7311\n",
            "Epoch 10/80\n",
            "13725/13725 [==============================] - 139s 10ms/sample - loss: 0.0764 - note_output_loss: 0.0385 - duration_output_loss: 0.0379 - note_output_acc: 0.9894 - duration_output_acc: 0.9888 - val_loss: 0.4794 - val_note_output_loss: 0.1666 - val_duration_output_loss: 0.3127 - val_note_output_acc: 0.9617 - val_duration_output_acc: 0.9231\n",
            "Epoch 11/80\n",
            "13725/13725 [==============================] - 139s 10ms/sample - loss: 0.0965 - note_output_loss: 0.0489 - duration_output_loss: 0.0475 - note_output_acc: 0.9881 - duration_output_acc: 0.9868 - val_loss: 1.0049 - val_note_output_loss: 0.5816 - val_duration_output_loss: 0.4231 - val_note_output_acc: 0.8579 - val_duration_output_acc: 0.8748\n",
            "Epoch 12/80\n",
            "13725/13725 [==============================] - 139s 10ms/sample - loss: 0.0737 - note_output_loss: 0.0375 - duration_output_loss: 0.0362 - note_output_acc: 0.9908 - duration_output_acc: 0.9892 - val_loss: 1.0338 - val_note_output_loss: 0.4358 - val_duration_output_loss: 0.5980 - val_note_output_acc: 0.8946 - val_duration_output_acc: 0.8601\n",
            "Epoch 13/80\n",
            "13696/13725 [============================>.] - ETA: 0s - loss: 0.0716 - note_output_loss: 0.0375 - duration_output_loss: 0.0341 - note_output_acc: 0.9904 - duration_output_acc: 0.9899\n",
            "Epoch 00013: ReduceLROnPlateau reducing learning rate to 0.0003000000142492354.\n",
            "13725/13725 [==============================] - 142s 10ms/sample - loss: 0.0715 - note_output_loss: 0.0374 - duration_output_loss: 0.0341 - note_output_acc: 0.9904 - duration_output_acc: 0.9899 - val_loss: 0.5161 - val_note_output_loss: 0.3326 - val_duration_output_loss: 0.1835 - val_note_output_acc: 0.9268 - val_duration_output_acc: 0.9473\n",
            "Epoch 14/80\n",
            "13725/13725 [==============================] - 139s 10ms/sample - loss: 0.0263 - note_output_loss: 0.0146 - duration_output_loss: 0.0118 - note_output_acc: 0.9954 - duration_output_acc: 0.9966 - val_loss: 0.2144 - val_note_output_loss: 0.0912 - val_duration_output_loss: 0.1231 - val_note_output_acc: 0.9775 - val_duration_output_acc: 0.9652\n",
            "Epoch 15/80\n",
            "13725/13725 [==============================] - 139s 10ms/sample - loss: 0.0134 - note_output_loss: 0.0071 - duration_output_loss: 0.0063 - note_output_acc: 0.9976 - duration_output_acc: 0.9977 - val_loss: 0.2439 - val_note_output_loss: 0.1135 - val_duration_output_loss: 0.1303 - val_note_output_acc: 0.9733 - val_duration_output_acc: 0.9611\n",
            "Epoch 16/80\n",
            "13725/13725 [==============================] - 139s 10ms/sample - loss: 0.0110 - note_output_loss: 0.0060 - duration_output_loss: 0.0050 - note_output_acc: 0.9983 - duration_output_acc: 0.9983 - val_loss: 0.2412 - val_note_output_loss: 0.1067 - val_duration_output_loss: 0.1347 - val_note_output_acc: 0.9731 - val_duration_output_acc: 0.9615\n",
            "Epoch 17/80\n",
            "13725/13725 [==============================] - 139s 10ms/sample - loss: 0.0091 - note_output_loss: 0.0051 - duration_output_loss: 0.0040 - note_output_acc: 0.9987 - duration_output_acc: 0.9985 - val_loss: 0.2587 - val_note_output_loss: 0.1116 - val_duration_output_loss: 0.1470 - val_note_output_acc: 0.9738 - val_duration_output_acc: 0.9615\n",
            "Epoch 18/80\n",
            "13725/13725 [==============================] - 139s 10ms/sample - loss: 0.0090 - note_output_loss: 0.0044 - duration_output_loss: 0.0045 - note_output_acc: 0.9985 - duration_output_acc: 0.9983 - val_loss: 0.2632 - val_note_output_loss: 0.1267 - val_duration_output_loss: 0.1365 - val_note_output_acc: 0.9742 - val_duration_output_acc: 0.9655\n",
            "Epoch 19/80\n",
            "13725/13725 [==============================] - 139s 10ms/sample - loss: 0.0092 - note_output_loss: 0.0050 - duration_output_loss: 0.0042 - note_output_acc: 0.9988 - duration_output_acc: 0.9987 - val_loss: 0.1888 - val_note_output_loss: 0.0657 - val_duration_output_loss: 0.1230 - val_note_output_acc: 0.9823 - val_duration_output_acc: 0.9674\n",
            "Epoch 20/80\n",
            "13725/13725 [==============================] - 139s 10ms/sample - loss: 0.0122 - note_output_loss: 0.0061 - duration_output_loss: 0.0060 - note_output_acc: 0.9979 - duration_output_acc: 0.9981 - val_loss: 0.1729 - val_note_output_loss: 0.0549 - val_duration_output_loss: 0.1180 - val_note_output_acc: 0.9854 - val_duration_output_acc: 0.9631\n",
            "Epoch 21/80\n",
            "13725/13725 [==============================] - 139s 10ms/sample - loss: 0.0094 - note_output_loss: 0.0050 - duration_output_loss: 0.0044 - note_output_acc: 0.9981 - duration_output_acc: 0.9985 - val_loss: 0.3265 - val_note_output_loss: 0.1177 - val_duration_output_loss: 0.2089 - val_note_output_acc: 0.9705 - val_duration_output_acc: 0.9440\n",
            "Epoch 22/80\n",
            "13725/13725 [==============================] - 139s 10ms/sample - loss: 0.0135 - note_output_loss: 0.0081 - duration_output_loss: 0.0054 - note_output_acc: 0.9980 - duration_output_acc: 0.9984 - val_loss: 0.6419 - val_note_output_loss: 0.3474 - val_duration_output_loss: 0.2945 - val_note_output_acc: 0.9325 - val_duration_output_acc: 0.9246\n",
            "Epoch 23/80\n",
            "13725/13725 [==============================] - 139s 10ms/sample - loss: 0.0212 - note_output_loss: 0.0119 - duration_output_loss: 0.0093 - note_output_acc: 0.9968 - duration_output_acc: 0.9977 - val_loss: 0.2988 - val_note_output_loss: 0.0819 - val_duration_output_loss: 0.2168 - val_note_output_acc: 0.9797 - val_duration_output_acc: 0.9489\n",
            "Epoch 24/80\n",
            "13725/13725 [==============================] - 139s 10ms/sample - loss: 0.0095 - note_output_loss: 0.0041 - duration_output_loss: 0.0053 - note_output_acc: 0.9986 - duration_output_acc: 0.9983 - val_loss: 0.1865 - val_note_output_loss: 0.0927 - val_duration_output_loss: 0.0939 - val_note_output_acc: 0.9784 - val_duration_output_acc: 0.9749\n",
            "Epoch 25/80\n",
            "13725/13725 [==============================] - 139s 10ms/sample - loss: 0.0086 - note_output_loss: 0.0054 - duration_output_loss: 0.0032 - note_output_acc: 0.9982 - duration_output_acc: 0.9988 - val_loss: 0.1761 - val_note_output_loss: 0.0697 - val_duration_output_loss: 0.1066 - val_note_output_acc: 0.9840 - val_duration_output_acc: 0.9718\n",
            "Epoch 26/80\n",
            "13725/13725 [==============================] - 139s 10ms/sample - loss: 0.0064 - note_output_loss: 0.0042 - duration_output_loss: 0.0022 - note_output_acc: 0.9985 - duration_output_acc: 0.9991 - val_loss: 0.1311 - val_note_output_loss: 0.0444 - val_duration_output_loss: 0.0867 - val_note_output_acc: 0.9889 - val_duration_output_acc: 0.9781\n",
            "Epoch 27/80\n",
            "13725/13725 [==============================] - 139s 10ms/sample - loss: 0.0124 - note_output_loss: 0.0043 - duration_output_loss: 0.0081 - note_output_acc: 0.9986 - duration_output_acc: 0.9982 - val_loss: 0.1662 - val_note_output_loss: 0.0783 - val_duration_output_loss: 0.0879 - val_note_output_acc: 0.9838 - val_duration_output_acc: 0.9753\n",
            "Epoch 28/80\n",
            "13725/13725 [==============================] - 139s 10ms/sample - loss: 0.0127 - note_output_loss: 0.0050 - duration_output_loss: 0.0076 - note_output_acc: 0.9983 - duration_output_acc: 0.9980 - val_loss: 0.1652 - val_note_output_loss: 0.0910 - val_duration_output_loss: 0.0741 - val_note_output_acc: 0.9832 - val_duration_output_acc: 0.9821\n",
            "Epoch 29/80\n",
            "13725/13725 [==============================] - 139s 10ms/sample - loss: 0.0141 - note_output_loss: 0.0070 - duration_output_loss: 0.0071 - note_output_acc: 0.9982 - duration_output_acc: 0.9980 - val_loss: 0.1710 - val_note_output_loss: 0.0735 - val_duration_output_loss: 0.0976 - val_note_output_acc: 0.9854 - val_duration_output_acc: 0.9740\n",
            "Epoch 30/80\n",
            "13725/13725 [==============================] - 138s 10ms/sample - loss: 0.0045 - note_output_loss: 0.0018 - duration_output_loss: 0.0027 - note_output_acc: 0.9993 - duration_output_acc: 0.9991 - val_loss: 0.1181 - val_note_output_loss: 0.0540 - val_duration_output_loss: 0.0641 - val_note_output_acc: 0.9871 - val_duration_output_acc: 0.9832\n",
            "Epoch 31/80\n",
            "13725/13725 [==============================] - 139s 10ms/sample - loss: 0.0046 - note_output_loss: 0.0032 - duration_output_loss: 0.0014 - note_output_acc: 0.9993 - duration_output_acc: 0.9996 - val_loss: 0.1413 - val_note_output_loss: 0.0609 - val_duration_output_loss: 0.0804 - val_note_output_acc: 0.9856 - val_duration_output_acc: 0.9784\n",
            "Epoch 32/80\n",
            "13725/13725 [==============================] - 139s 10ms/sample - loss: 0.0088 - note_output_loss: 0.0049 - duration_output_loss: 0.0039 - note_output_acc: 0.9988 - duration_output_acc: 0.9986 - val_loss: 0.7279 - val_note_output_loss: 0.1861 - val_duration_output_loss: 0.5416 - val_note_output_acc: 0.9644 - val_duration_output_acc: 0.9016\n",
            "Epoch 33/80\n",
            "13725/13725 [==============================] - 139s 10ms/sample - loss: 0.0118 - note_output_loss: 0.0050 - duration_output_loss: 0.0068 - note_output_acc: 0.9987 - duration_output_acc: 0.9986 - val_loss: 0.7704 - val_note_output_loss: 0.2097 - val_duration_output_loss: 0.5607 - val_note_output_acc: 0.9635 - val_duration_output_acc: 0.9266\n",
            "Epoch 34/80\n",
            "13725/13725 [==============================] - 139s 10ms/sample - loss: 0.0110 - note_output_loss: 0.0028 - duration_output_loss: 0.0083 - note_output_acc: 0.9993 - duration_output_acc: 0.9984 - val_loss: 0.3762 - val_note_output_loss: 0.1299 - val_duration_output_loss: 0.2463 - val_note_output_acc: 0.9742 - val_duration_output_acc: 0.9517\n",
            "Epoch 35/80\n",
            "13725/13725 [==============================] - 139s 10ms/sample - loss: 0.0052 - note_output_loss: 0.0036 - duration_output_loss: 0.0016 - note_output_acc: 0.9993 - duration_output_acc: 0.9993 - val_loss: 0.4349 - val_note_output_loss: 0.1805 - val_duration_output_loss: 0.2544 - val_note_output_acc: 0.9711 - val_duration_output_acc: 0.9504\n",
            "Epoch 36/80\n",
            "13725/13725 [==============================] - 139s 10ms/sample - loss: 0.0033 - note_output_loss: 0.0016 - duration_output_loss: 0.0017 - note_output_acc: 0.9993 - duration_output_acc: 0.9994 - val_loss: 0.3899 - val_note_output_loss: 0.1176 - val_duration_output_loss: 0.2723 - val_note_output_acc: 0.9757 - val_duration_output_acc: 0.9469\n",
            "Epoch 37/80\n",
            "13725/13725 [==============================] - 139s 10ms/sample - loss: 0.0124 - note_output_loss: 0.0060 - duration_output_loss: 0.0064 - note_output_acc: 0.9983 - duration_output_acc: 0.9984 - val_loss: 0.3466 - val_note_output_loss: 0.1569 - val_duration_output_loss: 0.1898 - val_note_output_acc: 0.9744 - val_duration_output_acc: 0.9642\n",
            "Epoch 38/80\n",
            "13696/13725 [============================>.] - ETA: 0s - loss: 0.0093 - note_output_loss: 0.0048 - duration_output_loss: 0.0045 - note_output_acc: 0.9985 - duration_output_acc: 0.9985\n",
            "Epoch 00038: ReduceLROnPlateau reducing learning rate to 9.000000427477062e-05.\n",
            "13725/13725 [==============================] - 139s 10ms/sample - loss: 0.0093 - note_output_loss: 0.0048 - duration_output_loss: 0.0045 - note_output_acc: 0.9985 - duration_output_acc: 0.9985 - val_loss: 0.3287 - val_note_output_loss: 0.1497 - val_duration_output_loss: 0.1791 - val_note_output_acc: 0.9711 - val_duration_output_acc: 0.9563\n",
            "Epoch 39/80\n",
            "13725/13725 [==============================] - 139s 10ms/sample - loss: 0.0056 - note_output_loss: 0.0032 - duration_output_loss: 0.0024 - note_output_acc: 0.9992 - duration_output_acc: 0.9993 - val_loss: 0.3483 - val_note_output_loss: 0.1603 - val_duration_output_loss: 0.1880 - val_note_output_acc: 0.9742 - val_duration_output_acc: 0.9600\n",
            "Epoch 40/80\n",
            "13725/13725 [==============================] - 139s 10ms/sample - loss: 0.0024 - note_output_loss: 7.3344e-04 - duration_output_loss: 0.0017 - note_output_acc: 0.9996 - duration_output_acc: 0.9996 - val_loss: 0.3031 - val_note_output_loss: 0.1535 - val_duration_output_loss: 0.1498 - val_note_output_acc: 0.9755 - val_duration_output_acc: 0.9709\n",
            "Epoch 41/80\n",
            "13725/13725 [==============================] - 139s 10ms/sample - loss: 0.0019 - note_output_loss: 6.6666e-04 - duration_output_loss: 0.0012 - note_output_acc: 0.9998 - duration_output_acc: 0.9994 - val_loss: 0.2461 - val_note_output_loss: 0.1261 - val_duration_output_loss: 0.1199 - val_note_output_acc: 0.9764 - val_duration_output_acc: 0.9753\n",
            "Epoch 00041: early stopping\n"
          ],
          "name": "stdout"
        }
      ]
    },
    {
      "cell_type": "code",
      "metadata": {
        "ExecuteTime": {
          "end_time": "2019-10-08T16:52:14.502348Z",
          "start_time": "2019-10-08T16:52:11.823057Z"
        },
        "id": "hLl1tk8FtFUZ",
        "colab_type": "code",
        "outputId": "194a0ae5-0464-4f79-daf3-2cea40ccce60",
        "colab": {
          "base_uri": "https://localhost:8080/",
          "height": 982
        }
      },
      "source": [
        "n_epochs = len(H.history['loss'])\n",
        "\n",
        "# plot the total loss, category loss, and color loss\n",
        "lossNames = [\"loss\", \"note_output_loss\", \"duration_output_loss\"]\n",
        "plt.style.use(\"ggplot\")\n",
        "(fig, ax) = plt.subplots(3, 1, figsize=(13, 13))\n",
        " \n",
        "# loop over the loss names\n",
        "for (i, l) in enumerate(lossNames):\n",
        "    # plot the loss for both the training and validation data\n",
        "    title = \"Loss for {}\".format(l) if l != \"loss\" else \"Total loss\"\n",
        "    ax[i].set_title(title)\n",
        "    ax[i].set_xlabel(\"Epoch #\")\n",
        "    ax[i].set_ylabel(\"Loss\")\n",
        "    ax[i].plot(np.arange(0, n_epochs), H.history[l], label=l)\n",
        "    ax[i].plot(np.arange(0, n_epochs), H.history[\"val_\" + l],\n",
        "        label=\"val_\" + l)\n",
        "    ax[i].legend()\n",
        " \n",
        "# save the losses figure and create a new figure for the accuracies\n",
        "plt.tight_layout()"
      ],
      "execution_count": 56,
      "outputs": [
        {
          "output_type": "execute_result",
          "data": {
            "text/plain": [
              "Text(0.5, 1.0, 'Total loss')"
            ]
          },
          "metadata": {
            "tags": []
          },
          "execution_count": 56
        },
        {
          "output_type": "execute_result",
          "data": {
            "text/plain": [
              "Text(0.5, 0, 'Epoch #')"
            ]
          },
          "metadata": {
            "tags": []
          },
          "execution_count": 56
        },
        {
          "output_type": "execute_result",
          "data": {
            "text/plain": [
              "Text(0, 0.5, 'Loss')"
            ]
          },
          "metadata": {
            "tags": []
          },
          "execution_count": 56
        },
        {
          "output_type": "execute_result",
          "data": {
            "text/plain": [
              "[<matplotlib.lines.Line2D at 0x7fc3be0db240>]"
            ]
          },
          "metadata": {
            "tags": []
          },
          "execution_count": 56
        },
        {
          "output_type": "execute_result",
          "data": {
            "text/plain": [
              "[<matplotlib.lines.Line2D at 0x7fc3be0a9390>]"
            ]
          },
          "metadata": {
            "tags": []
          },
          "execution_count": 56
        },
        {
          "output_type": "execute_result",
          "data": {
            "text/plain": [
              "<matplotlib.legend.Legend at 0x7fc3be0a9668>"
            ]
          },
          "metadata": {
            "tags": []
          },
          "execution_count": 56
        },
        {
          "output_type": "execute_result",
          "data": {
            "text/plain": [
              "Text(0.5, 1.0, 'Loss for note_output_loss')"
            ]
          },
          "metadata": {
            "tags": []
          },
          "execution_count": 56
        },
        {
          "output_type": "execute_result",
          "data": {
            "text/plain": [
              "Text(0.5, 0, 'Epoch #')"
            ]
          },
          "metadata": {
            "tags": []
          },
          "execution_count": 56
        },
        {
          "output_type": "execute_result",
          "data": {
            "text/plain": [
              "Text(0, 0.5, 'Loss')"
            ]
          },
          "metadata": {
            "tags": []
          },
          "execution_count": 56
        },
        {
          "output_type": "execute_result",
          "data": {
            "text/plain": [
              "[<matplotlib.lines.Line2D at 0x7fc3be057b00>]"
            ]
          },
          "metadata": {
            "tags": []
          },
          "execution_count": 56
        },
        {
          "output_type": "execute_result",
          "data": {
            "text/plain": [
              "[<matplotlib.lines.Line2D at 0x7fc3be057940>]"
            ]
          },
          "metadata": {
            "tags": []
          },
          "execution_count": 56
        },
        {
          "output_type": "execute_result",
          "data": {
            "text/plain": [
              "<matplotlib.legend.Legend at 0x7fc3be096588>"
            ]
          },
          "metadata": {
            "tags": []
          },
          "execution_count": 56
        },
        {
          "output_type": "execute_result",
          "data": {
            "text/plain": [
              "Text(0.5, 1.0, 'Loss for duration_output_loss')"
            ]
          },
          "metadata": {
            "tags": []
          },
          "execution_count": 56
        },
        {
          "output_type": "execute_result",
          "data": {
            "text/plain": [
              "Text(0.5, 0, 'Epoch #')"
            ]
          },
          "metadata": {
            "tags": []
          },
          "execution_count": 56
        },
        {
          "output_type": "execute_result",
          "data": {
            "text/plain": [
              "Text(0, 0.5, 'Loss')"
            ]
          },
          "metadata": {
            "tags": []
          },
          "execution_count": 56
        },
        {
          "output_type": "execute_result",
          "data": {
            "text/plain": [
              "[<matplotlib.lines.Line2D at 0x7fc3be02f860>]"
            ]
          },
          "metadata": {
            "tags": []
          },
          "execution_count": 56
        },
        {
          "output_type": "execute_result",
          "data": {
            "text/plain": [
              "[<matplotlib.lines.Line2D at 0x7fc3be02fac8>]"
            ]
          },
          "metadata": {
            "tags": []
          },
          "execution_count": 56
        },
        {
          "output_type": "execute_result",
          "data": {
            "text/plain": [
              "<matplotlib.legend.Legend at 0x7fc3be01ba90>"
            ]
          },
          "metadata": {
            "tags": []
          },
          "execution_count": 56
        },
        {
          "output_type": "display_data",
          "data": {
            "image/png": "[encoded data removed]",
            "text/plain": [
              "<Figure size 936x936 with 3 Axes>"
            ]
          },
          "metadata": {
            "tags": []
          }
        }
      ]
    },
    {
      "cell_type": "code",
      "metadata": {
        "ExecuteTime": {
          "end_time": "2019-10-12T08:48:06.400125Z",
          "start_time": "2019-10-12T08:48:06.336991Z"
        },
        "id": "_JL1ZOd2tFUc",
        "colab_type": "code",
        "outputId": "073ba7e1-b9de-4368-e910-fa0043fd9376",
        "colab": {
          "base_uri": "https://localhost:8080/",
          "height": 642
        }
      },
      "source": [
        "# create a new figure for the accuracies\n",
        "accuracyNames = [\"note_output_acc\", \"duration_output_acc\"]\n",
        "plt.style.use(\"ggplot\")\n",
        "(fig, ax) = plt.subplots(2, 1, figsize=(8, 8))\n",
        " \n",
        "# loop over the accuracy names\n",
        "for (i, l) in enumerate(accuracyNames):\n",
        "    # plot the loss for both the training and validation data\n",
        "    ax[i].set_title(\"Accuracy for {}\".format(l))\n",
        "    ax[i].set_xlabel(\"Epoch #\")\n",
        "    ax[i].set_ylabel(\"Accuracy\")\n",
        "    ax[i].plot(np.arange(0, n_epochs), H.history[l], label=l)\n",
        "    ax[i].plot(np.arange(0, n_epochs), H.history[\"val_\" + l],\n",
        "        label=\"val_\" + l)\n",
        "    ax[i].legend()\n",
        " \n",
        "# save the accuracies figure\n",
        "plt.tight_layout()"
      ],
      "execution_count": 57,
      "outputs": [
        {
          "output_type": "execute_result",
          "data": {
            "text/plain": [
              "Text(0.5, 1.0, 'Accuracy for note_output_acc')"
            ]
          },
          "metadata": {
            "tags": []
          },
          "execution_count": 57
        },
        {
          "output_type": "execute_result",
          "data": {
            "text/plain": [
              "Text(0.5, 0, 'Epoch #')"
            ]
          },
          "metadata": {
            "tags": []
          },
          "execution_count": 57
        },
        {
          "output_type": "execute_result",
          "data": {
            "text/plain": [
              "Text(0, 0.5, 'Accuracy')"
            ]
          },
          "metadata": {
            "tags": []
          },
          "execution_count": 57
        },
        {
          "output_type": "execute_result",
          "data": {
            "text/plain": [
              "[<matplotlib.lines.Line2D at 0x7fc3be015a20>]"
            ]
          },
          "metadata": {
            "tags": []
          },
          "execution_count": 57
        },
        {
          "output_type": "execute_result",
          "data": {
            "text/plain": [
              "[<matplotlib.lines.Line2D at 0x7fc3be015470>]"
            ]
          },
          "metadata": {
            "tags": []
          },
          "execution_count": 57
        },
        {
          "output_type": "execute_result",
          "data": {
            "text/plain": [
              "<matplotlib.legend.Legend at 0x7fc3be015dd8>"
            ]
          },
          "metadata": {
            "tags": []
          },
          "execution_count": 57
        },
        {
          "output_type": "execute_result",
          "data": {
            "text/plain": [
              "Text(0.5, 1.0, 'Accuracy for duration_output_acc')"
            ]
          },
          "metadata": {
            "tags": []
          },
          "execution_count": 57
        },
        {
          "output_type": "execute_result",
          "data": {
            "text/plain": [
              "Text(0.5, 0, 'Epoch #')"
            ]
          },
          "metadata": {
            "tags": []
          },
          "execution_count": 57
        },
        {
          "output_type": "execute_result",
          "data": {
            "text/plain": [
              "Text(0, 0.5, 'Accuracy')"
            ]
          },
          "metadata": {
            "tags": []
          },
          "execution_count": 57
        },
        {
          "output_type": "execute_result",
          "data": {
            "text/plain": [
              "[<matplotlib.lines.Line2D at 0x7fc3be015828>]"
            ]
          },
          "metadata": {
            "tags": []
          },
          "execution_count": 57
        },
        {
          "output_type": "execute_result",
          "data": {
            "text/plain": [
              "[<matplotlib.lines.Line2D at 0x7fc3be159128>]"
            ]
          },
          "metadata": {
            "tags": []
          },
          "execution_count": 57
        },
        {
          "output_type": "execute_result",
          "data": {
            "text/plain": [
              "<matplotlib.legend.Legend at 0x7fc3be159240>"
            ]
          },
          "metadata": {
            "tags": []
          },
          "execution_count": 57
        },
        {
          "output_type": "display_data",
          "data": {
            "image/png": "[encoded data removed]",
            "text/plain": [
              "<Figure size 576x576 with 2 Axes>"
            ]
          },
          "metadata": {
            "tags": []
          }
        }
      ]
    },
    {
      "cell_type": "markdown",
      "metadata": {
        "id": "Oj3BkIketFUh",
        "colab_type": "text"
      },
      "source": [
        "# Test Images"
      ]
    },
    {
      "cell_type": "code",
      "metadata": {
        "ExecuteTime": {
          "end_time": "2019-10-08T16:52:22.567379Z",
          "start_time": "2019-10-08T16:52:22.396907Z"
        },
        "id": "QWW7-fKvtFUh",
        "colab_type": "code",
        "colab": {}
      },
      "source": [
        "#Google Colab\n",
        "!unzip drive/My\\ Drive/testimages.zip"
      ],
      "execution_count": 0,
      "outputs": []
    },
    {
      "cell_type": "code",
      "metadata": {
        "ExecuteTime": {
          "end_time": "2019-10-08T16:52:34.637653Z",
          "start_time": "2019-10-08T16:52:34.469923Z"
        },
        "id": "I6rY0W4KtFUj",
        "colab_type": "code",
        "colab": {}
      },
      "source": [
        "folder_test = \"testimages/\"\n",
        "imagePaths = sorted(list(paths.list_images(folder_test)))\n",
        "\n",
        "##### Create list with arrays and labels of test images\n",
        "\n",
        "# initialize the data and labels\n",
        "images_test_original = []\n",
        "images_test = []\n",
        "data_test = []\n",
        "noteLabels_test = []\n",
        "durationLabels_test = []\n",
        "\n",
        "for imagePath in imagePaths:\n",
        "    image = cv2.imread(imagePath, cv2.IMREAD_GRAYSCALE)\n",
        "    images_test_original.append(image)\n",
        "    image = cv2.resize(image, (width, height))\n",
        "    ret1, image = cv2.threshold(image, 50,255,cv2.THRESH_BINARY+cv2.THRESH_OTSU)\n",
        "    image = cv2.cvtColor(image, cv2.COLOR_GRAY2RGB) #TL model needs colored, 3 channel images as input\n",
        "    image = ndimage.median_filter(image, size=2)\n",
        "    images_test.append(image)\n",
        "    image = image.astype(\"float\") / 255.0\n",
        "    image = img_to_array(image)\n",
        "    data_test.append(image)\n",
        "    \n",
        "    # extract set of class labels from the image path and update the labels\n",
        "    # update the respective lists\n",
        "    filename = imagePath.split(os.path.sep)[-1]\n",
        "    duration = re.search('(breve|longa|maxima|\\d\\.?)', filename).group()\n",
        "    note = re.search('([a-z]\\'*|^\\w{1}\\'*)', filename).group()\n",
        "    noteLabels_test.append(note)\n",
        "    durationLabels_test.append(duration)"
      ],
      "execution_count": 0,
      "outputs": []
    },
    {
      "cell_type": "code",
      "metadata": {
        "ExecuteTime": {
          "end_time": "2019-10-08T16:55:32.722436Z",
          "start_time": "2019-10-08T16:55:00.223920Z"
        },
        "id": "2Vr_bJ57tFUl",
        "colab_type": "code",
        "outputId": "6871229b-4b7a-4e65-c841-210811b1e88c",
        "colab": {
          "base_uri": "https://localhost:8080/",
          "height": 704
        }
      },
      "source": [
        "plotImages(images_test_original, 'test_original')"
      ],
      "execution_count": 59,
      "outputs": [
        {
          "output_type": "display_data",
          "data": {
            "image/png": "[encoded data removed]",
            "text/plain": [
              "<Figure size 1440x1440 with 10 Axes>"
            ]
          },
          "metadata": {
            "tags": []
          }
        }
      ]
    },
    {
      "cell_type": "code",
      "metadata": {
        "id": "eXGBH7iYtFUn",
        "colab_type": "code",
        "outputId": "17699ba3-0856-4322-915c-d1661006958b",
        "colab": {
          "base_uri": "https://localhost:8080/",
          "height": 280
        }
      },
      "source": [
        "plotImages(images_test, 'test_preprocessed')"
      ],
      "execution_count": 60,
      "outputs": [
        {
          "output_type": "display_data",
          "data": {
            "image/png": "[encoded data removed]",
            "text/plain": [
              "<Figure size 1440x1440 with 10 Axes>"
            ]
          },
          "metadata": {
            "tags": []
          }
        }
      ]
    },
    {
      "cell_type": "code",
      "metadata": {
        "id": "GFYkmMwvtFUo",
        "colab_type": "code",
        "colab": {}
      },
      "source": [
        "data_test = np.array(data_test)"
      ],
      "execution_count": 0,
      "outputs": []
    },
    {
      "cell_type": "code",
      "metadata": {
        "id": "59xOZOFXtFUq",
        "colab_type": "code",
        "outputId": "5e3a3a37-626f-45d2-870e-daa40f390337",
        "colab": {
          "base_uri": "https://localhost:8080/",
          "height": 34
        }
      },
      "source": [
        "set(noteLabels_test)\n",
        "set(durationLabels_test)\n",
        "len(set(map(len, (data_test, noteLabels_test, durationLabels_test)))) == 1 #check if length of lists is the same"
      ],
      "execution_count": 62,
      "outputs": [
        {
          "output_type": "execute_result",
          "data": {
            "text/plain": [
              "{\"a'\", \"b'\", \"c''\", \"d'\", \"d''\", \"e'\", \"e''\", \"f'\", \"f''\", \"g'\", \"g''\"}"
            ]
          },
          "metadata": {
            "tags": []
          },
          "execution_count": 62
        },
        {
          "output_type": "execute_result",
          "data": {
            "text/plain": [
              "{'1', '2', '4', '8', 'breve'}"
            ]
          },
          "metadata": {
            "tags": []
          },
          "execution_count": 62
        },
        {
          "output_type": "execute_result",
          "data": {
            "text/plain": [
              "True"
            ]
          },
          "metadata": {
            "tags": []
          },
          "execution_count": 62
        }
      ]
    },
    {
      "cell_type": "code",
      "metadata": {
        "ExecuteTime": {
          "end_time": "2019-10-09T08:00:08.513000Z",
          "start_time": "2019-10-09T08:00:08.272180Z"
        },
        "id": "z-kSZ-a-tFUr",
        "colab_type": "code",
        "colab": {}
      },
      "source": [
        "# convert the label lists to NumPy arrays prior to binarization\n",
        "noteLabels_test = np.array(noteLabels_test)\n",
        "durationLabels_test = np.array(durationLabels_test)\n",
        " \n",
        "# binarize both sets of labels\n",
        "noteLabels_test = noteLB.transform(noteLabels_test)\n",
        "durationLabels_test = durationLB.transform(durationLabels_test)"
      ],
      "execution_count": 0,
      "outputs": []
    },
    {
      "cell_type": "code",
      "metadata": {
        "id": "wg1KaO90tFUt",
        "colab_type": "code",
        "outputId": "60fef116-0fc1-43ef-fed7-1c009ba80442",
        "colab": {
          "base_uri": "https://localhost:8080/",
          "height": 824
        }
      },
      "source": [
        "# double check if testimages are correctly labeled\n",
        "\n",
        "noteLB.inverse_transform(noteLabels_test)[0]\n",
        "durationLB.inverse_transform(durationLabels_test)[0]\n",
        "\n",
        "plt.imshow(np.squeeze(data_test[0]), cmap = 'gray')\n",
        "plt.show()\n",
        "\n",
        "noteLB.inverse_transform(noteLabels_test)[1]\n",
        "durationLB.inverse_transform(durationLabels_test)[1]\n",
        "\n",
        "plt.imshow(np.squeeze(data_test[1]), cmap = 'gray')\n",
        "plt.show()\n",
        "\n",
        "noteLB.inverse_transform(noteLabels_test)[15]\n",
        "durationLB.inverse_transform(durationLabels_test)[15]\n",
        "\n",
        "plt.imshow(np.squeeze(data_test[15]), cmap = 'gray')\n",
        "plt.show()"
      ],
      "execution_count": 64,
      "outputs": [
        {
          "output_type": "execute_result",
          "data": {
            "text/plain": [
              "\"a'\""
            ]
          },
          "metadata": {
            "tags": []
          },
          "execution_count": 64
        },
        {
          "output_type": "execute_result",
          "data": {
            "text/plain": [
              "'1'"
            ]
          },
          "metadata": {
            "tags": []
          },
          "execution_count": 64
        },
        {
          "output_type": "execute_result",
          "data": {
            "text/plain": [
              "<matplotlib.image.AxesImage at 0x7fc3bd9e6160>"
            ]
          },
          "metadata": {
            "tags": []
          },
          "execution_count": 64
        },
        {
          "output_type": "display_data",
          "data": {
            "image/png": "[encoded data removed]",
            "text/plain": [
              "<Figure size 432x288 with 1 Axes>"
            ]
          },
          "metadata": {
            "tags": []
          }
        },
        {
          "output_type": "execute_result",
          "data": {
            "text/plain": [
              "\"a'\""
            ]
          },
          "metadata": {
            "tags": []
          },
          "execution_count": 64
        },
        {
          "output_type": "execute_result",
          "data": {
            "text/plain": [
              "'4'"
            ]
          },
          "metadata": {
            "tags": []
          },
          "execution_count": 64
        },
        {
          "output_type": "execute_result",
          "data": {
            "text/plain": [
              "<matplotlib.image.AxesImage at 0x7fc3bd9c29e8>"
            ]
          },
          "metadata": {
            "tags": []
          },
          "execution_count": 64
        },
        {
          "output_type": "display_data",
          "data": {
            "image/png": "[encoded data removed]",
            "text/plain": [
              "<Figure size 432x288 with 1 Axes>"
            ]
          },
          "metadata": {
            "tags": []
          }
        },
        {
          "output_type": "execute_result",
          "data": {
            "text/plain": [
              "\"d''\""
            ]
          },
          "metadata": {
            "tags": []
          },
          "execution_count": 64
        },
        {
          "output_type": "execute_result",
          "data": {
            "text/plain": [
              "'4'"
            ]
          },
          "metadata": {
            "tags": []
          },
          "execution_count": 64
        },
        {
          "output_type": "execute_result",
          "data": {
            "text/plain": [
              "<matplotlib.image.AxesImage at 0x7fc3bd929278>"
            ]
          },
          "metadata": {
            "tags": []
          },
          "execution_count": 64
        },
        {
          "output_type": "display_data",
          "data": {
            "image/png": "[encoded data removed]",
            "text/plain": [
              "<Figure size 432x288 with 1 Axes>"
            ]
          },
          "metadata": {
            "tags": []
          }
        }
      ]
    },
    {
      "cell_type": "code",
      "metadata": {
        "id": "NPyrXKg4tFUx",
        "colab_type": "code",
        "outputId": "a9879deb-114e-466c-d657-8445e21d3e6d",
        "colab": {
          "base_uri": "https://localhost:8080/",
          "height": 102
        }
      },
      "source": [
        "# classify test images with model\n",
        "scores = model.evaluate(data_test, [noteLabels_test, durationLabels_test], verbose=0)\n",
        "\n",
        "print(\"[INFO] Total Loss: {:.5f}\".format(scores[0]))  \n",
        "print(\"[INFO] Note Loss: {:.5f}\".format(scores[1])) \n",
        "print(\"[INFO] Duration Loss: {:.5f}\".format(scores[2]))  \n",
        "print(\"[INFO] Note Accuracy: {:.2f}%\".format(scores[3]*100)) \n",
        "print(\"[INFO] Duration Accuracy: {:.2f}%\".format(scores[4]*100)) "
      ],
      "execution_count": 65,
      "outputs": [
        {
          "output_type": "stream",
          "text": [
            "[INFO] Total Loss: 3.46711\n",
            "[INFO] Note Loss: 0.11379\n",
            "[INFO] Duration Loss: 3.35331\n",
            "[INFO] Note Accuracy: 96.67%\n",
            "[INFO] Duration Accuracy: 66.67%\n"
          ],
          "name": "stdout"
        }
      ]
    },
    {
      "cell_type": "code",
      "metadata": {
        "id": "uiEucppsWHjB",
        "colab_type": "code",
        "colab": {}
      },
      "source": [
        "note_pred, duration_pred = model.predict(data_test)\n",
        "notes_preds = noteLB.inverse_transform(note_pred)\n",
        "duration_preds = durationLB.inverse_transform(duration_pred)"
      ],
      "execution_count": 0,
      "outputs": []
    },
    {
      "cell_type": "code",
      "metadata": {
        "id": "i1o8j84jWKTK",
        "colab_type": "code",
        "colab": {}
      },
      "source": [
        "note_true, duration_true = noteLabels_test.argmax(axis=-1), durationLabels_test.argmax(axis=-1)\n",
        "note_pred, duration_pred = note_pred.argmax(axis=-1), duration_pred.argmax(axis=-1)"
      ],
      "execution_count": 0,
      "outputs": []
    },
    {
      "cell_type": "code",
      "metadata": {
        "id": "MurxXsogWN5T",
        "colab_type": "code",
        "colab": {
          "base_uri": "https://localhost:8080/",
          "height": 595
        },
        "outputId": "e920d8c0-b02f-42d8-a294-aad3fbf36c55"
      },
      "source": [
        "print(\"Classification report for notes\")\n",
        "print(classification_report(note_true, note_pred))\n",
        "\n",
        "print(\"\\nClassification report for duration\")\n",
        "print(classification_report(duration_true, duration_pred))"
      ],
      "execution_count": 69,
      "outputs": [
        {
          "output_type": "stream",
          "text": [
            "Classification report for notes\n",
            "              precision    recall  f1-score   support\n",
            "\n",
            "           0       1.00      1.00      1.00         3\n",
            "           1       1.00      0.80      0.89         5\n",
            "           2       1.00      1.00      1.00         4\n",
            "           3       0.50      1.00      0.67         1\n",
            "           4       1.00      1.00      1.00         4\n",
            "           5       1.00      1.00      1.00         3\n",
            "           6       1.00      1.00      1.00         4\n",
            "           7       1.00      1.00      1.00         1\n",
            "           8       1.00      1.00      1.00         1\n",
            "           9       1.00      1.00      1.00         3\n",
            "          10       1.00      1.00      1.00         1\n",
            "\n",
            "    accuracy                           0.97        30\n",
            "   macro avg       0.95      0.98      0.96        30\n",
            "weighted avg       0.98      0.97      0.97        30\n",
            "\n",
            "\n",
            "Classification report for duration\n",
            "              precision    recall  f1-score   support\n",
            "\n",
            "           0       1.00      1.00      1.00         7\n",
            "           1       0.64      1.00      0.78         9\n",
            "           2       1.00      0.11      0.20         9\n",
            "           3       0.40      0.67      0.50         3\n",
            "           4       1.00      0.50      0.67         2\n",
            "           5       0.00      0.00      0.00         0\n",
            "\n",
            "    accuracy                           0.67        30\n",
            "   macro avg       0.67      0.55      0.52        30\n",
            "weighted avg       0.83      0.67      0.62        30\n",
            "\n"
          ],
          "name": "stdout"
        }
      ]
    },
    {
      "cell_type": "code",
      "metadata": {
        "id": "Se_HD4f-pqwd",
        "colab_type": "code",
        "colab": {}
      },
      "source": [
        "model.save('TL_ResNet50V2.h5')"
      ],
      "execution_count": 0,
      "outputs": []
    }
  ]
}