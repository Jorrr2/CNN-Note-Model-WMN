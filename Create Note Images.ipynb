{
 "cells": [
  {
   "cell_type": "markdown",
   "metadata": {},
   "source": [
    "# Packages and Functions"
   ]
  },
  {
   "cell_type": "code",
   "execution_count": 4,
   "metadata": {
    "ExecuteTime": {
     "end_time": "2019-11-13T20:14:08.796186Z",
     "start_time": "2019-11-13T20:14:07.352952Z"
    }
   },
   "outputs": [],
   "source": [
    "##### All packages \n",
    "from __future__ import absolute_import, division, print_function, unicode_literals\n",
    "\n",
    "import numpy as np\n",
    "import imutils\n",
    "import cv2\n",
    "import random\n",
    "import pickle\n",
    "import os\n",
    "\n",
    "from PIL import Image\n",
    "from skimage import util\n",
    "from os import rename\n",
    "from subprocess import call\n",
    "from pathlib import Path\n",
    "from imutils import paths\n",
    "import matplotlib.pyplot as plt\n",
    "\n",
    "import warnings\n",
    "warnings.filterwarnings('ignore')\n",
    "\n",
    "from IPython.core.interactiveshell import InteractiveShell #multiple outputs in notebook\n",
    "InteractiveShell.ast_node_interactivity = \"all\"            #"
   ]
  },
  {
   "cell_type": "code",
   "execution_count": null,
   "metadata": {},
   "outputs": [],
   "source": [
    "print(tf.__version__)\n",
    "print(keras.backend.backend())"
   ]
  },
  {
   "cell_type": "code",
   "execution_count": 1,
   "metadata": {
    "ExecuteTime": {
     "end_time": "2019-11-13T20:13:55.891583Z",
     "start_time": "2019-11-13T20:13:55.878746Z"
    },
    "code_folding": [
     4,
     30,
     55,
     66,
     79,
     102
    ]
   },
   "outputs": [],
   "source": [
    "##### All Functions  \n",
    "\n",
    "# Functions for Creating Database\n",
    "\n",
    "def crop_image(left=100, right=275):\n",
    "    '''Crops the note images in the directory. The size of a note preview is 354x175.'''\n",
    "\n",
    "    for filename in os.listdir(temp_dir):\n",
    "\n",
    "            image = cv2.imread(temp_dir + filename, cv2.IMREAD_GRAYSCALE)\n",
    "            cropped = image[:, left:right]\n",
    "            filename = filename.split('.p')[0]  # correctly slice the filename\n",
    "            cv2.imwrite(os.path.join(complete_dataset, \"{}.png\".format(filename)), cropped)\n",
    "                                   \n",
    "def rotate_image(lower_bound=-3, upper_bound=3, steps=2):\n",
    "    '''Creates rotations of all images'''\n",
    "\n",
    "    for filename in os.listdir(temp_dir):\n",
    "        if filename.endswith(\".png\"):\n",
    "\n",
    "            image = cv2.imread(temp_dir + filename, cv2.IMREAD_GRAYSCALE)\n",
    "            (rows, cols) = image.shape[:2]\n",
    "\n",
    "            # getRotationMatrix2D creates a matrix needed for transformation.\n",
    "            # We want matrix for rotation w.r.t center to 45 degree without scaling.\n",
    "\n",
    "            for i in range(lower_bound, upper_bound + steps, steps):\n",
    "\n",
    "                M = cv2.getRotationMatrix2D((cols / 2, rows / 2), i, 1)\n",
    "                rot = cv2.warpAffine(image,\n",
    "                                     M, (cols, rows),\n",
    "                                     borderMode=cv2.BORDER_CONSTANT,\n",
    "                                     borderValue=(255, 255, 255))\n",
    "\n",
    "                # Write image back to disk.\n",
    "                cv2.imwrite(os.path.join(complete_dataset, \n",
    "                                         \"{}-rotate-{}.png\".format(filename.split('.png')[0], \n",
    "                                                                                  i)), rot)\n",
    "                \n",
    "def rename_files(directory):\n",
    "    \n",
    "    i = 1\n",
    "    for path in Path(directory).glob('**/*.*'):\n",
    "        new_name = path.parts[-1].split(\"-\")[0] + '_image_' + str(i) + '.png'\n",
    "        new_path = '/'.join(list(path.parts[:-1])+[new_name])\n",
    "        os.rename(str(path), new_path)\n",
    "        i += 1                 \n",
    "\n",
    "# Functions for CNN\n",
    "def plotImages(images_arr):\n",
    "    fig, axes = plt.subplots(1, 10, figsize=(20,20))\n",
    "    axes = axes.flatten()\n",
    "    for img, ax in zip( images_arr, axes):\n",
    "        ax.imshow(img, cmap = 'gray')\n",
    "        ax.axis('off')\n",
    "    plt.tight_layout()\n",
    "    plt.show()"
   ]
  },
  {
   "cell_type": "code",
   "execution_count": 6,
   "metadata": {
    "ExecuteTime": {
     "end_time": "2019-11-13T20:14:36.109238Z",
     "start_time": "2019-11-13T20:14:36.105931Z"
    },
    "code_folding": []
   },
   "outputs": [],
   "source": [
    "##### Paths \n",
    "dir_dataset = \"/Users/annaleid/Documents/Jordy/Cropped Kleur/\"\n",
    "directory = \"/Users/annaleid/Documents/Jordy/\"\n",
    "temp_dir = \"/Users/annaleid/Documents/Jordy/TempDataset/\"\n",
    "complete_dataset = \"/Users/annaleid/Documents/Jordy/Complete/\"\n",
    "models_dir = \"/Users/annaleid/Documents/Jordy/Trained Models/\""
   ]
  },
  {
   "cell_type": "markdown",
   "metadata": {},
   "source": [
    "# Creating Lilypond Database\n"
   ]
  },
  {
   "cell_type": "code",
   "execution_count": null,
   "metadata": {
    "code_folding": [
     0,
     4,
     43,
     82,
     121
    ]
   },
   "outputs": [],
   "source": [
    "##### lilypond file formatting functions \n",
    "\n",
    "'''With this code the image files in Lilypond are created'''\n",
    "\n",
    "def create_note_images():\n",
    "    \n",
    "    for i in notes:\n",
    "        for j in note_values:\n",
    "\n",
    "            my_file = \"{}{}.ly\".format(i,j) \n",
    "            writeFile = open(my_file, 'w')\n",
    "\n",
    "    #the following string is lilypond mark-up to create all notes with their durations\n",
    "\n",
    "            writeFile.write(\"\"\"\n",
    "\n",
    "            \\\\version \\\"2.18.2\\\"\\n\n",
    "            \\\\paper {\n",
    "            \\tline-width = 140\\mm\n",
    "            \\toddHeaderMarkup = \\\"\\\"\n",
    "            \\tevenHeaderMarkup = \\\"\\\"\n",
    "            \\toddFooterMarkup = \\\"\\\"\n",
    "            \\tevenFooterMarkup = \\\"\\\"\n",
    "            }\n",
    "            \\n\n",
    "            \\\\score {\n",
    "            \\t\\\\new Staff {\n",
    "            \\t\\t\\\\hide Staff.TimeSignature\n",
    "            \\t\\t\\\\hide Staff.Clef\n",
    "            \\t\\t%s%s}\n",
    "            \\n\n",
    "            \\layout {\n",
    "            \\t\\context {\n",
    "            \\t\\t\\Score\n",
    "            \\t\\t\\override NoteHead.style = #\\'petrucci\n",
    "            \\t\\t\\override SpacingSpanner.base-shortest-duration = #(ly:make-moment 1/32)\n",
    "            \\t\\t\\cadenzaOn}\n",
    "            \\t}\n",
    "            }\n",
    "            \"\"\" %(i,j))\n",
    "\n",
    "            writeFile.close()\n",
    "            \n",
    "def create_longer_note_images():\n",
    "    \n",
    "    for i in notes:\n",
    "        for j in longer_note_values:\n",
    "\n",
    "            my_file = \"{}{}.ly\".format(i,j)\n",
    "            writeFile = open(my_file, 'w')\n",
    "\n",
    "    #the following string is lilypond mark-up to create all notes with their durations\n",
    "\n",
    "            writeFile.write(\"\"\"\n",
    "\n",
    "            \\\\version \\\"2.18.2\\\"\\n\n",
    "            \\\\paper {\n",
    "            \\tline-width = 140\\mm\n",
    "            \\toddHeaderMarkup = \\\"\\\"\n",
    "            \\tevenHeaderMarkup = \\\"\\\"\n",
    "            \\toddFooterMarkup = \\\"\\\"\n",
    "            \\tevenFooterMarkup = \\\"\\\"\n",
    "            }\n",
    "            \\n\n",
    "            \\\\score {\n",
    "            \\t\\\\new Staff {\n",
    "            \\t\\t\\\\hide Staff.TimeSignature\n",
    "            \\t\\t\\\\hide Staff.Clef\n",
    "            \\t\\t%s\\\\%s}\n",
    "            \\n\n",
    "            \\layout {\n",
    "            \\t\\context {\n",
    "            \\t\\t\\Score\n",
    "            \\t\\t\\override NoteHead.style = #\\'petrucci\n",
    "            \\t\\t\\override SpacingSpanner.base-shortest-duration = #(ly:make-moment 1/32)\n",
    "            \\t\\t\\cadenzaOn}\n",
    "            \\t}\n",
    "            }\n",
    "            \"\"\" %(i,j))\n",
    "\n",
    "            writeFile.close()\n",
    "            \n",
    "def create_rest_images():\n",
    "   \n",
    "    for j in rests:\n",
    "\n",
    "        my_file = \"{}.ly\".format(j)\n",
    "        writeFile = open(my_file, 'w')\n",
    "\n",
    "    #the following string is lilypond mark-up to create all notes with their durations\n",
    "\n",
    "        writeFile.write(\"\"\"\n",
    "\n",
    "        \\\\version \\\"2.18.2\\\"\\n\n",
    "        \\\\paper {\n",
    "        \\tline-width = 140\\mm\n",
    "        \\toddHeaderMarkup = \\\"\\\"\n",
    "        \\tevenHeaderMarkup = \\\"\\\"\n",
    "        \\toddFooterMarkup = \\\"\\\"\n",
    "        \\tevenFooterMarkup = \\\"\\\"\n",
    "        }\n",
    "        \\n\n",
    "        \\\\score {\n",
    "        \\t\\\\new Staff {\n",
    "        \\t\\t\\\\hide Staff.TimeSignature\n",
    "        \\t\\t\\\\hide Staff.Clef\n",
    "        \\t\\t\\override Staff.Rest.style = #'mensural\n",
    "        \\t\\t%s}\n",
    "        \\n\n",
    "        \\layout {\n",
    "        \\t\\context {\n",
    "        \\t\\t\\Score\n",
    "        \\t\\t\\override NoteHead.style = #\\'petrucci\n",
    "        \\t\\t\\override SpacingSpanner.base-shortest-duration = #(ly:make-moment 1/32)\n",
    "        \\t\\t\\cadenzaOn}\n",
    "        \\t}\n",
    "        }\n",
    "        \"\"\" %(j))\n",
    "\n",
    "        writeFile.close()\n",
    "    \n",
    "def create_longer_rest_images():\n",
    "    \n",
    "    for j in longer_note_values:\n",
    "\n",
    "        my_file = \"{}.ly\".format(j)\n",
    "        writeFile = open(my_file, 'w')\n",
    "\n",
    "    #the following string is lilypond mark-up to create all notes with their durations\n",
    "\n",
    "        writeFile.write(\"\"\"\n",
    "\n",
    "        \\\\version \\\"2.18.2\\\"\\n\n",
    "        \\\\paper {\n",
    "        \\tline-width = 140\\mm\n",
    "        \\toddHeaderMarkup = \\\"\\\"\n",
    "        \\tevenHeaderMarkup = \\\"\\\"\n",
    "        \\toddFooterMarkup = \\\"\\\"\n",
    "        \\tevenFooterMarkup = \\\"\\\"\n",
    "        }\n",
    "        \\n\n",
    "        \\\\score {\n",
    "        \\t\\\\new Staff {\n",
    "        \\t\\t\\\\hide Staff.TimeSignature\n",
    "        \\t\\t\\\\hide Staff.Clef\n",
    "        \\t\\t\\override Staff.Rest.style = #'mensural\n",
    "        \\t\\t\\\\%s}\n",
    "        \\n\n",
    "        \\layout {\n",
    "        \\t\\context {\n",
    "        \\t\\t\\Score\n",
    "        \\t\\t\\override NoteHead.style = #\\'petrucci\n",
    "        \\t\\t\\override SpacingSpanner.base-shortest-duration = #(ly:make-moment 1/32)\n",
    "        \\t\\t\\cadenzaOn}\n",
    "        \\t}\n",
    "        }\n",
    "        \"\"\" %(j))\n",
    "\n",
    "        writeFile.close()\n",
    "    "
   ]
  },
  {
   "cell_type": "markdown",
   "metadata": {},
   "source": [
    "## Create Note Images\n"
   ]
  },
  {
   "cell_type": "code",
   "execution_count": null,
   "metadata": {
    "code_folding": [
     0
    ]
   },
   "outputs": [],
   "source": [
    "##### Create Individual Note Images\n",
    "\n",
    "# list with note names\n",
    "notes = ['b', \"c'\", \"d'\", \"e'\", \"f'\", \"g'\", \"a'\", \"b'\", \"c''\", \"d''\", \"e''\", \"f''\", \"g''\", \"a''\", \"b''\", \"c'''\"] \n",
    "# list with note durations\n",
    "note_values = [1, '1.', 2, '2.', 4, '4.'] \n",
    "# longer note names (different code due to issues with file names with backslashes)\n",
    "longer_note_values = ['maxima', 'breve', 'longa']\n",
    "# rest names\n",
    "rests = ['r1', 'r2', 'r4']"
   ]
  },
  {
   "cell_type": "code",
   "execution_count": null,
   "metadata": {
    "code_folding": [
     0
    ]
   },
   "outputs": [],
   "source": [
    "##### create lilypond files\n",
    "\n",
    "create_note_images()\n",
    "create_longer_note_images()\n",
    "# create_rest_images()\n",
    "# create_longer_rest_images()"
   ]
  },
  {
   "cell_type": "code",
   "execution_count": null,
   "metadata": {
    "code_folding": [
     0
    ]
   },
   "outputs": [],
   "source": [
    "##### create note images  \n",
    "\n",
    "for filename in os.listdir(directory):\n",
    "    if filename.endswith(\".ly\"):\n",
    "        \n",
    "        call(['lilypond', '-fpng', '-dpreview', '-dresolution=300', filename], shell = True)"
   ]
  },
  {
   "cell_type": "code",
   "execution_count": null,
   "metadata": {
    "code_folding": [
     0
    ]
   },
   "outputs": [],
   "source": [
    "##### keep image files, delete rest of the created files \n",
    "\n",
    "for filename in filter(os.path.isfile, os.listdir(directory)):\n",
    "    if filename.endswith(\".preview.png\"):\n",
    "        # move files to different directory to prevent overwriting\n",
    "        os.rename(directory + filename, temp_dir + filename)\n",
    "    elif not filename.endswith(\".ipynb\"):\n",
    "        os.remove(filename)"
   ]
  },
  {
   "cell_type": "code",
   "execution_count": null,
   "metadata": {
    "code_folding": [
     0
    ]
   },
   "outputs": [],
   "source": [
    "##### crop images \n",
    "\n",
    "crop_image(left=160, right=240)\n",
    "\n",
    "for filename in os.listdir(temp_dir):\n",
    "    if filename.endswith(\".preview.png\"):\n",
    "        os.remove(temp_dir + filename)\n",
    "        \n",
    "for filename in os.listdir(complete_dataset):\n",
    "    os.rename(complete_dataset + filename, temp_dir + filename.split('.png')[0] + '-.png')"
   ]
  },
  {
   "cell_type": "code",
   "execution_count": null,
   "metadata": {
    "code_folding": [
     0
    ]
   },
   "outputs": [],
   "source": [
    "##### rename image files in directory \n",
    "\n",
    "rename_files(temp_dir)"
   ]
  },
  {
   "cell_type": "code",
   "execution_count": 8,
   "metadata": {
    "ExecuteTime": {
     "end_time": "2019-11-13T20:15:26.231310Z",
     "start_time": "2019-11-13T20:15:25.788637Z"
    },
    "code_folding": []
   },
   "outputs": [
    {
     "data": {
      "image/png": "[encoded data removed]",
      "text/plain": [
       "<Figure size 1440x1440 with 10 Axes>"
      ]
     },
     "metadata": {
      "needs_background": "light"
     },
     "output_type": "display_data"
    }
   ],
   "source": [
    "##### Show example of image dataset\n",
    "\n",
    "# initialize image dimensions\n",
    "IMAGE_DIMS = (158, 80, 1)\n",
    "\n",
    "# grab the image paths and randomly shuffle them\n",
    "imagePaths = sorted(list(paths.list_images(dir_dataset)))\n",
    "random.seed(41)\n",
    "random.shuffle(imagePaths)\n",
    "\n",
    "# initialize the data and labels\n",
    "data = []\n",
    "\n",
    "# loop over the input images\n",
    "for imagePath in imagePaths[:10]:\n",
    "    image = cv2.imread(imagePath, cv2.IMREAD_GRAYSCALE)\n",
    "    image = cv2.resize(image, (IMAGE_DIMS[1], IMAGE_DIMS[0]))\n",
    "    data.append(image)\n",
    "\n",
    "plotImages(data)"
   ]
  },
  {
   "cell_type": "code",
   "execution_count": null,
   "metadata": {},
   "outputs": [],
   "source": []
  }
 ],
 "metadata": {
  "hide_input": false,
  "kernelspec": {
   "display_name": "Python 3",
   "language": "python",
   "name": "python3"
  },
  "language_info": {
   "codemirror_mode": {
    "name": "ipython",
    "version": 3
   },
   "file_extension": ".py",
   "mimetype": "text/x-python",
   "name": "python",
   "nbconvert_exporter": "python",
   "pygments_lexer": "ipython3",
   "version": "3.7.3"
  },
  "varInspector": {
   "cols": {
    "lenName": 16,
    "lenType": 16,
    "lenVar": 40
   },
   "kernels_config": {
    "python": {
     "delete_cmd_postfix": "",
     "delete_cmd_prefix": "del ",
     "library": "var_list.py",
     "varRefreshCmd": "print(var_dic_list())"
    },
    "r": {
     "delete_cmd_postfix": ") ",
     "delete_cmd_prefix": "rm(",
     "library": "var_list.r",
     "varRefreshCmd": "cat(var_dic_list()) "
    }
   },
   "types_to_exclude": [
    "module",
    "function",
    "builtin_function_or_method",
    "instance",
    "_Feature"
   ],
   "window_display": false
  }
 },
 "nbformat": 4,
 "nbformat_minor": 2
}
